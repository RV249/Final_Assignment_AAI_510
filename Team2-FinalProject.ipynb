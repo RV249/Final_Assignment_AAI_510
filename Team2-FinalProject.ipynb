{
 "cells": [
  {
   "cell_type": "code",
   "execution_count": 1,
   "id": "6be9386d-ebb5-4ee1-b14f-939419eb829e",
   "metadata": {},
   "outputs": [],
   "source": [
    "import pandas as pd\n",
    "import io\n",
    "import numpy as np \n",
    "import seaborn as sns\n",
    "import matplotlib.pyplot as plt #to allow subplot creation\n",
    "%matplotlib inline\n",
    "\n",
    "import plotly.graph_objs as go\n",
    "from plotly.offline import iplot\n",
    "import plotly.express as px\n",
    "\n",
    "import plotly.figure_factory as ff\n",
    "import plotly.graph_objects as go\n",
    "from tabulate import tabulate\n",
    "\n",
    "from sklearn import tree # Import Tree Classifiers\n",
    "from sklearn.ensemble import RandomForestClassifier # Import Random Forest Classifiers\n",
    "from sklearn.model_selection import train_test_split,  RandomizedSearchCV # Import train_test_split function\n",
    "from sklearn import metrics # Import scikit-learn metrics module for accuracy calculation\n",
    "from sklearn.preprocessing import LabelEncoder\n",
    "from scipy.stats import randint # Generate random numbers"
   ]
  },
  {
   "cell_type": "code",
   "execution_count": 2,
   "id": "6e5d3441-982b-4c84-ab0e-0122b4819d70",
   "metadata": {},
   "outputs": [
    {
     "name": "stdout",
     "output_type": "stream",
     "text": [
      "Skipping, found downloaded files in \".\\credit-card-approval-prediction\" (use force=True to force download)\n"
     ]
    }
   ],
   "source": [
    "import opendatasets as od\n",
    "od.download(\"https://www.kaggle.com/datasets/rikdifos/credit-card-approval-prediction?select=application_record.csv\")"
   ]
  },
  {
   "cell_type": "code",
   "execution_count": 3,
   "id": "8a53fde8-eeee-4c31-a8fa-fc4819a41058",
   "metadata": {},
   "outputs": [
    {
     "name": "stdout",
     "output_type": "stream",
     "text": [
      "Skipping, found downloaded files in \".\\credit-card-approval-prediction\" (use force=True to force download)\n"
     ]
    }
   ],
   "source": [
    "od.download(\"https://www.kaggle.com/datasets/rikdifos/credit-card-approval-prediction?select=credit_record.csv\")"
   ]
  },
  {
   "cell_type": "code",
   "execution_count": 4,
   "id": "5f2bebbd-2b26-4b68-82c2-6dc399883303",
   "metadata": {},
   "outputs": [],
   "source": [
    "df1 = pd.read_csv(\"credit-card-approval-prediction/application_record.csv\")\n",
    "df2 = pd.read_csv(\"credit-card-approval-prediction/credit_record.csv\")"
   ]
  },
  {
   "cell_type": "code",
   "execution_count": 5,
   "id": "5840ee12-b974-43f5-abca-78c544a98ed6",
   "metadata": {},
   "outputs": [
    {
     "data": {
      "text/html": [
       "<div>\n",
       "<style scoped>\n",
       "    .dataframe tbody tr th:only-of-type {\n",
       "        vertical-align: middle;\n",
       "    }\n",
       "\n",
       "    .dataframe tbody tr th {\n",
       "        vertical-align: top;\n",
       "    }\n",
       "\n",
       "    .dataframe thead th {\n",
       "        text-align: right;\n",
       "    }\n",
       "</style>\n",
       "<table border=\"1\" class=\"dataframe\">\n",
       "  <thead>\n",
       "    <tr style=\"text-align: right;\">\n",
       "      <th></th>\n",
       "      <th>ID</th>\n",
       "      <th>CODE_GENDER</th>\n",
       "      <th>FLAG_OWN_CAR</th>\n",
       "      <th>FLAG_OWN_REALTY</th>\n",
       "      <th>CNT_CHILDREN</th>\n",
       "      <th>AMT_INCOME_TOTAL</th>\n",
       "      <th>NAME_INCOME_TYPE</th>\n",
       "      <th>NAME_EDUCATION_TYPE</th>\n",
       "      <th>NAME_FAMILY_STATUS</th>\n",
       "      <th>NAME_HOUSING_TYPE</th>\n",
       "      <th>DAYS_BIRTH</th>\n",
       "      <th>DAYS_EMPLOYED</th>\n",
       "      <th>FLAG_MOBIL</th>\n",
       "      <th>FLAG_WORK_PHONE</th>\n",
       "      <th>FLAG_PHONE</th>\n",
       "      <th>FLAG_EMAIL</th>\n",
       "      <th>OCCUPATION_TYPE</th>\n",
       "      <th>CNT_FAM_MEMBERS</th>\n",
       "    </tr>\n",
       "  </thead>\n",
       "  <tbody>\n",
       "    <tr>\n",
       "      <th>0</th>\n",
       "      <td>5008804</td>\n",
       "      <td>M</td>\n",
       "      <td>Y</td>\n",
       "      <td>Y</td>\n",
       "      <td>0</td>\n",
       "      <td>427500.0</td>\n",
       "      <td>Working</td>\n",
       "      <td>Higher education</td>\n",
       "      <td>Civil marriage</td>\n",
       "      <td>Rented apartment</td>\n",
       "      <td>-12005</td>\n",
       "      <td>-4542</td>\n",
       "      <td>1</td>\n",
       "      <td>1</td>\n",
       "      <td>0</td>\n",
       "      <td>0</td>\n",
       "      <td>NaN</td>\n",
       "      <td>2.0</td>\n",
       "    </tr>\n",
       "    <tr>\n",
       "      <th>1</th>\n",
       "      <td>5008805</td>\n",
       "      <td>M</td>\n",
       "      <td>Y</td>\n",
       "      <td>Y</td>\n",
       "      <td>0</td>\n",
       "      <td>427500.0</td>\n",
       "      <td>Working</td>\n",
       "      <td>Higher education</td>\n",
       "      <td>Civil marriage</td>\n",
       "      <td>Rented apartment</td>\n",
       "      <td>-12005</td>\n",
       "      <td>-4542</td>\n",
       "      <td>1</td>\n",
       "      <td>1</td>\n",
       "      <td>0</td>\n",
       "      <td>0</td>\n",
       "      <td>NaN</td>\n",
       "      <td>2.0</td>\n",
       "    </tr>\n",
       "    <tr>\n",
       "      <th>2</th>\n",
       "      <td>5008806</td>\n",
       "      <td>M</td>\n",
       "      <td>Y</td>\n",
       "      <td>Y</td>\n",
       "      <td>0</td>\n",
       "      <td>112500.0</td>\n",
       "      <td>Working</td>\n",
       "      <td>Secondary / secondary special</td>\n",
       "      <td>Married</td>\n",
       "      <td>House / apartment</td>\n",
       "      <td>-21474</td>\n",
       "      <td>-1134</td>\n",
       "      <td>1</td>\n",
       "      <td>0</td>\n",
       "      <td>0</td>\n",
       "      <td>0</td>\n",
       "      <td>Security staff</td>\n",
       "      <td>2.0</td>\n",
       "    </tr>\n",
       "    <tr>\n",
       "      <th>3</th>\n",
       "      <td>5008808</td>\n",
       "      <td>F</td>\n",
       "      <td>N</td>\n",
       "      <td>Y</td>\n",
       "      <td>0</td>\n",
       "      <td>270000.0</td>\n",
       "      <td>Commercial associate</td>\n",
       "      <td>Secondary / secondary special</td>\n",
       "      <td>Single / not married</td>\n",
       "      <td>House / apartment</td>\n",
       "      <td>-19110</td>\n",
       "      <td>-3051</td>\n",
       "      <td>1</td>\n",
       "      <td>0</td>\n",
       "      <td>1</td>\n",
       "      <td>1</td>\n",
       "      <td>Sales staff</td>\n",
       "      <td>1.0</td>\n",
       "    </tr>\n",
       "    <tr>\n",
       "      <th>4</th>\n",
       "      <td>5008809</td>\n",
       "      <td>F</td>\n",
       "      <td>N</td>\n",
       "      <td>Y</td>\n",
       "      <td>0</td>\n",
       "      <td>270000.0</td>\n",
       "      <td>Commercial associate</td>\n",
       "      <td>Secondary / secondary special</td>\n",
       "      <td>Single / not married</td>\n",
       "      <td>House / apartment</td>\n",
       "      <td>-19110</td>\n",
       "      <td>-3051</td>\n",
       "      <td>1</td>\n",
       "      <td>0</td>\n",
       "      <td>1</td>\n",
       "      <td>1</td>\n",
       "      <td>Sales staff</td>\n",
       "      <td>1.0</td>\n",
       "    </tr>\n",
       "  </tbody>\n",
       "</table>\n",
       "</div>"
      ],
      "text/plain": [
       "        ID CODE_GENDER FLAG_OWN_CAR FLAG_OWN_REALTY  CNT_CHILDREN  \\\n",
       "0  5008804           M            Y               Y             0   \n",
       "1  5008805           M            Y               Y             0   \n",
       "2  5008806           M            Y               Y             0   \n",
       "3  5008808           F            N               Y             0   \n",
       "4  5008809           F            N               Y             0   \n",
       "\n",
       "   AMT_INCOME_TOTAL      NAME_INCOME_TYPE            NAME_EDUCATION_TYPE  \\\n",
       "0          427500.0               Working               Higher education   \n",
       "1          427500.0               Working               Higher education   \n",
       "2          112500.0               Working  Secondary / secondary special   \n",
       "3          270000.0  Commercial associate  Secondary / secondary special   \n",
       "4          270000.0  Commercial associate  Secondary / secondary special   \n",
       "\n",
       "     NAME_FAMILY_STATUS  NAME_HOUSING_TYPE  DAYS_BIRTH  DAYS_EMPLOYED  \\\n",
       "0        Civil marriage   Rented apartment      -12005          -4542   \n",
       "1        Civil marriage   Rented apartment      -12005          -4542   \n",
       "2               Married  House / apartment      -21474          -1134   \n",
       "3  Single / not married  House / apartment      -19110          -3051   \n",
       "4  Single / not married  House / apartment      -19110          -3051   \n",
       "\n",
       "   FLAG_MOBIL  FLAG_WORK_PHONE  FLAG_PHONE  FLAG_EMAIL OCCUPATION_TYPE  \\\n",
       "0           1                1           0           0             NaN   \n",
       "1           1                1           0           0             NaN   \n",
       "2           1                0           0           0  Security staff   \n",
       "3           1                0           1           1     Sales staff   \n",
       "4           1                0           1           1     Sales staff   \n",
       "\n",
       "   CNT_FAM_MEMBERS  \n",
       "0              2.0  \n",
       "1              2.0  \n",
       "2              2.0  \n",
       "3              1.0  \n",
       "4              1.0  "
      ]
     },
     "execution_count": 5,
     "metadata": {},
     "output_type": "execute_result"
    }
   ],
   "source": [
    "df1.head()"
   ]
  },
  {
   "cell_type": "code",
   "execution_count": 6,
   "id": "a801c7c0-96a5-4617-8efd-964857cf03ff",
   "metadata": {},
   "outputs": [
    {
     "data": {
      "text/html": [
       "<div>\n",
       "<style scoped>\n",
       "    .dataframe tbody tr th:only-of-type {\n",
       "        vertical-align: middle;\n",
       "    }\n",
       "\n",
       "    .dataframe tbody tr th {\n",
       "        vertical-align: top;\n",
       "    }\n",
       "\n",
       "    .dataframe thead th {\n",
       "        text-align: right;\n",
       "    }\n",
       "</style>\n",
       "<table border=\"1\" class=\"dataframe\">\n",
       "  <thead>\n",
       "    <tr style=\"text-align: right;\">\n",
       "      <th></th>\n",
       "      <th>ID</th>\n",
       "      <th>MONTHS_BALANCE</th>\n",
       "      <th>STATUS</th>\n",
       "    </tr>\n",
       "  </thead>\n",
       "  <tbody>\n",
       "    <tr>\n",
       "      <th>0</th>\n",
       "      <td>5001711</td>\n",
       "      <td>0</td>\n",
       "      <td>X</td>\n",
       "    </tr>\n",
       "    <tr>\n",
       "      <th>1</th>\n",
       "      <td>5001711</td>\n",
       "      <td>-1</td>\n",
       "      <td>0</td>\n",
       "    </tr>\n",
       "    <tr>\n",
       "      <th>2</th>\n",
       "      <td>5001711</td>\n",
       "      <td>-2</td>\n",
       "      <td>0</td>\n",
       "    </tr>\n",
       "    <tr>\n",
       "      <th>3</th>\n",
       "      <td>5001711</td>\n",
       "      <td>-3</td>\n",
       "      <td>0</td>\n",
       "    </tr>\n",
       "    <tr>\n",
       "      <th>4</th>\n",
       "      <td>5001712</td>\n",
       "      <td>0</td>\n",
       "      <td>C</td>\n",
       "    </tr>\n",
       "    <tr>\n",
       "      <th>5</th>\n",
       "      <td>5001712</td>\n",
       "      <td>-1</td>\n",
       "      <td>C</td>\n",
       "    </tr>\n",
       "    <tr>\n",
       "      <th>6</th>\n",
       "      <td>5001712</td>\n",
       "      <td>-2</td>\n",
       "      <td>C</td>\n",
       "    </tr>\n",
       "    <tr>\n",
       "      <th>7</th>\n",
       "      <td>5001712</td>\n",
       "      <td>-3</td>\n",
       "      <td>C</td>\n",
       "    </tr>\n",
       "    <tr>\n",
       "      <th>8</th>\n",
       "      <td>5001712</td>\n",
       "      <td>-4</td>\n",
       "      <td>C</td>\n",
       "    </tr>\n",
       "    <tr>\n",
       "      <th>9</th>\n",
       "      <td>5001712</td>\n",
       "      <td>-5</td>\n",
       "      <td>C</td>\n",
       "    </tr>\n",
       "  </tbody>\n",
       "</table>\n",
       "</div>"
      ],
      "text/plain": [
       "        ID  MONTHS_BALANCE STATUS\n",
       "0  5001711               0      X\n",
       "1  5001711              -1      0\n",
       "2  5001711              -2      0\n",
       "3  5001711              -3      0\n",
       "4  5001712               0      C\n",
       "5  5001712              -1      C\n",
       "6  5001712              -2      C\n",
       "7  5001712              -3      C\n",
       "8  5001712              -4      C\n",
       "9  5001712              -5      C"
      ]
     },
     "execution_count": 6,
     "metadata": {},
     "output_type": "execute_result"
    }
   ],
   "source": [
    "df2.head(10)"
   ]
  },
  {
   "cell_type": "code",
   "execution_count": 7,
   "id": "8c26e9b6-0066-4c34-9018-797e1f0ee726",
   "metadata": {},
   "outputs": [
    {
     "data": {
      "text/plain": [
       "ID                     438557\n",
       "CODE_GENDER            438557\n",
       "FLAG_OWN_CAR           438557\n",
       "FLAG_OWN_REALTY        438557\n",
       "CNT_CHILDREN           438557\n",
       "AMT_INCOME_TOTAL       438557\n",
       "NAME_INCOME_TYPE       438557\n",
       "NAME_EDUCATION_TYPE    438557\n",
       "NAME_FAMILY_STATUS     438557\n",
       "NAME_HOUSING_TYPE      438557\n",
       "DAYS_BIRTH             438557\n",
       "DAYS_EMPLOYED          438557\n",
       "FLAG_MOBIL             438557\n",
       "FLAG_WORK_PHONE        438557\n",
       "FLAG_PHONE             438557\n",
       "FLAG_EMAIL             438557\n",
       "OCCUPATION_TYPE        304354\n",
       "CNT_FAM_MEMBERS        438557\n",
       "dtype: int64"
      ]
     },
     "execution_count": 7,
     "metadata": {},
     "output_type": "execute_result"
    }
   ],
   "source": [
    "df1.count()"
   ]
  },
  {
   "cell_type": "code",
   "execution_count": 8,
   "id": "e169f9ad-803f-48cd-848c-00f546cbc43c",
   "metadata": {},
   "outputs": [
    {
     "data": {
      "text/plain": [
       "<AxesSubplot:ylabel='Frequency'>"
      ]
     },
     "execution_count": 8,
     "metadata": {},
     "output_type": "execute_result"
    },
    {
     "data": {
      "image/png": "[encoded data removed]",
      "text/plain": [
       "<Figure size 432x288 with 1 Axes>"
      ]
     },
     "metadata": {
      "needs_background": "light"
     },
     "output_type": "display_data"
    }
   ],
   "source": [
    "df1.plot.hist()"
   ]
  },
  {
   "cell_type": "code",
   "execution_count": 9,
   "id": "b8aace1b-ca3a-4b69-9871-ee8206fb0684",
   "metadata": {},
   "outputs": [
    {
     "name": "stdout",
     "output_type": "stream",
     "text": [
      "<class 'pandas.core.frame.DataFrame'>\n",
      "RangeIndex: 438557 entries, 0 to 438556\n",
      "Data columns (total 18 columns):\n",
      " #   Column               Non-Null Count   Dtype  \n",
      "---  ------               --------------   -----  \n",
      " 0   ID                   438557 non-null  int64  \n",
      " 1   CODE_GENDER          438557 non-null  object \n",
      " 2   FLAG_OWN_CAR         438557 non-null  object \n",
      " 3   FLAG_OWN_REALTY      438557 non-null  object \n",
      " 4   CNT_CHILDREN         438557 non-null  int64  \n",
      " 5   AMT_INCOME_TOTAL     438557 non-null  float64\n",
      " 6   NAME_INCOME_TYPE     438557 non-null  object \n",
      " 7   NAME_EDUCATION_TYPE  438557 non-null  object \n",
      " 8   NAME_FAMILY_STATUS   438557 non-null  object \n",
      " 9   NAME_HOUSING_TYPE    438557 non-null  object \n",
      " 10  DAYS_BIRTH           438557 non-null  int64  \n",
      " 11  DAYS_EMPLOYED        438557 non-null  int64  \n",
      " 12  FLAG_MOBIL           438557 non-null  int64  \n",
      " 13  FLAG_WORK_PHONE      438557 non-null  int64  \n",
      " 14  FLAG_PHONE           438557 non-null  int64  \n",
      " 15  FLAG_EMAIL           438557 non-null  int64  \n",
      " 16  OCCUPATION_TYPE      304354 non-null  object \n",
      " 17  CNT_FAM_MEMBERS      438557 non-null  float64\n",
      "dtypes: float64(2), int64(8), object(8)\n",
      "memory usage: 60.2+ MB\n"
     ]
    }
   ],
   "source": [
    "df1.info()"
   ]
  },
  {
   "cell_type": "code",
   "execution_count": 10,
   "id": "ed16dd70-18bf-42b7-b88d-a62e33df6ed4",
   "metadata": {},
   "outputs": [
    {
     "data": {
      "text/html": [
       "<div>\n",
       "<style scoped>\n",
       "    .dataframe tbody tr th:only-of-type {\n",
       "        vertical-align: middle;\n",
       "    }\n",
       "\n",
       "    .dataframe tbody tr th {\n",
       "        vertical-align: top;\n",
       "    }\n",
       "\n",
       "    .dataframe thead th {\n",
       "        text-align: right;\n",
       "    }\n",
       "</style>\n",
       "<table border=\"1\" class=\"dataframe\">\n",
       "  <thead>\n",
       "    <tr style=\"text-align: right;\">\n",
       "      <th></th>\n",
       "      <th>index</th>\n",
       "      <th>null count</th>\n",
       "      <th>unique value count</th>\n",
       "      <th>types</th>\n",
       "    </tr>\n",
       "  </thead>\n",
       "  <tbody>\n",
       "    <tr>\n",
       "      <th>0</th>\n",
       "      <td>ID</td>\n",
       "      <td>0</td>\n",
       "      <td>438510</td>\n",
       "      <td>int64</td>\n",
       "    </tr>\n",
       "    <tr>\n",
       "      <th>1</th>\n",
       "      <td>CODE_GENDER</td>\n",
       "      <td>0</td>\n",
       "      <td>2</td>\n",
       "      <td>object</td>\n",
       "    </tr>\n",
       "    <tr>\n",
       "      <th>2</th>\n",
       "      <td>FLAG_OWN_CAR</td>\n",
       "      <td>0</td>\n",
       "      <td>2</td>\n",
       "      <td>object</td>\n",
       "    </tr>\n",
       "    <tr>\n",
       "      <th>3</th>\n",
       "      <td>FLAG_OWN_REALTY</td>\n",
       "      <td>0</td>\n",
       "      <td>2</td>\n",
       "      <td>object</td>\n",
       "    </tr>\n",
       "    <tr>\n",
       "      <th>4</th>\n",
       "      <td>CNT_CHILDREN</td>\n",
       "      <td>0</td>\n",
       "      <td>12</td>\n",
       "      <td>int64</td>\n",
       "    </tr>\n",
       "    <tr>\n",
       "      <th>5</th>\n",
       "      <td>AMT_INCOME_TOTAL</td>\n",
       "      <td>0</td>\n",
       "      <td>866</td>\n",
       "      <td>float64</td>\n",
       "    </tr>\n",
       "    <tr>\n",
       "      <th>6</th>\n",
       "      <td>NAME_INCOME_TYPE</td>\n",
       "      <td>0</td>\n",
       "      <td>5</td>\n",
       "      <td>object</td>\n",
       "    </tr>\n",
       "    <tr>\n",
       "      <th>7</th>\n",
       "      <td>NAME_EDUCATION_TYPE</td>\n",
       "      <td>0</td>\n",
       "      <td>5</td>\n",
       "      <td>object</td>\n",
       "    </tr>\n",
       "    <tr>\n",
       "      <th>8</th>\n",
       "      <td>NAME_FAMILY_STATUS</td>\n",
       "      <td>0</td>\n",
       "      <td>5</td>\n",
       "      <td>object</td>\n",
       "    </tr>\n",
       "    <tr>\n",
       "      <th>9</th>\n",
       "      <td>NAME_HOUSING_TYPE</td>\n",
       "      <td>0</td>\n",
       "      <td>6</td>\n",
       "      <td>object</td>\n",
       "    </tr>\n",
       "    <tr>\n",
       "      <th>10</th>\n",
       "      <td>DAYS_BIRTH</td>\n",
       "      <td>0</td>\n",
       "      <td>16379</td>\n",
       "      <td>int64</td>\n",
       "    </tr>\n",
       "    <tr>\n",
       "      <th>11</th>\n",
       "      <td>DAYS_EMPLOYED</td>\n",
       "      <td>0</td>\n",
       "      <td>9406</td>\n",
       "      <td>int64</td>\n",
       "    </tr>\n",
       "    <tr>\n",
       "      <th>12</th>\n",
       "      <td>FLAG_MOBIL</td>\n",
       "      <td>0</td>\n",
       "      <td>1</td>\n",
       "      <td>int64</td>\n",
       "    </tr>\n",
       "    <tr>\n",
       "      <th>13</th>\n",
       "      <td>FLAG_WORK_PHONE</td>\n",
       "      <td>0</td>\n",
       "      <td>2</td>\n",
       "      <td>int64</td>\n",
       "    </tr>\n",
       "    <tr>\n",
       "      <th>14</th>\n",
       "      <td>FLAG_PHONE</td>\n",
       "      <td>0</td>\n",
       "      <td>2</td>\n",
       "      <td>int64</td>\n",
       "    </tr>\n",
       "    <tr>\n",
       "      <th>15</th>\n",
       "      <td>FLAG_EMAIL</td>\n",
       "      <td>0</td>\n",
       "      <td>2</td>\n",
       "      <td>int64</td>\n",
       "    </tr>\n",
       "    <tr>\n",
       "      <th>16</th>\n",
       "      <td>OCCUPATION_TYPE</td>\n",
       "      <td>134203</td>\n",
       "      <td>18</td>\n",
       "      <td>object</td>\n",
       "    </tr>\n",
       "    <tr>\n",
       "      <th>17</th>\n",
       "      <td>CNT_FAM_MEMBERS</td>\n",
       "      <td>0</td>\n",
       "      <td>13</td>\n",
       "      <td>float64</td>\n",
       "    </tr>\n",
       "  </tbody>\n",
       "</table>\n",
       "</div>"
      ],
      "text/plain": [
       "                  index null count unique value count    types\n",
       "0                    ID          0             438510    int64\n",
       "1           CODE_GENDER          0                  2   object\n",
       "2          FLAG_OWN_CAR          0                  2   object\n",
       "3       FLAG_OWN_REALTY          0                  2   object\n",
       "4          CNT_CHILDREN          0                 12    int64\n",
       "5      AMT_INCOME_TOTAL          0                866  float64\n",
       "6      NAME_INCOME_TYPE          0                  5   object\n",
       "7   NAME_EDUCATION_TYPE          0                  5   object\n",
       "8    NAME_FAMILY_STATUS          0                  5   object\n",
       "9     NAME_HOUSING_TYPE          0                  6   object\n",
       "10           DAYS_BIRTH          0              16379    int64\n",
       "11        DAYS_EMPLOYED          0               9406    int64\n",
       "12           FLAG_MOBIL          0                  1    int64\n",
       "13      FLAG_WORK_PHONE          0                  2    int64\n",
       "14           FLAG_PHONE          0                  2    int64\n",
       "15           FLAG_EMAIL          0                  2    int64\n",
       "16      OCCUPATION_TYPE     134203                 18   object\n",
       "17      CNT_FAM_MEMBERS          0                 13  float64"
      ]
     },
     "execution_count": 10,
     "metadata": {},
     "output_type": "execute_result"
    }
   ],
   "source": [
    "null_count = df1.isnull().sum().reset_index(name = \"null count\")\n",
    "unique_valuecount = df1.nunique().reset_index(name = \"unique value count\")\n",
    "datatypes = df1.dtypes.reset_index(name=\"types\")\n",
    "pd.set_option('display.max_rows', 500)\n",
    "pd.concat([null_count, unique_valuecount , datatypes], axis=1).T.drop_duplicates().T"
   ]
  },
  {
   "cell_type": "code",
   "execution_count": 11,
   "id": "5009534e-96ed-4388-9628-94bd103c2db1",
   "metadata": {},
   "outputs": [],
   "source": [
    "plt.rcParams['figure.facecolor'] = 'white'"
   ]
  },
  {
   "cell_type": "code",
   "execution_count": 12,
   "id": "e731155a-75bc-40e3-8c02-7a5f6b85fa59",
   "metadata": {},
   "outputs": [],
   "source": [
    "apprecprocess=df1.copy()\n",
    "credrecprocess=df2.copy()"
   ]
  },
  {
   "cell_type": "code",
   "execution_count": 13,
   "id": "2e0e00c6-85dd-451a-861b-16c7518a8690",
   "metadata": {},
   "outputs": [
    {
     "data": {
      "text/plain": [
       "438510"
      ]
     },
     "execution_count": 13,
     "metadata": {},
     "output_type": "execute_result"
    }
   ],
   "source": [
    "apprecprocess['ID'].nunique()"
   ]
  },
  {
   "cell_type": "markdown",
   "id": "a2f81f98-a513-473f-98fd-066d1f914b4e",
   "metadata": {},
   "source": [
    "the total rows are 438,557. This means it has duplicates"
   ]
  },
  {
   "cell_type": "code",
   "execution_count": 14,
   "id": "29d9d335-9a5a-40ef-87fc-beefcbef3a39",
   "metadata": {},
   "outputs": [],
   "source": [
    "apprecprocess = apprecprocess.drop_duplicates('ID', keep='last') \n",
    "# we identified that there are some duplicates in this dataset\n",
    "# we will be deleting those duplicates and will keep the last entry of the ID if its repeated."
   ]
  },
  {
   "cell_type": "code",
   "execution_count": 15,
   "id": "74501be1-ba14-4909-9e08-99b0c49b952a",
   "metadata": {},
   "outputs": [
    {
     "name": "stdout",
     "output_type": "stream",
     "text": [
      "<class 'pandas.core.frame.DataFrame'>\n",
      "RangeIndex: 1048575 entries, 0 to 1048574\n",
      "Data columns (total 3 columns):\n",
      " #   Column          Non-Null Count    Dtype \n",
      "---  ------          --------------    ----- \n",
      " 0   ID              1048575 non-null  int64 \n",
      " 1   MONTHS_BALANCE  1048575 non-null  int64 \n",
      " 2   STATUS          1048575 non-null  object\n",
      "dtypes: int64(2), object(1)\n",
      "memory usage: 24.0+ MB\n"
     ]
    }
   ],
   "source": [
    "credrecprocess.info()"
   ]
  },
  {
   "cell_type": "code",
   "execution_count": 16,
   "id": "26d893b3-73fa-4da1-9816-bc9f786eebdc",
   "metadata": {},
   "outputs": [
    {
     "data": {
      "text/plain": [
       "45985"
      ]
     },
     "execution_count": 16,
     "metadata": {},
     "output_type": "execute_result"
    }
   ],
   "source": [
    "credrecprocess['ID'].nunique() "
   ]
  },
  {
   "cell_type": "markdown",
   "id": "b5c8377b-ef94-4f56-82b7-4bf3a5d71181",
   "metadata": {},
   "source": [
    "this has around 46,000 unique rows as there are repeating entries for different monthly values and status."
   ]
  },
  {
   "cell_type": "code",
   "execution_count": 17,
   "id": "26113d1e-6182-48fc-be69-9d958fb25483",
   "metadata": {},
   "outputs": [
    {
     "data": {
      "text/plain": [
       "36457"
      ]
     },
     "execution_count": 17,
     "metadata": {},
     "output_type": "execute_result"
    }
   ],
   "source": [
    "# checking to see how many records match in two datasets\n",
    "len(set(credrecprocess['ID']).intersection(set(apprecprocess['ID']))) "
   ]
  },
  {
   "cell_type": "code",
   "execution_count": 18,
   "id": "9b14ab50-ae13-4a87-91c5-0c90999509dd",
   "metadata": {},
   "outputs": [
    {
     "data": {
      "text/html": [
       "<div>\n",
       "<style scoped>\n",
       "    .dataframe tbody tr th:only-of-type {\n",
       "        vertical-align: middle;\n",
       "    }\n",
       "\n",
       "    .dataframe tbody tr th {\n",
       "        vertical-align: top;\n",
       "    }\n",
       "\n",
       "    .dataframe thead th {\n",
       "        text-align: right;\n",
       "    }\n",
       "</style>\n",
       "<table border=\"1\" class=\"dataframe\">\n",
       "  <thead>\n",
       "    <tr style=\"text-align: right;\">\n",
       "      <th></th>\n",
       "      <th>ID</th>\n",
       "      <th>CODE_GENDER</th>\n",
       "      <th>FLAG_OWN_CAR</th>\n",
       "      <th>FLAG_OWN_REALTY</th>\n",
       "      <th>CNT_CHILDREN</th>\n",
       "      <th>AMT_INCOME_TOTAL</th>\n",
       "      <th>NAME_INCOME_TYPE</th>\n",
       "      <th>NAME_EDUCATION_TYPE</th>\n",
       "      <th>NAME_FAMILY_STATUS</th>\n",
       "      <th>NAME_HOUSING_TYPE</th>\n",
       "      <th>DAYS_BIRTH</th>\n",
       "      <th>DAYS_EMPLOYED</th>\n",
       "      <th>FLAG_MOBIL</th>\n",
       "      <th>FLAG_WORK_PHONE</th>\n",
       "      <th>FLAG_PHONE</th>\n",
       "      <th>FLAG_EMAIL</th>\n",
       "      <th>OCCUPATION_TYPE</th>\n",
       "      <th>CNT_FAM_MEMBERS</th>\n",
       "      <th>begin_month</th>\n",
       "    </tr>\n",
       "  </thead>\n",
       "  <tbody>\n",
       "    <tr>\n",
       "      <th>0</th>\n",
       "      <td>5008804</td>\n",
       "      <td>M</td>\n",
       "      <td>Y</td>\n",
       "      <td>Y</td>\n",
       "      <td>0</td>\n",
       "      <td>427500.0</td>\n",
       "      <td>Working</td>\n",
       "      <td>Higher education</td>\n",
       "      <td>Civil marriage</td>\n",
       "      <td>Rented apartment</td>\n",
       "      <td>-12005</td>\n",
       "      <td>-4542</td>\n",
       "      <td>1</td>\n",
       "      <td>1</td>\n",
       "      <td>0</td>\n",
       "      <td>0</td>\n",
       "      <td>NaN</td>\n",
       "      <td>2.0</td>\n",
       "      <td>-15.0</td>\n",
       "    </tr>\n",
       "    <tr>\n",
       "      <th>1</th>\n",
       "      <td>5008805</td>\n",
       "      <td>M</td>\n",
       "      <td>Y</td>\n",
       "      <td>Y</td>\n",
       "      <td>0</td>\n",
       "      <td>427500.0</td>\n",
       "      <td>Working</td>\n",
       "      <td>Higher education</td>\n",
       "      <td>Civil marriage</td>\n",
       "      <td>Rented apartment</td>\n",
       "      <td>-12005</td>\n",
       "      <td>-4542</td>\n",
       "      <td>1</td>\n",
       "      <td>1</td>\n",
       "      <td>0</td>\n",
       "      <td>0</td>\n",
       "      <td>NaN</td>\n",
       "      <td>2.0</td>\n",
       "      <td>-14.0</td>\n",
       "    </tr>\n",
       "    <tr>\n",
       "      <th>2</th>\n",
       "      <td>5008806</td>\n",
       "      <td>M</td>\n",
       "      <td>Y</td>\n",
       "      <td>Y</td>\n",
       "      <td>0</td>\n",
       "      <td>112500.0</td>\n",
       "      <td>Working</td>\n",
       "      <td>Secondary / secondary special</td>\n",
       "      <td>Married</td>\n",
       "      <td>House / apartment</td>\n",
       "      <td>-21474</td>\n",
       "      <td>-1134</td>\n",
       "      <td>1</td>\n",
       "      <td>0</td>\n",
       "      <td>0</td>\n",
       "      <td>0</td>\n",
       "      <td>Security staff</td>\n",
       "      <td>2.0</td>\n",
       "      <td>-29.0</td>\n",
       "    </tr>\n",
       "  </tbody>\n",
       "</table>\n",
       "</div>"
      ],
      "text/plain": [
       "        ID CODE_GENDER FLAG_OWN_CAR FLAG_OWN_REALTY  CNT_CHILDREN  \\\n",
       "0  5008804           M            Y               Y             0   \n",
       "1  5008805           M            Y               Y             0   \n",
       "2  5008806           M            Y               Y             0   \n",
       "\n",
       "   AMT_INCOME_TOTAL NAME_INCOME_TYPE            NAME_EDUCATION_TYPE  \\\n",
       "0          427500.0          Working               Higher education   \n",
       "1          427500.0          Working               Higher education   \n",
       "2          112500.0          Working  Secondary / secondary special   \n",
       "\n",
       "  NAME_FAMILY_STATUS  NAME_HOUSING_TYPE  DAYS_BIRTH  DAYS_EMPLOYED  \\\n",
       "0     Civil marriage   Rented apartment      -12005          -4542   \n",
       "1     Civil marriage   Rented apartment      -12005          -4542   \n",
       "2            Married  House / apartment      -21474          -1134   \n",
       "\n",
       "   FLAG_MOBIL  FLAG_WORK_PHONE  FLAG_PHONE  FLAG_EMAIL OCCUPATION_TYPE  \\\n",
       "0           1                1           0           0             NaN   \n",
       "1           1                1           0           0             NaN   \n",
       "2           1                0           0           0  Security staff   \n",
       "\n",
       "   CNT_FAM_MEMBERS  begin_month  \n",
       "0              2.0        -15.0  \n",
       "1              2.0        -14.0  \n",
       "2              2.0        -29.0  "
      ]
     },
     "execution_count": 18,
     "metadata": {},
     "output_type": "execute_result"
    }
   ],
   "source": [
    "# find all users' account open month.\n",
    "begin_month=pd.DataFrame(credrecprocess.groupby([\"ID\"])[\"MONTHS_BALANCE\"].agg(min))\n",
    "begin_month=begin_month.rename(columns={'MONTHS_BALANCE':'begin_month'}) \n",
    "appcredmergedata=pd.merge(apprecprocess,begin_month,how=\"left\",on=\"ID\") #merge to record data\n",
    "appcredmergedata.head(3)"
   ]
  },
  {
   "cell_type": "code",
   "execution_count": 19,
   "id": "76a176f0-4107-476c-a3c7-6ddd1dbf3149",
   "metadata": {},
   "outputs": [
    {
     "data": {
      "text/plain": [
       "8"
      ]
     },
     "execution_count": 19,
     "metadata": {},
     "output_type": "execute_result"
    }
   ],
   "source": [
    "credrecprocess['STATUS'].nunique() "
   ]
  },
  {
   "cell_type": "markdown",
   "id": "eaac9bb2-80bb-4e02-a66a-4790c0ca9824",
   "metadata": {},
   "source": [
    "As per the data dictionary, following values are expected in status columns : 0: 1-29 days past due 1: 30-59 days past due 2: 60-89 days overdue 3: 90-119 days overdue 4: 120-149 days overdue 5: Overdue or bad debts, write-offs for more than 150 days C: paid off that month X: No loan for the month"
   ]
  },
  {
   "cell_type": "code",
   "execution_count": 20,
   "id": "6c423882-c416-4755-9e8b-a04efc1a5aa1",
   "metadata": {},
   "outputs": [
    {
     "data": {
      "text/html": [
       "<div>\n",
       "<style scoped>\n",
       "    .dataframe tbody tr th:only-of-type {\n",
       "        vertical-align: middle;\n",
       "    }\n",
       "\n",
       "    .dataframe tbody tr th {\n",
       "        vertical-align: top;\n",
       "    }\n",
       "\n",
       "    .dataframe thead th {\n",
       "        text-align: right;\n",
       "    }\n",
       "</style>\n",
       "<table border=\"1\" class=\"dataframe\">\n",
       "  <thead>\n",
       "    <tr style=\"text-align: right;\">\n",
       "      <th></th>\n",
       "      <th>ID</th>\n",
       "      <th>MONTHS_BALANCE</th>\n",
       "      <th>STATUS</th>\n",
       "      <th>targetrisk</th>\n",
       "    </tr>\n",
       "  </thead>\n",
       "  <tbody>\n",
       "    <tr>\n",
       "      <th>0</th>\n",
       "      <td>5001711</td>\n",
       "      <td>0</td>\n",
       "      <td>X</td>\n",
       "      <td>None</td>\n",
       "    </tr>\n",
       "    <tr>\n",
       "      <th>1</th>\n",
       "      <td>5001711</td>\n",
       "      <td>-1</td>\n",
       "      <td>0</td>\n",
       "      <td>None</td>\n",
       "    </tr>\n",
       "    <tr>\n",
       "      <th>2</th>\n",
       "      <td>5001711</td>\n",
       "      <td>-2</td>\n",
       "      <td>0</td>\n",
       "      <td>None</td>\n",
       "    </tr>\n",
       "    <tr>\n",
       "      <th>3</th>\n",
       "      <td>5001711</td>\n",
       "      <td>-3</td>\n",
       "      <td>0</td>\n",
       "      <td>None</td>\n",
       "    </tr>\n",
       "    <tr>\n",
       "      <th>4</th>\n",
       "      <td>5001712</td>\n",
       "      <td>0</td>\n",
       "      <td>C</td>\n",
       "      <td>None</td>\n",
       "    </tr>\n",
       "  </tbody>\n",
       "</table>\n",
       "</div>"
      ],
      "text/plain": [
       "        ID  MONTHS_BALANCE STATUS targetrisk\n",
       "0  5001711               0      X       None\n",
       "1  5001711              -1      0       None\n",
       "2  5001711              -2      0       None\n",
       "3  5001711              -3      0       None\n",
       "4  5001712               0      C       None"
      ]
     },
     "execution_count": 20,
     "metadata": {},
     "output_type": "execute_result"
    }
   ],
   "source": [
    "#Creating a new column and considering all candidates with overdue as more than 90 days as possible risk\n",
    "credrecprocess['targetrisk'] = None\n",
    "credrecprocess['targetrisk'][credrecprocess['STATUS'] =='3']='Yes' \n",
    "credrecprocess['targetrisk'][credrecprocess['STATUS'] =='4']='Yes' \n",
    "credrecprocess['targetrisk'][credrecprocess['STATUS'] =='5']='Yes'\n",
    "credrecprocess.head()"
   ]
  },
  {
   "cell_type": "code",
   "execution_count": 21,
   "id": "09f7acb1-4f4d-4a23-9949-efddb87d18f2",
   "metadata": {},
   "outputs": [
    {
     "data": {
      "text/html": [
       "<div>\n",
       "<style scoped>\n",
       "    .dataframe tbody tr th:only-of-type {\n",
       "        vertical-align: middle;\n",
       "    }\n",
       "\n",
       "    .dataframe tbody tr th {\n",
       "        vertical-align: top;\n",
       "    }\n",
       "\n",
       "    .dataframe thead th {\n",
       "        text-align: right;\n",
       "    }\n",
       "</style>\n",
       "<table border=\"1\" class=\"dataframe\">\n",
       "  <thead>\n",
       "    <tr style=\"text-align: right;\">\n",
       "      <th></th>\n",
       "      <th>targetrisk</th>\n",
       "    </tr>\n",
       "    <tr>\n",
       "      <th>ID</th>\n",
       "      <th></th>\n",
       "    </tr>\n",
       "  </thead>\n",
       "  <tbody>\n",
       "    <tr>\n",
       "      <th>5001711</th>\n",
       "      <td>No</td>\n",
       "    </tr>\n",
       "    <tr>\n",
       "      <th>5001712</th>\n",
       "      <td>No</td>\n",
       "    </tr>\n",
       "    <tr>\n",
       "      <th>5001713</th>\n",
       "      <td>No</td>\n",
       "    </tr>\n",
       "  </tbody>\n",
       "</table>\n",
       "</div>"
      ],
      "text/plain": [
       "        targetrisk\n",
       "ID                \n",
       "5001711         No\n",
       "5001712         No\n",
       "5001713         No"
      ]
     },
     "execution_count": 21,
     "metadata": {},
     "output_type": "execute_result"
    }
   ],
   "source": [
    "credrecprocess1=credrecprocess.groupby('ID').count()\n",
    "credrecprocess1['targetrisk'][credrecprocess1['targetrisk'] > 0]='Yes' \n",
    "credrecprocess1['targetrisk'][credrecprocess1['targetrisk'] == 0]='No' \n",
    "credrecprocess1 = credrecprocess1[['targetrisk']]\n",
    "credrecprocess1.head(3)"
   ]
  },
  {
   "cell_type": "code",
   "execution_count": 22,
   "id": "6f60e36e-177e-434c-8ace-350d24320083",
   "metadata": {},
   "outputs": [],
   "source": [
    "# Merge  status with the main record dataframe where targetrisk = yes will get converted to 1 and No as 0 to avoid label encoding in future.\n",
    "appcredmergedata=pd.merge(appcredmergedata,credrecprocess1,how='inner',on='ID')\n",
    "appcredmergedata['targetrisk']=appcredmergedata['targetrisk']\n",
    "appcredmergedata.loc[appcredmergedata['targetrisk']=='Yes','targetrisk']=1\n",
    "appcredmergedata.loc[appcredmergedata['targetrisk']=='No','targetrisk']=0"
   ]
  },
  {
   "cell_type": "code",
   "execution_count": 23,
   "id": "d0d45ee0-ea5e-4cea-a6a5-b8ba1a0fdd20",
   "metadata": {},
   "outputs": [
    {
     "data": {
      "text/html": [
       "<div>\n",
       "<style scoped>\n",
       "    .dataframe tbody tr th:only-of-type {\n",
       "        vertical-align: middle;\n",
       "    }\n",
       "\n",
       "    .dataframe tbody tr th {\n",
       "        vertical-align: top;\n",
       "    }\n",
       "\n",
       "    .dataframe thead th {\n",
       "        text-align: right;\n",
       "    }\n",
       "</style>\n",
       "<table border=\"1\" class=\"dataframe\">\n",
       "  <thead>\n",
       "    <tr style=\"text-align: right;\">\n",
       "      <th></th>\n",
       "      <th>ID</th>\n",
       "      <th>CODE_GENDER</th>\n",
       "      <th>FLAG_OWN_CAR</th>\n",
       "      <th>FLAG_OWN_REALTY</th>\n",
       "      <th>CNT_CHILDREN</th>\n",
       "      <th>AMT_INCOME_TOTAL</th>\n",
       "      <th>NAME_INCOME_TYPE</th>\n",
       "      <th>NAME_EDUCATION_TYPE</th>\n",
       "      <th>NAME_FAMILY_STATUS</th>\n",
       "      <th>NAME_HOUSING_TYPE</th>\n",
       "      <th>DAYS_BIRTH</th>\n",
       "      <th>DAYS_EMPLOYED</th>\n",
       "      <th>FLAG_MOBIL</th>\n",
       "      <th>FLAG_WORK_PHONE</th>\n",
       "      <th>FLAG_PHONE</th>\n",
       "      <th>FLAG_EMAIL</th>\n",
       "      <th>OCCUPATION_TYPE</th>\n",
       "      <th>CNT_FAM_MEMBERS</th>\n",
       "      <th>begin_month</th>\n",
       "      <th>targetrisk</th>\n",
       "    </tr>\n",
       "  </thead>\n",
       "  <tbody>\n",
       "    <tr>\n",
       "      <th>0</th>\n",
       "      <td>5008804</td>\n",
       "      <td>M</td>\n",
       "      <td>Y</td>\n",
       "      <td>Y</td>\n",
       "      <td>0</td>\n",
       "      <td>427500.0</td>\n",
       "      <td>Working</td>\n",
       "      <td>Higher education</td>\n",
       "      <td>Civil marriage</td>\n",
       "      <td>Rented apartment</td>\n",
       "      <td>-12005</td>\n",
       "      <td>-4542</td>\n",
       "      <td>1</td>\n",
       "      <td>1</td>\n",
       "      <td>0</td>\n",
       "      <td>0</td>\n",
       "      <td>NaN</td>\n",
       "      <td>2.0</td>\n",
       "      <td>-15.0</td>\n",
       "      <td>0</td>\n",
       "    </tr>\n",
       "    <tr>\n",
       "      <th>1</th>\n",
       "      <td>5008805</td>\n",
       "      <td>M</td>\n",
       "      <td>Y</td>\n",
       "      <td>Y</td>\n",
       "      <td>0</td>\n",
       "      <td>427500.0</td>\n",
       "      <td>Working</td>\n",
       "      <td>Higher education</td>\n",
       "      <td>Civil marriage</td>\n",
       "      <td>Rented apartment</td>\n",
       "      <td>-12005</td>\n",
       "      <td>-4542</td>\n",
       "      <td>1</td>\n",
       "      <td>1</td>\n",
       "      <td>0</td>\n",
       "      <td>0</td>\n",
       "      <td>NaN</td>\n",
       "      <td>2.0</td>\n",
       "      <td>-14.0</td>\n",
       "      <td>0</td>\n",
       "    </tr>\n",
       "    <tr>\n",
       "      <th>2</th>\n",
       "      <td>5008806</td>\n",
       "      <td>M</td>\n",
       "      <td>Y</td>\n",
       "      <td>Y</td>\n",
       "      <td>0</td>\n",
       "      <td>112500.0</td>\n",
       "      <td>Working</td>\n",
       "      <td>Secondary / secondary special</td>\n",
       "      <td>Married</td>\n",
       "      <td>House / apartment</td>\n",
       "      <td>-21474</td>\n",
       "      <td>-1134</td>\n",
       "      <td>1</td>\n",
       "      <td>0</td>\n",
       "      <td>0</td>\n",
       "      <td>0</td>\n",
       "      <td>Security staff</td>\n",
       "      <td>2.0</td>\n",
       "      <td>-29.0</td>\n",
       "      <td>0</td>\n",
       "    </tr>\n",
       "    <tr>\n",
       "      <th>3</th>\n",
       "      <td>5008808</td>\n",
       "      <td>F</td>\n",
       "      <td>N</td>\n",
       "      <td>Y</td>\n",
       "      <td>0</td>\n",
       "      <td>270000.0</td>\n",
       "      <td>Commercial associate</td>\n",
       "      <td>Secondary / secondary special</td>\n",
       "      <td>Single / not married</td>\n",
       "      <td>House / apartment</td>\n",
       "      <td>-19110</td>\n",
       "      <td>-3051</td>\n",
       "      <td>1</td>\n",
       "      <td>0</td>\n",
       "      <td>1</td>\n",
       "      <td>1</td>\n",
       "      <td>Sales staff</td>\n",
       "      <td>1.0</td>\n",
       "      <td>-4.0</td>\n",
       "      <td>0</td>\n",
       "    </tr>\n",
       "    <tr>\n",
       "      <th>4</th>\n",
       "      <td>5008809</td>\n",
       "      <td>F</td>\n",
       "      <td>N</td>\n",
       "      <td>Y</td>\n",
       "      <td>0</td>\n",
       "      <td>270000.0</td>\n",
       "      <td>Commercial associate</td>\n",
       "      <td>Secondary / secondary special</td>\n",
       "      <td>Single / not married</td>\n",
       "      <td>House / apartment</td>\n",
       "      <td>-19110</td>\n",
       "      <td>-3051</td>\n",
       "      <td>1</td>\n",
       "      <td>0</td>\n",
       "      <td>1</td>\n",
       "      <td>1</td>\n",
       "      <td>Sales staff</td>\n",
       "      <td>1.0</td>\n",
       "      <td>-26.0</td>\n",
       "      <td>0</td>\n",
       "    </tr>\n",
       "  </tbody>\n",
       "</table>\n",
       "</div>"
      ],
      "text/plain": [
       "        ID CODE_GENDER FLAG_OWN_CAR FLAG_OWN_REALTY  CNT_CHILDREN  \\\n",
       "0  5008804           M            Y               Y             0   \n",
       "1  5008805           M            Y               Y             0   \n",
       "2  5008806           M            Y               Y             0   \n",
       "3  5008808           F            N               Y             0   \n",
       "4  5008809           F            N               Y             0   \n",
       "\n",
       "   AMT_INCOME_TOTAL      NAME_INCOME_TYPE            NAME_EDUCATION_TYPE  \\\n",
       "0          427500.0               Working               Higher education   \n",
       "1          427500.0               Working               Higher education   \n",
       "2          112500.0               Working  Secondary / secondary special   \n",
       "3          270000.0  Commercial associate  Secondary / secondary special   \n",
       "4          270000.0  Commercial associate  Secondary / secondary special   \n",
       "\n",
       "     NAME_FAMILY_STATUS  NAME_HOUSING_TYPE  DAYS_BIRTH  DAYS_EMPLOYED  \\\n",
       "0        Civil marriage   Rented apartment      -12005          -4542   \n",
       "1        Civil marriage   Rented apartment      -12005          -4542   \n",
       "2               Married  House / apartment      -21474          -1134   \n",
       "3  Single / not married  House / apartment      -19110          -3051   \n",
       "4  Single / not married  House / apartment      -19110          -3051   \n",
       "\n",
       "   FLAG_MOBIL  FLAG_WORK_PHONE  FLAG_PHONE  FLAG_EMAIL OCCUPATION_TYPE  \\\n",
       "0           1                1           0           0             NaN   \n",
       "1           1                1           0           0             NaN   \n",
       "2           1                0           0           0  Security staff   \n",
       "3           1                0           1           1     Sales staff   \n",
       "4           1                0           1           1     Sales staff   \n",
       "\n",
       "   CNT_FAM_MEMBERS  begin_month targetrisk  \n",
       "0              2.0        -15.0          0  \n",
       "1              2.0        -14.0          0  \n",
       "2              2.0        -29.0          0  \n",
       "3              1.0         -4.0          0  \n",
       "4              1.0        -26.0          0  "
      ]
     },
     "execution_count": 23,
     "metadata": {},
     "output_type": "execute_result"
    }
   ],
   "source": [
    "appcredmergedata.head()"
   ]
  },
  {
   "cell_type": "code",
   "execution_count": 24,
   "id": "3b126953-b310-44d1-8573-f357cc8aca3e",
   "metadata": {},
   "outputs": [
    {
     "name": "stdout",
     "output_type": "stream",
     "text": [
      "0    36155\n",
      "1      302\n",
      "Name: targetrisk, dtype: int64\n"
     ]
    },
    {
     "data": {
      "text/plain": [
       "0    0.991716\n",
       "1    0.008284\n",
       "Name: targetrisk, dtype: float64"
      ]
     },
     "execution_count": 24,
     "metadata": {},
     "output_type": "execute_result"
    }
   ],
   "source": [
    "print(appcredmergedata['targetrisk'].value_counts())\n",
    "appcredmergedata['targetrisk'].value_counts(normalize=True)"
   ]
  },
  {
   "cell_type": "markdown",
   "id": "1e5a4da9-9ec0-40a9-ad60-f788492f60a6",
   "metadata": {},
   "source": [
    "only records are at risk , which is low though it is also important to understand the factors affecting it and this can be associated with high numbers in terms of amount as well "
   ]
  },
  {
   "cell_type": "markdown",
   "id": "34356d5a-763b-4289-8fd4-58380784eaaf",
   "metadata": {},
   "source": [
    "## Feature Engineering"
   ]
  },
  {
   "cell_type": "code",
   "execution_count": 25,
   "id": "5404b097-e1d7-4d76-811d-4fec83d81a5c",
   "metadata": {},
   "outputs": [],
   "source": [
    "dfprocess=appcredmergedata.copy()"
   ]
  },
  {
   "cell_type": "code",
   "execution_count": 26,
   "id": "fbeae40d-bf75-40dd-8db6-4ded16250892",
   "metadata": {},
   "outputs": [],
   "source": [
    "dfprocess.rename(columns={'CODE_GENDER':'Gender','FLAG_OWN_CAR':'OwnCar','FLAG_OWN_REALTY':'OwnReality',\n",
    "                         'CNT_CHILDREN':'ChildCount','AMT_INCOME_TOTAL':'AnnualIncome',\n",
    "                         'NAME_EDUCATION_TYPE':'EducationType','NAME_FAMILY_STATUS':'FamilyStatus',\n",
    "                        'NAME_HOUSING_TYPE':'HousingType','FLAG_EMAIL':'EmailFlag',\n",
    "                         'NAME_INCOME_TYPE':'IncomeType','FLAG_WORK_PHONE':'WorkPhoneFlag',\n",
    "                         'FLAG_PHONE':'PhoneFlag','CNT_FAM_MEMBERS':'FamilySize',\n",
    "                        'OCCUPATION_TYPE':'OccupationType',\n",
    "                          'DAYS_BIRTH':'DaysBirth' , 'DAYS_EMPLOYED':'DaysEmployed' , 'FLAG_MOBIL': 'MobileFlag'\n",
    "                        },inplace=True)"
   ]
  },
  {
   "cell_type": "code",
   "execution_count": 27,
   "id": "b05fef64-1ad0-4915-a6bd-1bcbf479a22d",
   "metadata": {},
   "outputs": [
    {
     "data": {
      "text/html": [
       "<div>\n",
       "<style scoped>\n",
       "    .dataframe tbody tr th:only-of-type {\n",
       "        vertical-align: middle;\n",
       "    }\n",
       "\n",
       "    .dataframe tbody tr th {\n",
       "        vertical-align: top;\n",
       "    }\n",
       "\n",
       "    .dataframe thead th {\n",
       "        text-align: right;\n",
       "    }\n",
       "</style>\n",
       "<table border=\"1\" class=\"dataframe\">\n",
       "  <thead>\n",
       "    <tr style=\"text-align: right;\">\n",
       "      <th></th>\n",
       "      <th>ID</th>\n",
       "      <th>Gender</th>\n",
       "      <th>OwnCar</th>\n",
       "      <th>OwnReality</th>\n",
       "      <th>ChildCount</th>\n",
       "      <th>AnnualIncome</th>\n",
       "      <th>IncomeType</th>\n",
       "      <th>EducationType</th>\n",
       "      <th>FamilyStatus</th>\n",
       "      <th>HousingType</th>\n",
       "      <th>DaysBirth</th>\n",
       "      <th>DaysEmployed</th>\n",
       "      <th>MobileFlag</th>\n",
       "      <th>WorkPhoneFlag</th>\n",
       "      <th>PhoneFlag</th>\n",
       "      <th>EmailFlag</th>\n",
       "      <th>OccupationType</th>\n",
       "      <th>FamilySize</th>\n",
       "      <th>begin_month</th>\n",
       "      <th>targetrisk</th>\n",
       "    </tr>\n",
       "  </thead>\n",
       "  <tbody>\n",
       "    <tr>\n",
       "      <th>0</th>\n",
       "      <td>5008804</td>\n",
       "      <td>M</td>\n",
       "      <td>Y</td>\n",
       "      <td>Y</td>\n",
       "      <td>0</td>\n",
       "      <td>427500.0</td>\n",
       "      <td>Working</td>\n",
       "      <td>Higher education</td>\n",
       "      <td>Civil marriage</td>\n",
       "      <td>Rented apartment</td>\n",
       "      <td>-12005</td>\n",
       "      <td>-4542</td>\n",
       "      <td>1</td>\n",
       "      <td>1</td>\n",
       "      <td>0</td>\n",
       "      <td>0</td>\n",
       "      <td>NaN</td>\n",
       "      <td>2.0</td>\n",
       "      <td>-15.0</td>\n",
       "      <td>0</td>\n",
       "    </tr>\n",
       "    <tr>\n",
       "      <th>1</th>\n",
       "      <td>5008805</td>\n",
       "      <td>M</td>\n",
       "      <td>Y</td>\n",
       "      <td>Y</td>\n",
       "      <td>0</td>\n",
       "      <td>427500.0</td>\n",
       "      <td>Working</td>\n",
       "      <td>Higher education</td>\n",
       "      <td>Civil marriage</td>\n",
       "      <td>Rented apartment</td>\n",
       "      <td>-12005</td>\n",
       "      <td>-4542</td>\n",
       "      <td>1</td>\n",
       "      <td>1</td>\n",
       "      <td>0</td>\n",
       "      <td>0</td>\n",
       "      <td>NaN</td>\n",
       "      <td>2.0</td>\n",
       "      <td>-14.0</td>\n",
       "      <td>0</td>\n",
       "    </tr>\n",
       "  </tbody>\n",
       "</table>\n",
       "</div>"
      ],
      "text/plain": [
       "        ID Gender OwnCar OwnReality  ChildCount  AnnualIncome IncomeType  \\\n",
       "0  5008804      M      Y          Y           0      427500.0    Working   \n",
       "1  5008805      M      Y          Y           0      427500.0    Working   \n",
       "\n",
       "      EducationType    FamilyStatus       HousingType  DaysBirth  \\\n",
       "0  Higher education  Civil marriage  Rented apartment     -12005   \n",
       "1  Higher education  Civil marriage  Rented apartment     -12005   \n",
       "\n",
       "   DaysEmployed  MobileFlag  WorkPhoneFlag  PhoneFlag  EmailFlag  \\\n",
       "0         -4542           1              1          0          0   \n",
       "1         -4542           1              1          0          0   \n",
       "\n",
       "  OccupationType  FamilySize  begin_month targetrisk  \n",
       "0            NaN         2.0        -15.0          0  \n",
       "1            NaN         2.0        -14.0          0  "
      ]
     },
     "execution_count": 27,
     "metadata": {},
     "output_type": "execute_result"
    }
   ],
   "source": [
    "dfprocess.head(2)"
   ]
  },
  {
   "cell_type": "markdown",
   "id": "65cd2dfc-bfff-4d45-95a4-986563f9309e",
   "metadata": {},
   "source": [
    "##### Gender"
   ]
  },
  {
   "cell_type": "code",
   "execution_count": 28,
   "id": "f8d03c76-41cd-427c-a7dc-a170f7a7c9dd",
   "metadata": {},
   "outputs": [
    {
     "data": {
      "text/plain": [
       "array(['M', 'F'], dtype=object)"
      ]
     },
     "execution_count": 28,
     "metadata": {},
     "output_type": "execute_result"
    }
   ],
   "source": [
    "dfprocess['Gender'].unique() "
   ]
  },
  {
   "cell_type": "markdown",
   "id": "4892dd2d-0c6f-4b81-bcd4-0854d355f233",
   "metadata": {},
   "source": [
    "Here Gender has only 2 values hence easy to convert this to numeric value for model training and also, we will be converting this to type integer"
   ]
  },
  {
   "cell_type": "code",
   "execution_count": 29,
   "id": "22662443-4e9a-4e4e-b428-bc8427d17673",
   "metadata": {},
   "outputs": [],
   "source": [
    "dfprocess['Gender'] = dfprocess['Gender'].replace(['F','M'],[0,1])"
   ]
  },
  {
   "cell_type": "code",
   "execution_count": 30,
   "id": "e8ed4ffc-b7a6-4564-b9ce-9d450b93ca66",
   "metadata": {},
   "outputs": [],
   "source": [
    "dfprocess['Gender']=dfprocess['Gender'].astype('int64')"
   ]
  },
  {
   "cell_type": "markdown",
   "id": "b9e94357-aea7-4251-93d6-19926d5522bd",
   "metadata": {},
   "source": [
    "##### Having a car or not"
   ]
  },
  {
   "cell_type": "code",
   "execution_count": 31,
   "id": "327856b5-5bc2-4f40-bb8d-385d9a7c1957",
   "metadata": {},
   "outputs": [
    {
     "data": {
      "text/plain": [
       "array(['Y', 'N'], dtype=object)"
      ]
     },
     "execution_count": 31,
     "metadata": {},
     "output_type": "execute_result"
    }
   ],
   "source": [
    "dfprocess['OwnCar'].unique() "
   ]
  },
  {
   "cell_type": "code",
   "execution_count": 32,
   "id": "6174e1b6-6efd-4930-9d80-1a8f82390b49",
   "metadata": {},
   "outputs": [],
   "source": [
    "dfprocess['OwnCar'] = dfprocess['OwnCar'].replace(['N','Y'],[0,1])\n",
    "dfprocess['OwnCar']=dfprocess['OwnCar'].astype('int64')"
   ]
  },
  {
   "cell_type": "markdown",
   "id": "2c280b77-ac21-4b98-8686-aac5da8137fa",
   "metadata": {},
   "source": [
    "Here we have encoded N and Y as 0 and 1 respectively and converted the column into Integer type "
   ]
  },
  {
   "cell_type": "markdown",
   "id": "24077086-fca5-44ec-964c-f409f808805a",
   "metadata": {},
   "source": [
    "Similar to owncar column, OwnReality column will be updated"
   ]
  },
  {
   "cell_type": "code",
   "execution_count": 33,
   "id": "e5273701-4121-4878-8b9c-c691d07efea0",
   "metadata": {},
   "outputs": [],
   "source": [
    "dfprocess['OwnReality'] = dfprocess['OwnReality'].replace(['N','Y'],[0,1])\n",
    "dfprocess['OwnReality']=dfprocess['OwnReality'].astype('int64')"
   ]
  },
  {
   "cell_type": "code",
   "execution_count": 34,
   "id": "815be270-6323-4ebe-b38e-cf6b84cbeaf7",
   "metadata": {},
   "outputs": [
    {
     "name": "stdout",
     "output_type": "stream",
     "text": [
      "0    25709\n",
      "1    10748\n",
      "Name: PhoneFlag, dtype: int64\n"
     ]
    },
    {
     "data": {
      "text/plain": [
       "0    0.705187\n",
       "1    0.294813\n",
       "Name: PhoneFlag, dtype: float64"
      ]
     },
     "execution_count": 34,
     "metadata": {},
     "output_type": "execute_result"
    }
   ],
   "source": [
    "print(dfprocess['PhoneFlag'].value_counts())\n",
    "dfprocess['PhoneFlag'].value_counts(normalize=True)"
   ]
  },
  {
   "cell_type": "code",
   "execution_count": 35,
   "id": "c679aa02-2d99-4aff-8055-f481c5e3dfda",
   "metadata": {},
   "outputs": [
    {
     "name": "stdout",
     "output_type": "stream",
     "text": [
      "0    33186\n",
      "1     3271\n",
      "Name: EmailFlag, dtype: int64\n"
     ]
    },
    {
     "data": {
      "text/plain": [
       "0    0.910278\n",
       "1    0.089722\n",
       "Name: EmailFlag, dtype: float64"
      ]
     },
     "execution_count": 35,
     "metadata": {},
     "output_type": "execute_result"
    }
   ],
   "source": [
    "print(dfprocess['EmailFlag'].value_counts())\n",
    "dfprocess['EmailFlag'].value_counts(normalize=True)"
   ]
  },
  {
   "cell_type": "code",
   "execution_count": 36,
   "id": "9b666daf-14fc-4f32-80cb-16e6061c39bc",
   "metadata": {},
   "outputs": [
    {
     "name": "stdout",
     "output_type": "stream",
     "text": [
      "0    28235\n",
      "1     8222\n",
      "Name: WorkPhoneFlag, dtype: int64\n"
     ]
    },
    {
     "data": {
      "text/plain": [
       "0    0.774474\n",
       "1    0.225526\n",
       "Name: WorkPhoneFlag, dtype: float64"
      ]
     },
     "execution_count": 36,
     "metadata": {},
     "output_type": "execute_result"
    }
   ],
   "source": [
    "print(dfprocess['WorkPhoneFlag'].value_counts())\n",
    "dfprocess['WorkPhoneFlag'].value_counts(normalize=True)"
   ]
  },
  {
   "cell_type": "code",
   "execution_count": 37,
   "id": "8a85b778-aa31-4b7c-9691-2304e541da0d",
   "metadata": {},
   "outputs": [
    {
     "name": "stdout",
     "output_type": "stream",
     "text": [
      "1    36457\n",
      "Name: MobileFlag, dtype: int64\n"
     ]
    },
    {
     "data": {
      "text/plain": [
       "1    1.0\n",
       "Name: MobileFlag, dtype: float64"
      ]
     },
     "execution_count": 37,
     "metadata": {},
     "output_type": "execute_result"
    }
   ],
   "source": [
    "print(dfprocess['MobileFlag'].value_counts())\n",
    "dfprocess['MobileFlag'].value_counts(normalize=True)"
   ]
  },
  {
   "cell_type": "markdown",
   "id": "9be2cc79-610f-4841-baf8-f2dda0394e75",
   "metadata": {
    "tags": []
   },
   "source": [
    "### Continuous Variables"
   ]
  },
  {
   "cell_type": "code",
   "execution_count": 38,
   "id": "499357b3-b6f8-4f4e-a614-564b01468834",
   "metadata": {},
   "outputs": [
    {
     "data": {
      "text/plain": [
       "0     0.691253\n",
       "1     0.205502\n",
       "2     0.089311\n",
       "3     0.011493\n",
       "4     0.001728\n",
       "5     0.000549\n",
       "14    0.000082\n",
       "7     0.000055\n",
       "19    0.000027\n",
       "Name: ChildCount, dtype: float64"
      ]
     },
     "execution_count": 38,
     "metadata": {},
     "output_type": "execute_result"
    }
   ],
   "source": [
    "dfprocess['ChildCount'].value_counts(normalize=True)"
   ]
  },
  {
   "cell_type": "markdown",
   "id": "f1dc0066-5ee6-4d1d-bb4b-e9d99b6a8664",
   "metadata": {},
   "source": [
    "Here the percentage of child count more than 2 is pretty low hence we will club them together"
   ]
  },
  {
   "cell_type": "code",
   "execution_count": 39,
   "id": "fc9435b5-cdd7-4a84-b118-48ebb3ce40ad",
   "metadata": {},
   "outputs": [
    {
     "data": {
      "text/plain": [
       "0        25201\n",
       "1         7492\n",
       "2More     3764\n",
       "Name: ChildCount, dtype: int64"
      ]
     },
     "execution_count": 39,
     "metadata": {},
     "output_type": "execute_result"
    }
   ],
   "source": [
    "dfprocess.loc[dfprocess['ChildCount'] >= 2,'ChildCount']='2More'\n",
    "dfprocess['ChildCount'].value_counts()"
   ]
  },
  {
   "cell_type": "code",
   "execution_count": 40,
   "id": "824c783c-63a9-4ddc-8b40-bceb5f265b2b",
   "metadata": {},
   "outputs": [
    {
     "name": "stdout",
     "output_type": "stream",
     "text": [
      "(2.544, 18.18]      22460\n",
      "(18.18, 33.66]      11380\n",
      "(33.66, 49.14]       2099\n",
      "(49.14, 64.62]        274\n",
      "(64.62, 80.1]         165\n",
      "(80.1, 95.58]          58\n",
      "(95.58, 111.06]         4\n",
      "(111.06, 126.54]        3\n",
      "(126.54, 142.02]        6\n",
      "(142.02, 157.5]         8\n",
      "Name: AnnualIncome, dtype: int64\n"
     ]
    },
    {
     "data": {
      "text/plain": [
       "<AxesSubplot:ylabel='Frequency'>"
      ]
     },
     "execution_count": 40,
     "metadata": {},
     "output_type": "execute_result"
    },
    {
     "data": {
      "image/png": "[encoded data removed]",
      "text/plain": [
       "<Figure size 432x288 with 1 Axes>"
      ]
     },
     "metadata": {},
     "output_type": "display_data"
    }
   ],
   "source": [
    "# Categorizing annual incode in bins \n",
    "#dfprocess['AnnualIncome']=dfprocess['AnnualIncome'].astype(object)\n",
    "dfprocess['AnnualIncome'] = dfprocess['AnnualIncome']/10000 \n",
    "print(dfprocess['AnnualIncome'].value_counts(bins=10,sort=False))\n",
    "dfprocess['AnnualIncome'].plot(kind='hist',bins=50,density=True)"
   ]
  },
  {
   "cell_type": "code",
   "execution_count": 41,
   "id": "ccf60150-91e5-47ff-8f8c-5dc3cbffc11b",
   "metadata": {},
   "outputs": [],
   "source": [
    "dfprocess1=dfprocess.copy()"
   ]
  },
  {
   "cell_type": "markdown",
   "id": "4a36fccc-25df-4a3c-93f5-0a88f2e6f591",
   "metadata": {},
   "source": [
    "Reference: https://stackoverflow.com/questions/30211923/what-is-the-difference-between-pandas-qcut-and-pandas-cut"
   ]
  },
  {
   "cell_type": "code",
   "execution_count": 42,
   "id": "e0d161dc-bc8c-4efb-83f2-721cc7ab8b2d",
   "metadata": {},
   "outputs": [],
   "source": [
    "def createbins(dataframe, column_name, label_texts, option):\n",
    "    # Create a new column to store the bin labels\n",
    "    bin_column_name = column_name + '_bin'\n",
    "    \n",
    "    if option == 'quantile':\n",
    "        dataframe[bin_column_name] = pd.qcut(dataframe[column_name], q=len(label_texts), labels=label_texts)\n",
    "    elif option == 'equal-length':\n",
    "        dataframe[bin_column_name] = pd.cut(dataframe[column_name], bins=len(label_texts), labels=label_texts)\n",
    "    else:\n",
    "        raise ValueError(\"Invalid option. Please choose either 'quantile' or 'equal-length'.\")\n",
    "    \n",
    "    return dataframe\n"
   ]
  },
  {
   "cell_type": "code",
   "execution_count": 43,
   "id": "9fd2ecd7-92bd-4f45-92b5-08595f4d3bed",
   "metadata": {},
   "outputs": [],
   "source": [
    "#option = 'quantile'  # or 'equal-length'\n",
    "dfprocess1 = createbins(dfprocess1,'AnnualIncome', [\"low\",\"medium\", \"high\"], 'quantile')"
   ]
  },
  {
   "cell_type": "code",
   "execution_count": 44,
   "id": "ccac4ec8-a373-4247-8b19-caa422d7f2ae",
   "metadata": {},
   "outputs": [
    {
     "data": {
      "text/plain": [
       "low       14473\n",
       "high      11282\n",
       "medium    10702\n",
       "Name: AnnualIncome_bin, dtype: int64"
      ]
     },
     "execution_count": 44,
     "metadata": {},
     "output_type": "execute_result"
    }
   ],
   "source": [
    "dfprocess1['AnnualIncome_bin'].value_counts()"
   ]
  },
  {
   "cell_type": "markdown",
   "id": "e3049bef-dbe8-45db-a4ba-5cc1208dc7a3",
   "metadata": {},
   "source": [
    "Days_Birth / Age"
   ]
  },
  {
   "cell_type": "code",
   "execution_count": 47,
   "id": "3d955661-cccd-455a-ad76-4bbe1d17df19",
   "metadata": {},
   "outputs": [
    {
     "name": "stdout",
     "output_type": "stream",
     "text": [
      "(19.951, 24.8]    0.020243\n",
      "(24.8, 29.6]      0.114930\n",
      "(29.6, 34.4]      0.139836\n",
      "(34.4, 39.2]      0.146419\n",
      "(39.2, 44.0]      0.140796\n",
      "(44.0, 48.8]      0.094166\n",
      "(48.8, 53.6]      0.109444\n",
      "(53.6, 58.4]      0.106948\n",
      "(58.4, 63.2]      0.091286\n",
      "(63.2, 68.0]      0.035933\n",
      "Name: Age, dtype: float64\n"
     ]
    },
    {
     "data": {
      "text/plain": [
       "<AxesSubplot:ylabel='Frequency'>"
      ]
     },
     "execution_count": 47,
     "metadata": {},
     "output_type": "execute_result"
    },
    {
     "data": {
      "image/png": "[encoded data removed]",
      "text/plain": [
       "<Figure size 432x288 with 1 Axes>"
      ]
     },
     "metadata": {},
     "output_type": "display_data"
    }
   ],
   "source": [
    "dfprocess1['Age']=-(dfprocess1['DaysBirth'])//365\n",
    "print(dfprocess1['Age'].value_counts(bins=10,normalize=True,sort=False))\n",
    "dfprocess1['Age'].plot(kind='hist',bins=20,density=True)"
   ]
  },
  {
   "cell_type": "code",
   "execution_count": 67,
   "id": "6ece21a7-9acf-4be5-87f6-ecd4a2a642a7",
   "metadata": {},
   "outputs": [],
   "source": [
    "dfprocess2=dfprocess1.copy()"
   ]
  },
  {
   "cell_type": "code",
   "execution_count": 68,
   "id": "26c3ecf5-7372-46df-bf21-2b74517bb19e",
   "metadata": {},
   "outputs": [],
   "source": [
    "#option = 'quantile'  # or 'equal-length'\n",
    "dfprocess2 = createbins(dfprocess2,'Age', [\"0-20\",\"20-40\", \"40-60\",\"60-80\"], 'equal-length')"
   ]
  },
  {
   "cell_type": "code",
   "execution_count": 69,
   "id": "015dc554-b793-46c7-a870-ffe1b6bdaaeb",
   "metadata": {},
   "outputs": [
    {
     "data": {
      "text/plain": [
       "20-40    12582\n",
       "40-60     9737\n",
       "0-20      7915\n",
       "60-80     6223\n",
       "Name: Age_bin, dtype: int64"
      ]
     },
     "execution_count": 69,
     "metadata": {},
     "output_type": "execute_result"
    }
   ],
   "source": [
    "dfprocess2['Age_bin'].value_counts()"
   ]
  },
  {
   "cell_type": "code",
   "execution_count": 70,
   "id": "fa427392-040b-4fe3-9664-5dc21f751d2b",
   "metadata": {},
   "outputs": [
    {
     "data": {
      "text/plain": [
       "<AxesSubplot:ylabel='Frequency'>"
      ]
     },
     "execution_count": 70,
     "metadata": {},
     "output_type": "execute_result"
    },
    {
     "data": {
      "image/png": "[encoded data removed]",
      "text/plain": [
       "<Figure size 432x288 with 1 Axes>"
      ]
     },
     "metadata": {},
     "output_type": "display_data"
    }
   ],
   "source": [
    "dfprocess2['YearsEmployed']=-(dfprocess2['DaysEmployed'])//365\n",
    "dfprocess2[dfprocess2['YearsEmployed']<0] = np.nan # replace by na\n",
    "dfprocess2['YearsEmployed'].fillna(dfprocess2['YearsEmployed'].mean(),inplace=True) #replace na by mean\n",
    "dfprocess2['YearsEmployed'].plot(kind='hist',bins=20,density=True)"
   ]
  },
  {
   "cell_type": "code",
   "execution_count": 71,
   "id": "6ab4d1e9-a650-400f-a93a-dc5952679cbc",
   "metadata": {},
   "outputs": [],
   "source": [
    "#option = 'quantile'  # or 'equal-length'\n",
    "dfprocess2 = createbins(dfprocess2,'YearsEmployed', [\"0-15\",\"15-30\", \"30-45\",\"45-60\"], 'equal-length')"
   ]
  },
  {
   "cell_type": "code",
   "execution_count": 72,
   "id": "dbb077bc-c712-4097-9550-9f7bf8fc3791",
   "metadata": {},
   "outputs": [
    {
     "data": {
      "text/plain": [
       "0-15     30419\n",
       "15-30     4775\n",
       "30-45     1087\n",
       "45-60      176\n",
       "Name: YearsEmployed_bin, dtype: int64"
      ]
     },
     "execution_count": 72,
     "metadata": {},
     "output_type": "execute_result"
    }
   ],
   "source": [
    "dfprocess2['YearsEmployed_bin'].value_counts()"
   ]
  },
  {
   "cell_type": "markdown",
   "id": "f006a705-2713-45c6-94b1-309daadbb378",
   "metadata": {},
   "source": [
    "Family Size"
   ]
  },
  {
   "cell_type": "code",
   "execution_count": 73,
   "id": "bf9e7110-e0e3-43c1-82db-087dba0f7671",
   "metadata": {},
   "outputs": [
    {
     "data": {
      "text/plain": [
       "2.0     15389\n",
       "1.0      5151\n",
       "5.0       387\n",
       "3.0      6255\n",
       "4.0      3057\n",
       "6.0        58\n",
       "15.0        3\n",
       "7.0        19\n",
       "20.0        1\n",
       "9.0         2\n",
       "Name: FamilySize, dtype: int64"
      ]
     },
     "execution_count": 73,
     "metadata": {},
     "output_type": "execute_result"
    }
   ],
   "source": [
    "dfprocess2['FamilySize'].value_counts(sort=False)"
   ]
  },
  {
   "cell_type": "code",
   "execution_count": 74,
   "id": "ffaadd10-137c-4a6d-ba8d-7a61f325ec2d",
   "metadata": {},
   "outputs": [
    {
     "data": {
      "text/plain": [
       "2.0      15389\n",
       "1.0       5151\n",
       "3more     9782\n",
       "Name: FamilySizeGroup, dtype: int64"
      ]
     },
     "execution_count": 74,
     "metadata": {},
     "output_type": "execute_result"
    }
   ],
   "source": [
    "dfprocess2['FamilySizeGroup']=dfprocess2['FamilySize']\n",
    "dfprocess2.loc[dfprocess2['FamilySizeGroup']>=3,'FamilySizeGroup']='3more'\n",
    "dfprocess2['FamilySizeGroup'].value_counts(sort=False)"
   ]
  },
  {
   "cell_type": "code",
   "execution_count": 75,
   "id": "38bc5b14-fbb1-4f9b-af57-c947ef24273a",
   "metadata": {},
   "outputs": [],
   "source": [
    "dfprocess2['FamilySizeGroup']=dfprocess2['FamilySizeGroup'].astype(object)"
   ]
  },
  {
   "cell_type": "markdown",
   "id": "2a4ca5d3-ebfb-4a5d-8bfd-5cbcaf406d4a",
   "metadata": {
    "tags": []
   },
   "source": [
    "### Categorial Data"
   ]
  },
  {
   "cell_type": "code",
   "execution_count": 77,
   "id": "d53f3cbc-14ef-490e-8de2-620d5d97ccd2",
   "metadata": {},
   "outputs": [],
   "source": [
    "dfprocess3=dfprocess2.copy()"
   ]
  },
  {
   "cell_type": "code",
   "execution_count": 78,
   "id": "44ccd3db-9e95-4284-985e-a30acf5e1f41",
   "metadata": {},
   "outputs": [
    {
     "data": {
      "text/plain": [
       "Working                 18819\n",
       "Commercial associate     8490\n",
       "State servant            2985\n",
       "Student                    11\n",
       "Pensioner                  17\n",
       "Name: IncomeType, dtype: int64"
      ]
     },
     "execution_count": 78,
     "metadata": {},
     "output_type": "execute_result"
    }
   ],
   "source": [
    "dfprocess3['IncomeType'].value_counts(sort=False)"
   ]
  },
  {
   "cell_type": "code",
   "execution_count": 80,
   "id": "f71d7d00-61e8-46ea-bde8-f09972a37b7f",
   "metadata": {},
   "outputs": [
    {
     "data": {
      "text/plain": [
       "Working                 18819\n",
       "Commercial associate     8490\n",
       "State servant            3013\n",
       "Name: IncomeType, dtype: int64"
      ]
     },
     "execution_count": 80,
     "metadata": {},
     "output_type": "execute_result"
    }
   ],
   "source": [
    "dfprocess3.loc[dfprocess3['IncomeType']=='Pensioner','IncomeType']='State servant'\n",
    "dfprocess3.loc[dfprocess3['IncomeType']=='Student','IncomeType']='State servant'\n",
    "dfprocess3['IncomeType'].value_counts(sort=False)"
   ]
  },
  {
   "cell_type": "code",
   "execution_count": 81,
   "id": "cec0cc80-119f-4055-8a78-4961aa2f1093",
   "metadata": {},
   "outputs": [
    {
     "data": {
      "text/plain": [
       "Security staff            592\n",
       "Sales staff              3485\n",
       "Accountants              1241\n",
       "Laborers                 6211\n",
       "Managers                 3012\n",
       "Drivers                  2138\n",
       "Core staff               3591\n",
       "High skill tech staff    1383\n",
       "Cleaning staff            551\n",
       "Private service staff     344\n",
       "Cooking staff             655\n",
       "Low-skill Laborers        175\n",
       "Medicine staff           1207\n",
       "Secretaries               151\n",
       "Waiters/barmen staff      174\n",
       "HR staff                   85\n",
       "Realty agents              79\n",
       "IT staff                   60\n",
       "Name: OccupationType, dtype: int64"
      ]
     },
     "execution_count": 81,
     "metadata": {},
     "output_type": "execute_result"
    }
   ],
   "source": [
    "dfprocess3['OccupationType'].value_counts(sort=False)"
   ]
  },
  {
   "cell_type": "markdown",
   "id": "5e0f24be-6a2d-475d-99ba-012b0cc5534a",
   "metadata": {},
   "source": [
    "there is a wide variation in this field , hence will keep it as it is for now. may group it at later point"
   ]
  },
  {
   "cell_type": "code",
   "execution_count": 83,
   "id": "54dc50a3-6f57-49f5-b84b-123bd9011e53",
   "metadata": {},
   "outputs": [
    {
     "data": {
      "text/plain": [
       "Rented apartment         545\n",
       "House / apartment      26653\n",
       "Municipal apartment      951\n",
       "With parents            1771\n",
       "Co-op apartment          160\n",
       "Office apartment         242\n",
       "Name: HousingType, dtype: int64"
      ]
     },
     "execution_count": 83,
     "metadata": {},
     "output_type": "execute_result"
    }
   ],
   "source": [
    "dfprocess3['HousingType'].value_counts(sort=False)"
   ]
  },
  {
   "cell_type": "code",
   "execution_count": 84,
   "id": "77296501-8ec4-4324-8094-89cada6edcc1",
   "metadata": {},
   "outputs": [
    {
     "data": {
      "text/plain": [
       "Higher education                  8858\n",
       "Secondary / secondary special    19867\n",
       "Incomplete higher                 1352\n",
       "Lower secondary                    214\n",
       "Academic degree                     31\n",
       "Name: EducationType, dtype: int64"
      ]
     },
     "execution_count": 84,
     "metadata": {},
     "output_type": "execute_result"
    }
   ],
   "source": [
    "dfprocess3['EducationType'].value_counts(sort=False)"
   ]
  },
  {
   "cell_type": "code",
   "execution_count": 86,
   "id": "a8bbc8ae-1d4a-4c82-95f1-23b42080f46a",
   "metadata": {},
   "outputs": [
    {
     "data": {
      "text/plain": [
       "Civil marriage           2575\n",
       "Married                 21137\n",
       "Single / not married     4148\n",
       "Separated                1758\n",
       "Widow                     704\n",
       "Name: FamilyStatus, dtype: int64"
      ]
     },
     "execution_count": 86,
     "metadata": {},
     "output_type": "execute_result"
    }
   ],
   "source": [
    "dfprocess3['FamilyStatus'].value_counts(sort=False)"
   ]
  },
  {
   "cell_type": "code",
   "execution_count": 88,
   "id": "633a8314-7ac1-48b3-9434-5ebc29418886",
   "metadata": {},
   "outputs": [
    {
     "data": {
      "text/plain": [
       "4          ChildCount\n",
       "6          IncomeType\n",
       "7       EducationType\n",
       "8        FamilyStatus\n",
       "9         HousingType\n",
       "16     OccupationType\n",
       "19         targetrisk\n",
       "25    FamilySizeGroup\n",
       "Name: index, dtype: object"
      ]
     },
     "execution_count": 88,
     "metadata": {},
     "output_type": "execute_result"
    }
   ],
   "source": [
    "ot = pd.DataFrame(dfprocess3.dtypes =='object').reset_index()\n",
    "object_type = ot[ot[0] == True]['index']\n",
    "object_type"
   ]
  },
  {
   "cell_type": "code",
   "execution_count": 89,
   "id": "41e8f667-d8ae-4e01-9a36-32bbd67e7041",
   "metadata": {},
   "outputs": [
    {
     "data": {
      "text/plain": [
       "0                    ID\n",
       "1                Gender\n",
       "2                OwnCar\n",
       "3            OwnReality\n",
       "5          AnnualIncome\n",
       "10            DaysBirth\n",
       "11         DaysEmployed\n",
       "12           MobileFlag\n",
       "13        WorkPhoneFlag\n",
       "14            PhoneFlag\n",
       "15            EmailFlag\n",
       "17           FamilySize\n",
       "18          begin_month\n",
       "20     AnnualIncome_bin\n",
       "21                  Age\n",
       "22              Age_bin\n",
       "23        YearsEmployed\n",
       "24    YearsEmployed_bin\n",
       "Name: index, dtype: object"
      ]
     },
     "execution_count": 89,
     "metadata": {},
     "output_type": "execute_result"
    }
   ],
   "source": [
    "num_type = pd.DataFrame(dfprocess3.dtypes != 'object').reset_index().rename(columns =  {0:'yes/no'})\n",
    "num_type = num_type[num_type['yes/no'] ==True]['index']\n",
    "num_type"
   ]
  },
  {
   "cell_type": "code",
   "execution_count": 90,
   "id": "1d8b458c-29bf-4c4a-a766-778c847bb447",
   "metadata": {},
   "outputs": [],
   "source": [
    "dfprocessM1=dfprocess3.copy()"
   ]
  },
  {
   "cell_type": "code",
   "execution_count": 91,
   "id": "2c011ea7-0b1d-4755-be99-8e2a169ea9f4",
   "metadata": {},
   "outputs": [
    {
     "name": "stderr",
     "output_type": "stream",
     "text": [
      "C:\\Users\\shari\\anaconda3\\lib\\site-packages\\pandas\\core\\algorithms.py:798: FutureWarning:\n",
      "\n",
      "In a future version, the Index constructor will not infer numeric dtypes when passed object-dtype sequences (matching Series behavior)\n",
      "\n"
     ]
    },
    {
     "data": {
      "text/plain": [
       "(36457, 71)"
      ]
     },
     "execution_count": 91,
     "metadata": {},
     "output_type": "execute_result"
    }
   ],
   "source": [
    "#Converting categorial variables into Dummy / indicator variable\n",
    "dfprocessM1 = pd.get_dummies(dfprocessM1)\n",
    "dfprocessM1.shape"
   ]
  },
  {
   "cell_type": "code",
   "execution_count": 92,
   "id": "19c61cca-d306-444e-b053-f1865a7746ee",
   "metadata": {},
   "outputs": [],
   "source": [
    "dfprocessM1=dfprocessM1.dropna().reset_index(drop=True)"
   ]
  },
  {
   "cell_type": "code",
   "execution_count": null,
   "id": "68fd29d7-dfc2-4234-b231-d0660234ea63",
   "metadata": {},
   "outputs": [],
   "source": [
    "y=dfprocessM1.TARGET\n",
    "X=dfprocessM1.drop(columns=['TARGET'])\n",
    "\n",
    "#@title Splitting dataset into training set and test set\n",
    "X_train, X_test, y_train, y_test = train_test_split(X, y, test_size=0.3, random_state=1) # 70% training and 30% test"
   ]
  },
  {
   "cell_type": "code",
   "execution_count": 85,
   "id": "a4e15afa-49e8-4f46-be66-d9e467e9996a",
   "metadata": {},
   "outputs": [
    {
     "data": {
      "text/html": [
       "<div>\n",
       "<style scoped>\n",
       "    .dataframe tbody tr th:only-of-type {\n",
       "        vertical-align: middle;\n",
       "    }\n",
       "\n",
       "    .dataframe tbody tr th {\n",
       "        vertical-align: top;\n",
       "    }\n",
       "\n",
       "    .dataframe thead th {\n",
       "        text-align: right;\n",
       "    }\n",
       "</style>\n",
       "<table border=\"1\" class=\"dataframe\">\n",
       "  <thead>\n",
       "    <tr style=\"text-align: right;\">\n",
       "      <th></th>\n",
       "      <th>ID</th>\n",
       "      <th>Gender</th>\n",
       "      <th>OwnCar</th>\n",
       "      <th>OwnReality</th>\n",
       "      <th>ChildCount</th>\n",
       "      <th>AnnualIncome</th>\n",
       "      <th>IncomeType</th>\n",
       "      <th>EducationType</th>\n",
       "      <th>FamilyStatus</th>\n",
       "      <th>HousingType</th>\n",
       "      <th>...</th>\n",
       "      <th>OccupationType</th>\n",
       "      <th>FamilySize</th>\n",
       "      <th>begin_month</th>\n",
       "      <th>targetrisk</th>\n",
       "      <th>AnnualIncome_bin</th>\n",
       "      <th>Age</th>\n",
       "      <th>Age_bin</th>\n",
       "      <th>YearsEmployed</th>\n",
       "      <th>YearsEmployed_bin</th>\n",
       "      <th>FamilySizeGroup</th>\n",
       "    </tr>\n",
       "  </thead>\n",
       "  <tbody>\n",
       "    <tr>\n",
       "      <th>0</th>\n",
       "      <td>5008804.0</td>\n",
       "      <td>1.0</td>\n",
       "      <td>1.0</td>\n",
       "      <td>1.0</td>\n",
       "      <td>0</td>\n",
       "      <td>42.75</td>\n",
       "      <td>Working</td>\n",
       "      <td>Higher education</td>\n",
       "      <td>Civil marriage</td>\n",
       "      <td>Rented apartment</td>\n",
       "      <td>...</td>\n",
       "      <td>NaN</td>\n",
       "      <td>2.0</td>\n",
       "      <td>-15.0</td>\n",
       "      <td>0</td>\n",
       "      <td>high</td>\n",
       "      <td>32.0</td>\n",
       "      <td>0-20</td>\n",
       "      <td>12.0</td>\n",
       "      <td>15-30</td>\n",
       "      <td>2.0</td>\n",
       "    </tr>\n",
       "    <tr>\n",
       "      <th>1</th>\n",
       "      <td>5008805.0</td>\n",
       "      <td>1.0</td>\n",
       "      <td>1.0</td>\n",
       "      <td>1.0</td>\n",
       "      <td>0</td>\n",
       "      <td>42.75</td>\n",
       "      <td>Working</td>\n",
       "      <td>Higher education</td>\n",
       "      <td>Civil marriage</td>\n",
       "      <td>Rented apartment</td>\n",
       "      <td>...</td>\n",
       "      <td>NaN</td>\n",
       "      <td>2.0</td>\n",
       "      <td>-14.0</td>\n",
       "      <td>0</td>\n",
       "      <td>high</td>\n",
       "      <td>32.0</td>\n",
       "      <td>0-20</td>\n",
       "      <td>12.0</td>\n",
       "      <td>15-30</td>\n",
       "      <td>2.0</td>\n",
       "    </tr>\n",
       "  </tbody>\n",
       "</table>\n",
       "<p>2 rows × 26 columns</p>\n",
       "</div>"
      ],
      "text/plain": [
       "          ID  Gender  OwnCar  OwnReality ChildCount  AnnualIncome IncomeType  \\\n",
       "0  5008804.0     1.0     1.0         1.0          0         42.75    Working   \n",
       "1  5008805.0     1.0     1.0         1.0          0         42.75    Working   \n",
       "\n",
       "      EducationType    FamilyStatus       HousingType  ...  OccupationType  \\\n",
       "0  Higher education  Civil marriage  Rented apartment  ...             NaN   \n",
       "1  Higher education  Civil marriage  Rented apartment  ...             NaN   \n",
       "\n",
       "   FamilySize  begin_month  targetrisk  AnnualIncome_bin   Age Age_bin  \\\n",
       "0         2.0        -15.0           0              high  32.0    0-20   \n",
       "1         2.0        -14.0           0              high  32.0    0-20   \n",
       "\n",
       "   YearsEmployed  YearsEmployed_bin FamilySizeGroup  \n",
       "0           12.0              15-30             2.0  \n",
       "1           12.0              15-30             2.0  \n",
       "\n",
       "[2 rows x 26 columns]"
      ]
     },
     "execution_count": 85,
     "metadata": {},
     "output_type": "execute_result"
    }
   ],
   "source": [
    "dfprocess3.head(2)"
   ]
  },
  {
   "cell_type": "code",
   "execution_count": 87,
   "id": "f358d48c-1ec3-4177-8f87-580f2c6a796b",
   "metadata": {},
   "outputs": [
    {
     "name": "stdout",
     "output_type": "stream",
     "text": [
      "<class 'pandas.core.frame.DataFrame'>\n",
      "Int64Index: 36457 entries, 0 to 36456\n",
      "Data columns (total 26 columns):\n",
      " #   Column             Non-Null Count  Dtype   \n",
      "---  ------             --------------  -----   \n",
      " 0   ID                 30322 non-null  float64 \n",
      " 1   Gender             30322 non-null  float64 \n",
      " 2   OwnCar             30322 non-null  float64 \n",
      " 3   OwnReality         30322 non-null  float64 \n",
      " 4   ChildCount         30322 non-null  object  \n",
      " 5   AnnualIncome       30322 non-null  float64 \n",
      " 6   IncomeType         30322 non-null  object  \n",
      " 7   EducationType      30322 non-null  object  \n",
      " 8   FamilyStatus       30322 non-null  object  \n",
      " 9   HousingType        30322 non-null  object  \n",
      " 10  DaysBirth          30322 non-null  float64 \n",
      " 11  DaysEmployed       30322 non-null  float64 \n",
      " 12  MobileFlag         30322 non-null  float64 \n",
      " 13  WorkPhoneFlag      30322 non-null  float64 \n",
      " 14  PhoneFlag          30322 non-null  float64 \n",
      " 15  EmailFlag          30322 non-null  float64 \n",
      " 16  OccupationType     25134 non-null  object  \n",
      " 17  FamilySize         30322 non-null  float64 \n",
      " 18  begin_month        30322 non-null  float64 \n",
      " 19  targetrisk         30322 non-null  object  \n",
      " 20  AnnualIncome_bin   30322 non-null  category\n",
      " 21  Age                30322 non-null  float64 \n",
      " 22  Age_bin            30322 non-null  category\n",
      " 23  YearsEmployed      36457 non-null  float64 \n",
      " 24  YearsEmployed_bin  36457 non-null  category\n",
      " 25  FamilySizeGroup    30322 non-null  object  \n",
      "dtypes: category(3), float64(15), object(8)\n",
      "memory usage: 6.8+ MB\n"
     ]
    }
   ],
   "source": [
    "dfprocess3.info()"
   ]
  },
  {
   "cell_type": "markdown",
   "id": "7cbacb15-67f1-4136-b26b-aacd4957aa78",
   "metadata": {},
   "source": []
  }
 ],
 "metadata": {
  "kernelspec": {
   "display_name": "Python 3 (ipykernel)",
   "language": "python",
   "name": "python3"
  },
  "language_info": {
   "codemirror_mode": {
    "name": "ipython",
    "version": 3
   },
   "file_extension": ".py",
   "mimetype": "text/x-python",
   "name": "python",
   "nbconvert_exporter": "python",
   "pygments_lexer": "ipython3",
   "version": "3.9.12"
  }
 },
 "nbformat": 4,
 "nbformat_minor": 5
}
