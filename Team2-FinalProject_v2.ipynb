{
 "cells": [
  {
   "cell_type": "code",
   "execution_count": 1,
   "id": "6be9386d-ebb5-4ee1-b14f-939419eb829e",
   "metadata": {},
   "outputs": [],
   "source": [
    "import pandas as pd\n",
    "import io\n",
    "import numpy as np \n",
    "import seaborn as sns\n",
    "import matplotlib.pyplot as plt #to allow subplot creation\n",
    "%matplotlib inline\n",
    "\n",
    "import plotly.graph_objs as go\n",
    "from plotly.offline import iplot\n",
    "import plotly.express as px\n",
    "\n",
    "import plotly.figure_factory as ff\n",
    "import plotly.graph_objects as go\n",
    "from tabulate import tabulate\n",
    "\n",
    "from sklearn import tree # Import Tree Classifiers\n",
    "from sklearn.ensemble import RandomForestClassifier # Import Random Forest Classifiers\n",
    "from sklearn.model_selection import train_test_split,  RandomizedSearchCV, cross_val_score # Import train_test_split function\n",
    "from sklearn import metrics # Import scikit-learn metrics module for accuracy calculation\n",
    "from sklearn.preprocessing import LabelEncoder\n",
    "from scipy.stats import randint # Generate random numbers"
   ]
  },
  {
   "cell_type": "code",
   "execution_count": 2,
   "id": "45ada899-50cc-4a6d-a60d-908a4d96a2a3",
   "metadata": {},
   "outputs": [
    {
     "name": "stdout",
     "output_type": "stream",
     "text": [
      "Requirement already satisfied: opendatasets in c:\\users\\anton\\anaconda3\\lib\\site-packages (0.1.22)\n",
      "Requirement already satisfied: kaggle in c:\\users\\anton\\anaconda3\\lib\\site-packages (from opendatasets) (1.5.13)\n",
      "Requirement already satisfied: click in c:\\users\\anton\\anaconda3\\lib\\site-packages (from opendatasets) (8.0.4)\n",
      "Requirement already satisfied: tqdm in c:\\users\\anton\\anaconda3\\lib\\site-packages (from opendatasets) (4.64.0)\n",
      "Requirement already satisfied: colorama in c:\\users\\anton\\anaconda3\\lib\\site-packages (from click->opendatasets) (0.4.4)\n",
      "Requirement already satisfied: python-slugify in c:\\users\\anton\\anaconda3\\lib\\site-packages (from kaggle->opendatasets) (5.0.2)\n",
      "Requirement already satisfied: urllib3 in c:\\users\\anton\\anaconda3\\lib\\site-packages (from kaggle->opendatasets) (1.26.9)\n",
      "Requirement already satisfied: certifi in c:\\users\\anton\\anaconda3\\lib\\site-packages (from kaggle->opendatasets) (2021.10.8)\n",
      "Requirement already satisfied: six>=1.10 in c:\\users\\anton\\anaconda3\\lib\\site-packages (from kaggle->opendatasets) (1.16.0)\n",
      "Requirement already satisfied: python-dateutil in c:\\users\\anton\\anaconda3\\lib\\site-packages (from kaggle->opendatasets) (2.8.2)\n",
      "Requirement already satisfied: requests in c:\\users\\anton\\anaconda3\\lib\\site-packages (from kaggle->opendatasets) (2.27.1)\n",
      "Requirement already satisfied: text-unidecode>=1.3 in c:\\users\\anton\\anaconda3\\lib\\site-packages (from python-slugify->kaggle->opendatasets) (1.3)\n",
      "Requirement already satisfied: charset-normalizer~=2.0.0 in c:\\users\\anton\\anaconda3\\lib\\site-packages (from requests->kaggle->opendatasets) (2.0.4)\n",
      "Requirement already satisfied: idna<4,>=2.5 in c:\\users\\anton\\anaconda3\\lib\\site-packages (from requests->kaggle->opendatasets) (3.3)\n"
     ]
    }
   ],
   "source": [
    "!pip install opendatasets"
   ]
  },
  {
   "cell_type": "code",
   "execution_count": 3,
   "id": "6e5d3441-982b-4c84-ab0e-0122b4819d70",
   "metadata": {},
   "outputs": [
    {
     "name": "stdout",
     "output_type": "stream",
     "text": [
      "Skipping, found downloaded files in \".\\credit-card-approval-prediction\" (use force=True to force download)\n"
     ]
    }
   ],
   "source": [
    "import opendatasets as od\n",
    "od.download(\"https://www.kaggle.com/datasets/rikdifos/credit-card-approval-prediction?select=application_record.csv\")"
   ]
  },
  {
   "cell_type": "code",
   "execution_count": 4,
   "id": "8a53fde8-eeee-4c31-a8fa-fc4819a41058",
   "metadata": {},
   "outputs": [
    {
     "name": "stdout",
     "output_type": "stream",
     "text": [
      "Skipping, found downloaded files in \".\\credit-card-approval-prediction\" (use force=True to force download)\n"
     ]
    }
   ],
   "source": [
    "od.download(\"https://www.kaggle.com/datasets/rikdifos/credit-card-approval-prediction?select=credit_record.csv\")"
   ]
  },
  {
   "cell_type": "code",
   "execution_count": 5,
   "id": "5f2bebbd-2b26-4b68-82c2-6dc399883303",
   "metadata": {},
   "outputs": [],
   "source": [
    "df1 = pd.read_csv(\"credit-card-approval-prediction/application_record.csv\")\n",
    "df2 = pd.read_csv(\"credit-card-approval-prediction/credit_record.csv\")"
   ]
  },
  {
   "cell_type": "code",
   "execution_count": 6,
   "id": "5840ee12-b974-43f5-abca-78c544a98ed6",
   "metadata": {},
   "outputs": [
    {
     "data": {
      "text/html": [
       "<div>\n",
       "<style scoped>\n",
       "    .dataframe tbody tr th:only-of-type {\n",
       "        vertical-align: middle;\n",
       "    }\n",
       "\n",
       "    .dataframe tbody tr th {\n",
       "        vertical-align: top;\n",
       "    }\n",
       "\n",
       "    .dataframe thead th {\n",
       "        text-align: right;\n",
       "    }\n",
       "</style>\n",
       "<table border=\"1\" class=\"dataframe\">\n",
       "  <thead>\n",
       "    <tr style=\"text-align: right;\">\n",
       "      <th></th>\n",
       "      <th>ID</th>\n",
       "      <th>CODE_GENDER</th>\n",
       "      <th>FLAG_OWN_CAR</th>\n",
       "      <th>FLAG_OWN_REALTY</th>\n",
       "      <th>CNT_CHILDREN</th>\n",
       "      <th>AMT_INCOME_TOTAL</th>\n",
       "      <th>NAME_INCOME_TYPE</th>\n",
       "      <th>NAME_EDUCATION_TYPE</th>\n",
       "      <th>NAME_FAMILY_STATUS</th>\n",
       "      <th>NAME_HOUSING_TYPE</th>\n",
       "      <th>DAYS_BIRTH</th>\n",
       "      <th>DAYS_EMPLOYED</th>\n",
       "      <th>FLAG_MOBIL</th>\n",
       "      <th>FLAG_WORK_PHONE</th>\n",
       "      <th>FLAG_PHONE</th>\n",
       "      <th>FLAG_EMAIL</th>\n",
       "      <th>OCCUPATION_TYPE</th>\n",
       "      <th>CNT_FAM_MEMBERS</th>\n",
       "    </tr>\n",
       "  </thead>\n",
       "  <tbody>\n",
       "    <tr>\n",
       "      <th>0</th>\n",
       "      <td>5008804</td>\n",
       "      <td>M</td>\n",
       "      <td>Y</td>\n",
       "      <td>Y</td>\n",
       "      <td>0</td>\n",
       "      <td>427500.0</td>\n",
       "      <td>Working</td>\n",
       "      <td>Higher education</td>\n",
       "      <td>Civil marriage</td>\n",
       "      <td>Rented apartment</td>\n",
       "      <td>-12005</td>\n",
       "      <td>-4542</td>\n",
       "      <td>1</td>\n",
       "      <td>1</td>\n",
       "      <td>0</td>\n",
       "      <td>0</td>\n",
       "      <td>NaN</td>\n",
       "      <td>2.0</td>\n",
       "    </tr>\n",
       "    <tr>\n",
       "      <th>1</th>\n",
       "      <td>5008805</td>\n",
       "      <td>M</td>\n",
       "      <td>Y</td>\n",
       "      <td>Y</td>\n",
       "      <td>0</td>\n",
       "      <td>427500.0</td>\n",
       "      <td>Working</td>\n",
       "      <td>Higher education</td>\n",
       "      <td>Civil marriage</td>\n",
       "      <td>Rented apartment</td>\n",
       "      <td>-12005</td>\n",
       "      <td>-4542</td>\n",
       "      <td>1</td>\n",
       "      <td>1</td>\n",
       "      <td>0</td>\n",
       "      <td>0</td>\n",
       "      <td>NaN</td>\n",
       "      <td>2.0</td>\n",
       "    </tr>\n",
       "    <tr>\n",
       "      <th>2</th>\n",
       "      <td>5008806</td>\n",
       "      <td>M</td>\n",
       "      <td>Y</td>\n",
       "      <td>Y</td>\n",
       "      <td>0</td>\n",
       "      <td>112500.0</td>\n",
       "      <td>Working</td>\n",
       "      <td>Secondary / secondary special</td>\n",
       "      <td>Married</td>\n",
       "      <td>House / apartment</td>\n",
       "      <td>-21474</td>\n",
       "      <td>-1134</td>\n",
       "      <td>1</td>\n",
       "      <td>0</td>\n",
       "      <td>0</td>\n",
       "      <td>0</td>\n",
       "      <td>Security staff</td>\n",
       "      <td>2.0</td>\n",
       "    </tr>\n",
       "    <tr>\n",
       "      <th>3</th>\n",
       "      <td>5008808</td>\n",
       "      <td>F</td>\n",
       "      <td>N</td>\n",
       "      <td>Y</td>\n",
       "      <td>0</td>\n",
       "      <td>270000.0</td>\n",
       "      <td>Commercial associate</td>\n",
       "      <td>Secondary / secondary special</td>\n",
       "      <td>Single / not married</td>\n",
       "      <td>House / apartment</td>\n",
       "      <td>-19110</td>\n",
       "      <td>-3051</td>\n",
       "      <td>1</td>\n",
       "      <td>0</td>\n",
       "      <td>1</td>\n",
       "      <td>1</td>\n",
       "      <td>Sales staff</td>\n",
       "      <td>1.0</td>\n",
       "    </tr>\n",
       "    <tr>\n",
       "      <th>4</th>\n",
       "      <td>5008809</td>\n",
       "      <td>F</td>\n",
       "      <td>N</td>\n",
       "      <td>Y</td>\n",
       "      <td>0</td>\n",
       "      <td>270000.0</td>\n",
       "      <td>Commercial associate</td>\n",
       "      <td>Secondary / secondary special</td>\n",
       "      <td>Single / not married</td>\n",
       "      <td>House / apartment</td>\n",
       "      <td>-19110</td>\n",
       "      <td>-3051</td>\n",
       "      <td>1</td>\n",
       "      <td>0</td>\n",
       "      <td>1</td>\n",
       "      <td>1</td>\n",
       "      <td>Sales staff</td>\n",
       "      <td>1.0</td>\n",
       "    </tr>\n",
       "  </tbody>\n",
       "</table>\n",
       "</div>"
      ],
      "text/plain": [
       "        ID CODE_GENDER FLAG_OWN_CAR FLAG_OWN_REALTY  CNT_CHILDREN  \\\n",
       "0  5008804           M            Y               Y             0   \n",
       "1  5008805           M            Y               Y             0   \n",
       "2  5008806           M            Y               Y             0   \n",
       "3  5008808           F            N               Y             0   \n",
       "4  5008809           F            N               Y             0   \n",
       "\n",
       "   AMT_INCOME_TOTAL      NAME_INCOME_TYPE            NAME_EDUCATION_TYPE  \\\n",
       "0          427500.0               Working               Higher education   \n",
       "1          427500.0               Working               Higher education   \n",
       "2          112500.0               Working  Secondary / secondary special   \n",
       "3          270000.0  Commercial associate  Secondary / secondary special   \n",
       "4          270000.0  Commercial associate  Secondary / secondary special   \n",
       "\n",
       "     NAME_FAMILY_STATUS  NAME_HOUSING_TYPE  DAYS_BIRTH  DAYS_EMPLOYED  \\\n",
       "0        Civil marriage   Rented apartment      -12005          -4542   \n",
       "1        Civil marriage   Rented apartment      -12005          -4542   \n",
       "2               Married  House / apartment      -21474          -1134   \n",
       "3  Single / not married  House / apartment      -19110          -3051   \n",
       "4  Single / not married  House / apartment      -19110          -3051   \n",
       "\n",
       "   FLAG_MOBIL  FLAG_WORK_PHONE  FLAG_PHONE  FLAG_EMAIL OCCUPATION_TYPE  \\\n",
       "0           1                1           0           0             NaN   \n",
       "1           1                1           0           0             NaN   \n",
       "2           1                0           0           0  Security staff   \n",
       "3           1                0           1           1     Sales staff   \n",
       "4           1                0           1           1     Sales staff   \n",
       "\n",
       "   CNT_FAM_MEMBERS  \n",
       "0              2.0  \n",
       "1              2.0  \n",
       "2              2.0  \n",
       "3              1.0  \n",
       "4              1.0  "
      ]
     },
     "execution_count": 6,
     "metadata": {},
     "output_type": "execute_result"
    }
   ],
   "source": [
    "df1.head()"
   ]
  },
  {
   "cell_type": "code",
   "execution_count": 7,
   "id": "a801c7c0-96a5-4617-8efd-964857cf03ff",
   "metadata": {},
   "outputs": [
    {
     "data": {
      "text/html": [
       "<div>\n",
       "<style scoped>\n",
       "    .dataframe tbody tr th:only-of-type {\n",
       "        vertical-align: middle;\n",
       "    }\n",
       "\n",
       "    .dataframe tbody tr th {\n",
       "        vertical-align: top;\n",
       "    }\n",
       "\n",
       "    .dataframe thead th {\n",
       "        text-align: right;\n",
       "    }\n",
       "</style>\n",
       "<table border=\"1\" class=\"dataframe\">\n",
       "  <thead>\n",
       "    <tr style=\"text-align: right;\">\n",
       "      <th></th>\n",
       "      <th>ID</th>\n",
       "      <th>MONTHS_BALANCE</th>\n",
       "      <th>STATUS</th>\n",
       "    </tr>\n",
       "  </thead>\n",
       "  <tbody>\n",
       "    <tr>\n",
       "      <th>0</th>\n",
       "      <td>5001711</td>\n",
       "      <td>0</td>\n",
       "      <td>X</td>\n",
       "    </tr>\n",
       "    <tr>\n",
       "      <th>1</th>\n",
       "      <td>5001711</td>\n",
       "      <td>-1</td>\n",
       "      <td>0</td>\n",
       "    </tr>\n",
       "    <tr>\n",
       "      <th>2</th>\n",
       "      <td>5001711</td>\n",
       "      <td>-2</td>\n",
       "      <td>0</td>\n",
       "    </tr>\n",
       "    <tr>\n",
       "      <th>3</th>\n",
       "      <td>5001711</td>\n",
       "      <td>-3</td>\n",
       "      <td>0</td>\n",
       "    </tr>\n",
       "    <tr>\n",
       "      <th>4</th>\n",
       "      <td>5001712</td>\n",
       "      <td>0</td>\n",
       "      <td>C</td>\n",
       "    </tr>\n",
       "    <tr>\n",
       "      <th>5</th>\n",
       "      <td>5001712</td>\n",
       "      <td>-1</td>\n",
       "      <td>C</td>\n",
       "    </tr>\n",
       "    <tr>\n",
       "      <th>6</th>\n",
       "      <td>5001712</td>\n",
       "      <td>-2</td>\n",
       "      <td>C</td>\n",
       "    </tr>\n",
       "    <tr>\n",
       "      <th>7</th>\n",
       "      <td>5001712</td>\n",
       "      <td>-3</td>\n",
       "      <td>C</td>\n",
       "    </tr>\n",
       "    <tr>\n",
       "      <th>8</th>\n",
       "      <td>5001712</td>\n",
       "      <td>-4</td>\n",
       "      <td>C</td>\n",
       "    </tr>\n",
       "    <tr>\n",
       "      <th>9</th>\n",
       "      <td>5001712</td>\n",
       "      <td>-5</td>\n",
       "      <td>C</td>\n",
       "    </tr>\n",
       "  </tbody>\n",
       "</table>\n",
       "</div>"
      ],
      "text/plain": [
       "        ID  MONTHS_BALANCE STATUS\n",
       "0  5001711               0      X\n",
       "1  5001711              -1      0\n",
       "2  5001711              -2      0\n",
       "3  5001711              -3      0\n",
       "4  5001712               0      C\n",
       "5  5001712              -1      C\n",
       "6  5001712              -2      C\n",
       "7  5001712              -3      C\n",
       "8  5001712              -4      C\n",
       "9  5001712              -5      C"
      ]
     },
     "execution_count": 7,
     "metadata": {},
     "output_type": "execute_result"
    }
   ],
   "source": [
    "df2.head(10)"
   ]
  },
  {
   "cell_type": "code",
   "execution_count": 8,
   "id": "8c26e9b6-0066-4c34-9018-797e1f0ee726",
   "metadata": {},
   "outputs": [
    {
     "data": {
      "text/plain": [
       "ID                     438557\n",
       "CODE_GENDER            438557\n",
       "FLAG_OWN_CAR           438557\n",
       "FLAG_OWN_REALTY        438557\n",
       "CNT_CHILDREN           438557\n",
       "AMT_INCOME_TOTAL       438557\n",
       "NAME_INCOME_TYPE       438557\n",
       "NAME_EDUCATION_TYPE    438557\n",
       "NAME_FAMILY_STATUS     438557\n",
       "NAME_HOUSING_TYPE      438557\n",
       "DAYS_BIRTH             438557\n",
       "DAYS_EMPLOYED          438557\n",
       "FLAG_MOBIL             438557\n",
       "FLAG_WORK_PHONE        438557\n",
       "FLAG_PHONE             438557\n",
       "FLAG_EMAIL             438557\n",
       "OCCUPATION_TYPE        304354\n",
       "CNT_FAM_MEMBERS        438557\n",
       "dtype: int64"
      ]
     },
     "execution_count": 8,
     "metadata": {},
     "output_type": "execute_result"
    }
   ],
   "source": [
    "df1.count()"
   ]
  },
  {
   "cell_type": "code",
   "execution_count": 9,
   "id": "e169f9ad-803f-48cd-848c-00f546cbc43c",
   "metadata": {},
   "outputs": [
    {
     "data": {
      "text/plain": [
       "<AxesSubplot:ylabel='Frequency'>"
      ]
     },
     "execution_count": 9,
     "metadata": {},
     "output_type": "execute_result"
    },
    {
     "data": {
      "image/png": "[encoded data removed]",
      "text/plain": [
       "<Figure size 432x288 with 1 Axes>"
      ]
     },
     "metadata": {
      "needs_background": "light"
     },
     "output_type": "display_data"
    }
   ],
   "source": [
    "df1.plot.hist()"
   ]
  },
  {
   "cell_type": "code",
   "execution_count": 10,
   "id": "b8aace1b-ca3a-4b69-9871-ee8206fb0684",
   "metadata": {},
   "outputs": [
    {
     "name": "stdout",
     "output_type": "stream",
     "text": [
      "<class 'pandas.core.frame.DataFrame'>\n",
      "RangeIndex: 438557 entries, 0 to 438556\n",
      "Data columns (total 18 columns):\n",
      " #   Column               Non-Null Count   Dtype  \n",
      "---  ------               --------------   -----  \n",
      " 0   ID                   438557 non-null  int64  \n",
      " 1   CODE_GENDER          438557 non-null  object \n",
      " 2   FLAG_OWN_CAR         438557 non-null  object \n",
      " 3   FLAG_OWN_REALTY      438557 non-null  object \n",
      " 4   CNT_CHILDREN         438557 non-null  int64  \n",
      " 5   AMT_INCOME_TOTAL     438557 non-null  float64\n",
      " 6   NAME_INCOME_TYPE     438557 non-null  object \n",
      " 7   NAME_EDUCATION_TYPE  438557 non-null  object \n",
      " 8   NAME_FAMILY_STATUS   438557 non-null  object \n",
      " 9   NAME_HOUSING_TYPE    438557 non-null  object \n",
      " 10  DAYS_BIRTH           438557 non-null  int64  \n",
      " 11  DAYS_EMPLOYED        438557 non-null  int64  \n",
      " 12  FLAG_MOBIL           438557 non-null  int64  \n",
      " 13  FLAG_WORK_PHONE      438557 non-null  int64  \n",
      " 14  FLAG_PHONE           438557 non-null  int64  \n",
      " 15  FLAG_EMAIL           438557 non-null  int64  \n",
      " 16  OCCUPATION_TYPE      304354 non-null  object \n",
      " 17  CNT_FAM_MEMBERS      438557 non-null  float64\n",
      "dtypes: float64(2), int64(8), object(8)\n",
      "memory usage: 60.2+ MB\n"
     ]
    }
   ],
   "source": [
    "df1.info()"
   ]
  },
  {
   "cell_type": "code",
   "execution_count": 11,
   "id": "ed16dd70-18bf-42b7-b88d-a62e33df6ed4",
   "metadata": {},
   "outputs": [
    {
     "data": {
      "text/html": [
       "<div>\n",
       "<style scoped>\n",
       "    .dataframe tbody tr th:only-of-type {\n",
       "        vertical-align: middle;\n",
       "    }\n",
       "\n",
       "    .dataframe tbody tr th {\n",
       "        vertical-align: top;\n",
       "    }\n",
       "\n",
       "    .dataframe thead th {\n",
       "        text-align: right;\n",
       "    }\n",
       "</style>\n",
       "<table border=\"1\" class=\"dataframe\">\n",
       "  <thead>\n",
       "    <tr style=\"text-align: right;\">\n",
       "      <th></th>\n",
       "      <th>index</th>\n",
       "      <th>null count</th>\n",
       "      <th>unique value count</th>\n",
       "      <th>types</th>\n",
       "    </tr>\n",
       "  </thead>\n",
       "  <tbody>\n",
       "    <tr>\n",
       "      <th>0</th>\n",
       "      <td>ID</td>\n",
       "      <td>0</td>\n",
       "      <td>438510</td>\n",
       "      <td>int64</td>\n",
       "    </tr>\n",
       "    <tr>\n",
       "      <th>1</th>\n",
       "      <td>CODE_GENDER</td>\n",
       "      <td>0</td>\n",
       "      <td>2</td>\n",
       "      <td>object</td>\n",
       "    </tr>\n",
       "    <tr>\n",
       "      <th>2</th>\n",
       "      <td>FLAG_OWN_CAR</td>\n",
       "      <td>0</td>\n",
       "      <td>2</td>\n",
       "      <td>object</td>\n",
       "    </tr>\n",
       "    <tr>\n",
       "      <th>3</th>\n",
       "      <td>FLAG_OWN_REALTY</td>\n",
       "      <td>0</td>\n",
       "      <td>2</td>\n",
       "      <td>object</td>\n",
       "    </tr>\n",
       "    <tr>\n",
       "      <th>4</th>\n",
       "      <td>CNT_CHILDREN</td>\n",
       "      <td>0</td>\n",
       "      <td>12</td>\n",
       "      <td>int64</td>\n",
       "    </tr>\n",
       "    <tr>\n",
       "      <th>5</th>\n",
       "      <td>AMT_INCOME_TOTAL</td>\n",
       "      <td>0</td>\n",
       "      <td>866</td>\n",
       "      <td>float64</td>\n",
       "    </tr>\n",
       "    <tr>\n",
       "      <th>6</th>\n",
       "      <td>NAME_INCOME_TYPE</td>\n",
       "      <td>0</td>\n",
       "      <td>5</td>\n",
       "      <td>object</td>\n",
       "    </tr>\n",
       "    <tr>\n",
       "      <th>7</th>\n",
       "      <td>NAME_EDUCATION_TYPE</td>\n",
       "      <td>0</td>\n",
       "      <td>5</td>\n",
       "      <td>object</td>\n",
       "    </tr>\n",
       "    <tr>\n",
       "      <th>8</th>\n",
       "      <td>NAME_FAMILY_STATUS</td>\n",
       "      <td>0</td>\n",
       "      <td>5</td>\n",
       "      <td>object</td>\n",
       "    </tr>\n",
       "    <tr>\n",
       "      <th>9</th>\n",
       "      <td>NAME_HOUSING_TYPE</td>\n",
       "      <td>0</td>\n",
       "      <td>6</td>\n",
       "      <td>object</td>\n",
       "    </tr>\n",
       "    <tr>\n",
       "      <th>10</th>\n",
       "      <td>DAYS_BIRTH</td>\n",
       "      <td>0</td>\n",
       "      <td>16379</td>\n",
       "      <td>int64</td>\n",
       "    </tr>\n",
       "    <tr>\n",
       "      <th>11</th>\n",
       "      <td>DAYS_EMPLOYED</td>\n",
       "      <td>0</td>\n",
       "      <td>9406</td>\n",
       "      <td>int64</td>\n",
       "    </tr>\n",
       "    <tr>\n",
       "      <th>12</th>\n",
       "      <td>FLAG_MOBIL</td>\n",
       "      <td>0</td>\n",
       "      <td>1</td>\n",
       "      <td>int64</td>\n",
       "    </tr>\n",
       "    <tr>\n",
       "      <th>13</th>\n",
       "      <td>FLAG_WORK_PHONE</td>\n",
       "      <td>0</td>\n",
       "      <td>2</td>\n",
       "      <td>int64</td>\n",
       "    </tr>\n",
       "    <tr>\n",
       "      <th>14</th>\n",
       "      <td>FLAG_PHONE</td>\n",
       "      <td>0</td>\n",
       "      <td>2</td>\n",
       "      <td>int64</td>\n",
       "    </tr>\n",
       "    <tr>\n",
       "      <th>15</th>\n",
       "      <td>FLAG_EMAIL</td>\n",
       "      <td>0</td>\n",
       "      <td>2</td>\n",
       "      <td>int64</td>\n",
       "    </tr>\n",
       "    <tr>\n",
       "      <th>16</th>\n",
       "      <td>OCCUPATION_TYPE</td>\n",
       "      <td>134203</td>\n",
       "      <td>18</td>\n",
       "      <td>object</td>\n",
       "    </tr>\n",
       "    <tr>\n",
       "      <th>17</th>\n",
       "      <td>CNT_FAM_MEMBERS</td>\n",
       "      <td>0</td>\n",
       "      <td>13</td>\n",
       "      <td>float64</td>\n",
       "    </tr>\n",
       "  </tbody>\n",
       "</table>\n",
       "</div>"
      ],
      "text/plain": [
       "                  index null count unique value count    types\n",
       "0                    ID          0             438510    int64\n",
       "1           CODE_GENDER          0                  2   object\n",
       "2          FLAG_OWN_CAR          0                  2   object\n",
       "3       FLAG_OWN_REALTY          0                  2   object\n",
       "4          CNT_CHILDREN          0                 12    int64\n",
       "5      AMT_INCOME_TOTAL          0                866  float64\n",
       "6      NAME_INCOME_TYPE          0                  5   object\n",
       "7   NAME_EDUCATION_TYPE          0                  5   object\n",
       "8    NAME_FAMILY_STATUS          0                  5   object\n",
       "9     NAME_HOUSING_TYPE          0                  6   object\n",
       "10           DAYS_BIRTH          0              16379    int64\n",
       "11        DAYS_EMPLOYED          0               9406    int64\n",
       "12           FLAG_MOBIL          0                  1    int64\n",
       "13      FLAG_WORK_PHONE          0                  2    int64\n",
       "14           FLAG_PHONE          0                  2    int64\n",
       "15           FLAG_EMAIL          0                  2    int64\n",
       "16      OCCUPATION_TYPE     134203                 18   object\n",
       "17      CNT_FAM_MEMBERS          0                 13  float64"
      ]
     },
     "execution_count": 11,
     "metadata": {},
     "output_type": "execute_result"
    }
   ],
   "source": [
    "null_count = df1.isnull().sum().reset_index(name = \"null count\")\n",
    "unique_valuecount = df1.nunique().reset_index(name = \"unique value count\")\n",
    "datatypes = df1.dtypes.reset_index(name=\"types\")\n",
    "pd.set_option('display.max_rows', 500)\n",
    "pd.concat([null_count, unique_valuecount , datatypes], axis=1).T.drop_duplicates().T"
   ]
  },
  {
   "cell_type": "code",
   "execution_count": 12,
   "id": "5009534e-96ed-4388-9628-94bd103c2db1",
   "metadata": {},
   "outputs": [],
   "source": [
    "plt.rcParams['figure.facecolor'] = 'white'"
   ]
  },
  {
   "cell_type": "code",
   "execution_count": 13,
   "id": "e731155a-75bc-40e3-8c02-7a5f6b85fa59",
   "metadata": {},
   "outputs": [],
   "source": [
    "apprecprocess=df1.copy()\n",
    "credrecprocess=df2.copy()"
   ]
  },
  {
   "cell_type": "code",
   "execution_count": 14,
   "id": "2e0e00c6-85dd-451a-861b-16c7518a8690",
   "metadata": {},
   "outputs": [
    {
     "data": {
      "text/plain": [
       "438510"
      ]
     },
     "execution_count": 14,
     "metadata": {},
     "output_type": "execute_result"
    }
   ],
   "source": [
    "apprecprocess['ID'].nunique()"
   ]
  },
  {
   "cell_type": "markdown",
   "id": "a2f81f98-a513-473f-98fd-066d1f914b4e",
   "metadata": {},
   "source": [
    "the total rows are 438,557. This means it has duplicates"
   ]
  },
  {
   "cell_type": "code",
   "execution_count": 15,
   "id": "29d9d335-9a5a-40ef-87fc-beefcbef3a39",
   "metadata": {},
   "outputs": [],
   "source": [
    "apprecprocess = apprecprocess.drop_duplicates('ID', keep='last') \n",
    "# we identified that there are some duplicates in this dataset\n",
    "# we will be deleting those duplicates and will keep the last entry of the ID if its repeated."
   ]
  },
  {
   "cell_type": "code",
   "execution_count": 16,
   "id": "74501be1-ba14-4909-9e08-99b0c49b952a",
   "metadata": {},
   "outputs": [
    {
     "name": "stdout",
     "output_type": "stream",
     "text": [
      "<class 'pandas.core.frame.DataFrame'>\n",
      "RangeIndex: 1048575 entries, 0 to 1048574\n",
      "Data columns (total 3 columns):\n",
      " #   Column          Non-Null Count    Dtype \n",
      "---  ------          --------------    ----- \n",
      " 0   ID              1048575 non-null  int64 \n",
      " 1   MONTHS_BALANCE  1048575 non-null  int64 \n",
      " 2   STATUS          1048575 non-null  object\n",
      "dtypes: int64(2), object(1)\n",
      "memory usage: 24.0+ MB\n"
     ]
    }
   ],
   "source": [
    "credrecprocess.info()"
   ]
  },
  {
   "cell_type": "code",
   "execution_count": 17,
   "id": "26d893b3-73fa-4da1-9816-bc9f786eebdc",
   "metadata": {},
   "outputs": [
    {
     "data": {
      "text/plain": [
       "45985"
      ]
     },
     "execution_count": 17,
     "metadata": {},
     "output_type": "execute_result"
    }
   ],
   "source": [
    "credrecprocess['ID'].nunique() "
   ]
  },
  {
   "cell_type": "markdown",
   "id": "b5c8377b-ef94-4f56-82b7-4bf3a5d71181",
   "metadata": {},
   "source": [
    "this has around 46,000 unique rows as there are repeating entries for different monthly values and status."
   ]
  },
  {
   "cell_type": "code",
   "execution_count": 18,
   "id": "26113d1e-6182-48fc-be69-9d958fb25483",
   "metadata": {},
   "outputs": [
    {
     "data": {
      "text/plain": [
       "36457"
      ]
     },
     "execution_count": 18,
     "metadata": {},
     "output_type": "execute_result"
    }
   ],
   "source": [
    "# checking to see how many records match in two datasets\n",
    "len(set(credrecprocess['ID']).intersection(set(apprecprocess['ID']))) "
   ]
  },
  {
   "cell_type": "code",
   "execution_count": 19,
   "id": "9b14ab50-ae13-4a87-91c5-0c90999509dd",
   "metadata": {},
   "outputs": [
    {
     "data": {
      "text/html": [
       "<div>\n",
       "<style scoped>\n",
       "    .dataframe tbody tr th:only-of-type {\n",
       "        vertical-align: middle;\n",
       "    }\n",
       "\n",
       "    .dataframe tbody tr th {\n",
       "        vertical-align: top;\n",
       "    }\n",
       "\n",
       "    .dataframe thead th {\n",
       "        text-align: right;\n",
       "    }\n",
       "</style>\n",
       "<table border=\"1\" class=\"dataframe\">\n",
       "  <thead>\n",
       "    <tr style=\"text-align: right;\">\n",
       "      <th></th>\n",
       "      <th>ID</th>\n",
       "      <th>CODE_GENDER</th>\n",
       "      <th>FLAG_OWN_CAR</th>\n",
       "      <th>FLAG_OWN_REALTY</th>\n",
       "      <th>CNT_CHILDREN</th>\n",
       "      <th>AMT_INCOME_TOTAL</th>\n",
       "      <th>NAME_INCOME_TYPE</th>\n",
       "      <th>NAME_EDUCATION_TYPE</th>\n",
       "      <th>NAME_FAMILY_STATUS</th>\n",
       "      <th>NAME_HOUSING_TYPE</th>\n",
       "      <th>DAYS_BIRTH</th>\n",
       "      <th>DAYS_EMPLOYED</th>\n",
       "      <th>FLAG_MOBIL</th>\n",
       "      <th>FLAG_WORK_PHONE</th>\n",
       "      <th>FLAG_PHONE</th>\n",
       "      <th>FLAG_EMAIL</th>\n",
       "      <th>OCCUPATION_TYPE</th>\n",
       "      <th>CNT_FAM_MEMBERS</th>\n",
       "      <th>begin_month</th>\n",
       "    </tr>\n",
       "  </thead>\n",
       "  <tbody>\n",
       "    <tr>\n",
       "      <th>0</th>\n",
       "      <td>5008804</td>\n",
       "      <td>M</td>\n",
       "      <td>Y</td>\n",
       "      <td>Y</td>\n",
       "      <td>0</td>\n",
       "      <td>427500.0</td>\n",
       "      <td>Working</td>\n",
       "      <td>Higher education</td>\n",
       "      <td>Civil marriage</td>\n",
       "      <td>Rented apartment</td>\n",
       "      <td>-12005</td>\n",
       "      <td>-4542</td>\n",
       "      <td>1</td>\n",
       "      <td>1</td>\n",
       "      <td>0</td>\n",
       "      <td>0</td>\n",
       "      <td>NaN</td>\n",
       "      <td>2.0</td>\n",
       "      <td>-15.0</td>\n",
       "    </tr>\n",
       "    <tr>\n",
       "      <th>1</th>\n",
       "      <td>5008805</td>\n",
       "      <td>M</td>\n",
       "      <td>Y</td>\n",
       "      <td>Y</td>\n",
       "      <td>0</td>\n",
       "      <td>427500.0</td>\n",
       "      <td>Working</td>\n",
       "      <td>Higher education</td>\n",
       "      <td>Civil marriage</td>\n",
       "      <td>Rented apartment</td>\n",
       "      <td>-12005</td>\n",
       "      <td>-4542</td>\n",
       "      <td>1</td>\n",
       "      <td>1</td>\n",
       "      <td>0</td>\n",
       "      <td>0</td>\n",
       "      <td>NaN</td>\n",
       "      <td>2.0</td>\n",
       "      <td>-14.0</td>\n",
       "    </tr>\n",
       "    <tr>\n",
       "      <th>2</th>\n",
       "      <td>5008806</td>\n",
       "      <td>M</td>\n",
       "      <td>Y</td>\n",
       "      <td>Y</td>\n",
       "      <td>0</td>\n",
       "      <td>112500.0</td>\n",
       "      <td>Working</td>\n",
       "      <td>Secondary / secondary special</td>\n",
       "      <td>Married</td>\n",
       "      <td>House / apartment</td>\n",
       "      <td>-21474</td>\n",
       "      <td>-1134</td>\n",
       "      <td>1</td>\n",
       "      <td>0</td>\n",
       "      <td>0</td>\n",
       "      <td>0</td>\n",
       "      <td>Security staff</td>\n",
       "      <td>2.0</td>\n",
       "      <td>-29.0</td>\n",
       "    </tr>\n",
       "  </tbody>\n",
       "</table>\n",
       "</div>"
      ],
      "text/plain": [
       "        ID CODE_GENDER FLAG_OWN_CAR FLAG_OWN_REALTY  CNT_CHILDREN  \\\n",
       "0  5008804           M            Y               Y             0   \n",
       "1  5008805           M            Y               Y             0   \n",
       "2  5008806           M            Y               Y             0   \n",
       "\n",
       "   AMT_INCOME_TOTAL NAME_INCOME_TYPE            NAME_EDUCATION_TYPE  \\\n",
       "0          427500.0          Working               Higher education   \n",
       "1          427500.0          Working               Higher education   \n",
       "2          112500.0          Working  Secondary / secondary special   \n",
       "\n",
       "  NAME_FAMILY_STATUS  NAME_HOUSING_TYPE  DAYS_BIRTH  DAYS_EMPLOYED  \\\n",
       "0     Civil marriage   Rented apartment      -12005          -4542   \n",
       "1     Civil marriage   Rented apartment      -12005          -4542   \n",
       "2            Married  House / apartment      -21474          -1134   \n",
       "\n",
       "   FLAG_MOBIL  FLAG_WORK_PHONE  FLAG_PHONE  FLAG_EMAIL OCCUPATION_TYPE  \\\n",
       "0           1                1           0           0             NaN   \n",
       "1           1                1           0           0             NaN   \n",
       "2           1                0           0           0  Security staff   \n",
       "\n",
       "   CNT_FAM_MEMBERS  begin_month  \n",
       "0              2.0        -15.0  \n",
       "1              2.0        -14.0  \n",
       "2              2.0        -29.0  "
      ]
     },
     "execution_count": 19,
     "metadata": {},
     "output_type": "execute_result"
    }
   ],
   "source": [
    "# find all users' account open month.\n",
    "begin_month=pd.DataFrame(credrecprocess.groupby([\"ID\"])[\"MONTHS_BALANCE\"].agg(min))\n",
    "begin_month=begin_month.rename(columns={'MONTHS_BALANCE':'begin_month'}) \n",
    "appcredmergedata=pd.merge(apprecprocess,begin_month,how=\"left\",on=\"ID\") #merge to record data\n",
    "appcredmergedata.head(3)"
   ]
  },
  {
   "cell_type": "code",
   "execution_count": 20,
   "id": "76a176f0-4107-476c-a3c7-6ddd1dbf3149",
   "metadata": {},
   "outputs": [
    {
     "data": {
      "text/plain": [
       "8"
      ]
     },
     "execution_count": 20,
     "metadata": {},
     "output_type": "execute_result"
    }
   ],
   "source": [
    "credrecprocess['STATUS'].nunique() "
   ]
  },
  {
   "cell_type": "markdown",
   "id": "eaac9bb2-80bb-4e02-a66a-4790c0ca9824",
   "metadata": {},
   "source": [
    "As per the data dictionary, following values are expected in status columns : 0: 1-29 days past due 1: 30-59 days past due 2: 60-89 days overdue 3: 90-119 days overdue 4: 120-149 days overdue 5: Overdue or bad debts, write-offs for more than 150 days C: paid off that month X: No loan for the month"
   ]
  },
  {
   "cell_type": "code",
   "execution_count": 21,
   "id": "6c423882-c416-4755-9e8b-a04efc1a5aa1",
   "metadata": {},
   "outputs": [
    {
     "data": {
      "text/html": [
       "<div>\n",
       "<style scoped>\n",
       "    .dataframe tbody tr th:only-of-type {\n",
       "        vertical-align: middle;\n",
       "    }\n",
       "\n",
       "    .dataframe tbody tr th {\n",
       "        vertical-align: top;\n",
       "    }\n",
       "\n",
       "    .dataframe thead th {\n",
       "        text-align: right;\n",
       "    }\n",
       "</style>\n",
       "<table border=\"1\" class=\"dataframe\">\n",
       "  <thead>\n",
       "    <tr style=\"text-align: right;\">\n",
       "      <th></th>\n",
       "      <th>ID</th>\n",
       "      <th>MONTHS_BALANCE</th>\n",
       "      <th>STATUS</th>\n",
       "      <th>targetrisk</th>\n",
       "    </tr>\n",
       "  </thead>\n",
       "  <tbody>\n",
       "    <tr>\n",
       "      <th>0</th>\n",
       "      <td>5001711</td>\n",
       "      <td>0</td>\n",
       "      <td>X</td>\n",
       "      <td>None</td>\n",
       "    </tr>\n",
       "    <tr>\n",
       "      <th>1</th>\n",
       "      <td>5001711</td>\n",
       "      <td>-1</td>\n",
       "      <td>0</td>\n",
       "      <td>None</td>\n",
       "    </tr>\n",
       "    <tr>\n",
       "      <th>2</th>\n",
       "      <td>5001711</td>\n",
       "      <td>-2</td>\n",
       "      <td>0</td>\n",
       "      <td>None</td>\n",
       "    </tr>\n",
       "    <tr>\n",
       "      <th>3</th>\n",
       "      <td>5001711</td>\n",
       "      <td>-3</td>\n",
       "      <td>0</td>\n",
       "      <td>None</td>\n",
       "    </tr>\n",
       "    <tr>\n",
       "      <th>4</th>\n",
       "      <td>5001712</td>\n",
       "      <td>0</td>\n",
       "      <td>C</td>\n",
       "      <td>None</td>\n",
       "    </tr>\n",
       "  </tbody>\n",
       "</table>\n",
       "</div>"
      ],
      "text/plain": [
       "        ID  MONTHS_BALANCE STATUS targetrisk\n",
       "0  5001711               0      X       None\n",
       "1  5001711              -1      0       None\n",
       "2  5001711              -2      0       None\n",
       "3  5001711              -3      0       None\n",
       "4  5001712               0      C       None"
      ]
     },
     "execution_count": 21,
     "metadata": {},
     "output_type": "execute_result"
    }
   ],
   "source": [
    "#Creating a new column and considering all candidates with overdue as more than 90 days as possible risk\n",
    "credrecprocess['targetrisk'] = None\n",
    "credrecprocess['targetrisk'][credrecprocess['STATUS'] =='3']='Yes' \n",
    "credrecprocess['targetrisk'][credrecprocess['STATUS'] =='4']='Yes' \n",
    "credrecprocess['targetrisk'][credrecprocess['STATUS'] =='5']='Yes'\n",
    "credrecprocess.head()"
   ]
  },
  {
   "cell_type": "code",
   "execution_count": 22,
   "id": "09f7acb1-4f4d-4a23-9949-efddb87d18f2",
   "metadata": {},
   "outputs": [
    {
     "data": {
      "text/html": [
       "<div>\n",
       "<style scoped>\n",
       "    .dataframe tbody tr th:only-of-type {\n",
       "        vertical-align: middle;\n",
       "    }\n",
       "\n",
       "    .dataframe tbody tr th {\n",
       "        vertical-align: top;\n",
       "    }\n",
       "\n",
       "    .dataframe thead th {\n",
       "        text-align: right;\n",
       "    }\n",
       "</style>\n",
       "<table border=\"1\" class=\"dataframe\">\n",
       "  <thead>\n",
       "    <tr style=\"text-align: right;\">\n",
       "      <th></th>\n",
       "      <th>targetrisk</th>\n",
       "    </tr>\n",
       "    <tr>\n",
       "      <th>ID</th>\n",
       "      <th></th>\n",
       "    </tr>\n",
       "  </thead>\n",
       "  <tbody>\n",
       "    <tr>\n",
       "      <th>5001711</th>\n",
       "      <td>No</td>\n",
       "    </tr>\n",
       "    <tr>\n",
       "      <th>5001712</th>\n",
       "      <td>No</td>\n",
       "    </tr>\n",
       "    <tr>\n",
       "      <th>5001713</th>\n",
       "      <td>No</td>\n",
       "    </tr>\n",
       "  </tbody>\n",
       "</table>\n",
       "</div>"
      ],
      "text/plain": [
       "        targetrisk\n",
       "ID                \n",
       "5001711         No\n",
       "5001712         No\n",
       "5001713         No"
      ]
     },
     "execution_count": 22,
     "metadata": {},
     "output_type": "execute_result"
    }
   ],
   "source": [
    "credrecprocess1=credrecprocess.groupby('ID').count()\n",
    "credrecprocess1['targetrisk'][credrecprocess1['targetrisk'] > 0]='Yes' \n",
    "credrecprocess1['targetrisk'][credrecprocess1['targetrisk'] == 0]='No' \n",
    "credrecprocess1 = credrecprocess1[['targetrisk']]\n",
    "credrecprocess1.head(3)"
   ]
  },
  {
   "cell_type": "code",
   "execution_count": 23,
   "id": "6f60e36e-177e-434c-8ace-350d24320083",
   "metadata": {},
   "outputs": [],
   "source": [
    "# Merge  status with the main record dataframe where targetrisk = yes will get converted to 1 and No as 0 to avoid label encoding in future.\n",
    "appcredmergedata=pd.merge(appcredmergedata,credrecprocess1,how='inner',on='ID')\n",
    "appcredmergedata['targetrisk']=appcredmergedata['targetrisk']\n",
    "appcredmergedata.loc[appcredmergedata['targetrisk']=='Yes','targetrisk']=1\n",
    "appcredmergedata.loc[appcredmergedata['targetrisk']=='No','targetrisk']=0"
   ]
  },
  {
   "cell_type": "code",
   "execution_count": 24,
   "id": "d0d45ee0-ea5e-4cea-a6a5-b8ba1a0fdd20",
   "metadata": {},
   "outputs": [
    {
     "data": {
      "text/html": [
       "<div>\n",
       "<style scoped>\n",
       "    .dataframe tbody tr th:only-of-type {\n",
       "        vertical-align: middle;\n",
       "    }\n",
       "\n",
       "    .dataframe tbody tr th {\n",
       "        vertical-align: top;\n",
       "    }\n",
       "\n",
       "    .dataframe thead th {\n",
       "        text-align: right;\n",
       "    }\n",
       "</style>\n",
       "<table border=\"1\" class=\"dataframe\">\n",
       "  <thead>\n",
       "    <tr style=\"text-align: right;\">\n",
       "      <th></th>\n",
       "      <th>ID</th>\n",
       "      <th>CODE_GENDER</th>\n",
       "      <th>FLAG_OWN_CAR</th>\n",
       "      <th>FLAG_OWN_REALTY</th>\n",
       "      <th>CNT_CHILDREN</th>\n",
       "      <th>AMT_INCOME_TOTAL</th>\n",
       "      <th>NAME_INCOME_TYPE</th>\n",
       "      <th>NAME_EDUCATION_TYPE</th>\n",
       "      <th>NAME_FAMILY_STATUS</th>\n",
       "      <th>NAME_HOUSING_TYPE</th>\n",
       "      <th>DAYS_BIRTH</th>\n",
       "      <th>DAYS_EMPLOYED</th>\n",
       "      <th>FLAG_MOBIL</th>\n",
       "      <th>FLAG_WORK_PHONE</th>\n",
       "      <th>FLAG_PHONE</th>\n",
       "      <th>FLAG_EMAIL</th>\n",
       "      <th>OCCUPATION_TYPE</th>\n",
       "      <th>CNT_FAM_MEMBERS</th>\n",
       "      <th>begin_month</th>\n",
       "      <th>targetrisk</th>\n",
       "    </tr>\n",
       "  </thead>\n",
       "  <tbody>\n",
       "    <tr>\n",
       "      <th>0</th>\n",
       "      <td>5008804</td>\n",
       "      <td>M</td>\n",
       "      <td>Y</td>\n",
       "      <td>Y</td>\n",
       "      <td>0</td>\n",
       "      <td>427500.0</td>\n",
       "      <td>Working</td>\n",
       "      <td>Higher education</td>\n",
       "      <td>Civil marriage</td>\n",
       "      <td>Rented apartment</td>\n",
       "      <td>-12005</td>\n",
       "      <td>-4542</td>\n",
       "      <td>1</td>\n",
       "      <td>1</td>\n",
       "      <td>0</td>\n",
       "      <td>0</td>\n",
       "      <td>NaN</td>\n",
       "      <td>2.0</td>\n",
       "      <td>-15.0</td>\n",
       "      <td>0</td>\n",
       "    </tr>\n",
       "    <tr>\n",
       "      <th>1</th>\n",
       "      <td>5008805</td>\n",
       "      <td>M</td>\n",
       "      <td>Y</td>\n",
       "      <td>Y</td>\n",
       "      <td>0</td>\n",
       "      <td>427500.0</td>\n",
       "      <td>Working</td>\n",
       "      <td>Higher education</td>\n",
       "      <td>Civil marriage</td>\n",
       "      <td>Rented apartment</td>\n",
       "      <td>-12005</td>\n",
       "      <td>-4542</td>\n",
       "      <td>1</td>\n",
       "      <td>1</td>\n",
       "      <td>0</td>\n",
       "      <td>0</td>\n",
       "      <td>NaN</td>\n",
       "      <td>2.0</td>\n",
       "      <td>-14.0</td>\n",
       "      <td>0</td>\n",
       "    </tr>\n",
       "    <tr>\n",
       "      <th>2</th>\n",
       "      <td>5008806</td>\n",
       "      <td>M</td>\n",
       "      <td>Y</td>\n",
       "      <td>Y</td>\n",
       "      <td>0</td>\n",
       "      <td>112500.0</td>\n",
       "      <td>Working</td>\n",
       "      <td>Secondary / secondary special</td>\n",
       "      <td>Married</td>\n",
       "      <td>House / apartment</td>\n",
       "      <td>-21474</td>\n",
       "      <td>-1134</td>\n",
       "      <td>1</td>\n",
       "      <td>0</td>\n",
       "      <td>0</td>\n",
       "      <td>0</td>\n",
       "      <td>Security staff</td>\n",
       "      <td>2.0</td>\n",
       "      <td>-29.0</td>\n",
       "      <td>0</td>\n",
       "    </tr>\n",
       "    <tr>\n",
       "      <th>3</th>\n",
       "      <td>5008808</td>\n",
       "      <td>F</td>\n",
       "      <td>N</td>\n",
       "      <td>Y</td>\n",
       "      <td>0</td>\n",
       "      <td>270000.0</td>\n",
       "      <td>Commercial associate</td>\n",
       "      <td>Secondary / secondary special</td>\n",
       "      <td>Single / not married</td>\n",
       "      <td>House / apartment</td>\n",
       "      <td>-19110</td>\n",
       "      <td>-3051</td>\n",
       "      <td>1</td>\n",
       "      <td>0</td>\n",
       "      <td>1</td>\n",
       "      <td>1</td>\n",
       "      <td>Sales staff</td>\n",
       "      <td>1.0</td>\n",
       "      <td>-4.0</td>\n",
       "      <td>0</td>\n",
       "    </tr>\n",
       "    <tr>\n",
       "      <th>4</th>\n",
       "      <td>5008809</td>\n",
       "      <td>F</td>\n",
       "      <td>N</td>\n",
       "      <td>Y</td>\n",
       "      <td>0</td>\n",
       "      <td>270000.0</td>\n",
       "      <td>Commercial associate</td>\n",
       "      <td>Secondary / secondary special</td>\n",
       "      <td>Single / not married</td>\n",
       "      <td>House / apartment</td>\n",
       "      <td>-19110</td>\n",
       "      <td>-3051</td>\n",
       "      <td>1</td>\n",
       "      <td>0</td>\n",
       "      <td>1</td>\n",
       "      <td>1</td>\n",
       "      <td>Sales staff</td>\n",
       "      <td>1.0</td>\n",
       "      <td>-26.0</td>\n",
       "      <td>0</td>\n",
       "    </tr>\n",
       "  </tbody>\n",
       "</table>\n",
       "</div>"
      ],
      "text/plain": [
       "        ID CODE_GENDER FLAG_OWN_CAR FLAG_OWN_REALTY  CNT_CHILDREN  \\\n",
       "0  5008804           M            Y               Y             0   \n",
       "1  5008805           M            Y               Y             0   \n",
       "2  5008806           M            Y               Y             0   \n",
       "3  5008808           F            N               Y             0   \n",
       "4  5008809           F            N               Y             0   \n",
       "\n",
       "   AMT_INCOME_TOTAL      NAME_INCOME_TYPE            NAME_EDUCATION_TYPE  \\\n",
       "0          427500.0               Working               Higher education   \n",
       "1          427500.0               Working               Higher education   \n",
       "2          112500.0               Working  Secondary / secondary special   \n",
       "3          270000.0  Commercial associate  Secondary / secondary special   \n",
       "4          270000.0  Commercial associate  Secondary / secondary special   \n",
       "\n",
       "     NAME_FAMILY_STATUS  NAME_HOUSING_TYPE  DAYS_BIRTH  DAYS_EMPLOYED  \\\n",
       "0        Civil marriage   Rented apartment      -12005          -4542   \n",
       "1        Civil marriage   Rented apartment      -12005          -4542   \n",
       "2               Married  House / apartment      -21474          -1134   \n",
       "3  Single / not married  House / apartment      -19110          -3051   \n",
       "4  Single / not married  House / apartment      -19110          -3051   \n",
       "\n",
       "   FLAG_MOBIL  FLAG_WORK_PHONE  FLAG_PHONE  FLAG_EMAIL OCCUPATION_TYPE  \\\n",
       "0           1                1           0           0             NaN   \n",
       "1           1                1           0           0             NaN   \n",
       "2           1                0           0           0  Security staff   \n",
       "3           1                0           1           1     Sales staff   \n",
       "4           1                0           1           1     Sales staff   \n",
       "\n",
       "   CNT_FAM_MEMBERS  begin_month targetrisk  \n",
       "0              2.0        -15.0          0  \n",
       "1              2.0        -14.0          0  \n",
       "2              2.0        -29.0          0  \n",
       "3              1.0         -4.0          0  \n",
       "4              1.0        -26.0          0  "
      ]
     },
     "execution_count": 24,
     "metadata": {},
     "output_type": "execute_result"
    }
   ],
   "source": [
    "appcredmergedata.head()"
   ]
  },
  {
   "cell_type": "code",
   "execution_count": 25,
   "id": "3b126953-b310-44d1-8573-f357cc8aca3e",
   "metadata": {},
   "outputs": [
    {
     "name": "stdout",
     "output_type": "stream",
     "text": [
      "0    36155\n",
      "1      302\n",
      "Name: targetrisk, dtype: int64\n"
     ]
    },
    {
     "data": {
      "text/plain": [
       "0    0.991716\n",
       "1    0.008284\n",
       "Name: targetrisk, dtype: float64"
      ]
     },
     "execution_count": 25,
     "metadata": {},
     "output_type": "execute_result"
    }
   ],
   "source": [
    "print(appcredmergedata['targetrisk'].value_counts())\n",
    "appcredmergedata['targetrisk'].value_counts(normalize=True)"
   ]
  },
  {
   "cell_type": "markdown",
   "id": "1e5a4da9-9ec0-40a9-ad60-f788492f60a6",
   "metadata": {},
   "source": [
    "only records are at risk , which is low though it is also important to understand the factors affecting it and this can be associated with high numbers in terms of amount as well "
   ]
  },
  {
   "cell_type": "markdown",
   "id": "34356d5a-763b-4289-8fd4-58380784eaaf",
   "metadata": {
    "jp-MarkdownHeadingCollapsed": true,
    "tags": []
   },
   "source": [
    "## Feature Engineering"
   ]
  },
  {
   "cell_type": "code",
   "execution_count": 26,
   "id": "5404b097-e1d7-4d76-811d-4fec83d81a5c",
   "metadata": {},
   "outputs": [],
   "source": [
    "dfprocess=appcredmergedata.copy()"
   ]
  },
  {
   "cell_type": "code",
   "execution_count": 27,
   "id": "fbeae40d-bf75-40dd-8db6-4ded16250892",
   "metadata": {},
   "outputs": [],
   "source": [
    "dfprocess.rename(columns={'CODE_GENDER':'Gender','FLAG_OWN_CAR':'OwnCar','FLAG_OWN_REALTY':'OwnReality',\n",
    "                         'CNT_CHILDREN':'ChildCount','AMT_INCOME_TOTAL':'AnnualIncome',\n",
    "                         'NAME_EDUCATION_TYPE':'EducationType','NAME_FAMILY_STATUS':'FamilyStatus',\n",
    "                        'NAME_HOUSING_TYPE':'HousingType','FLAG_EMAIL':'EmailFlag',\n",
    "                         'NAME_INCOME_TYPE':'IncomeType','FLAG_WORK_PHONE':'WorkPhoneFlag',\n",
    "                         'FLAG_PHONE':'PhoneFlag','CNT_FAM_MEMBERS':'FamilySize',\n",
    "                        'OCCUPATION_TYPE':'OccupationType',\n",
    "                          'DAYS_BIRTH':'DaysBirth' , 'DAYS_EMPLOYED':'DaysEmployed' , 'FLAG_MOBIL': 'MobileFlag'\n",
    "                        },inplace=True)"
   ]
  },
  {
   "cell_type": "code",
   "execution_count": 28,
   "id": "b05fef64-1ad0-4915-a6bd-1bcbf479a22d",
   "metadata": {},
   "outputs": [
    {
     "data": {
      "text/html": [
       "<div>\n",
       "<style scoped>\n",
       "    .dataframe tbody tr th:only-of-type {\n",
       "        vertical-align: middle;\n",
       "    }\n",
       "\n",
       "    .dataframe tbody tr th {\n",
       "        vertical-align: top;\n",
       "    }\n",
       "\n",
       "    .dataframe thead th {\n",
       "        text-align: right;\n",
       "    }\n",
       "</style>\n",
       "<table border=\"1\" class=\"dataframe\">\n",
       "  <thead>\n",
       "    <tr style=\"text-align: right;\">\n",
       "      <th></th>\n",
       "      <th>ID</th>\n",
       "      <th>Gender</th>\n",
       "      <th>OwnCar</th>\n",
       "      <th>OwnReality</th>\n",
       "      <th>ChildCount</th>\n",
       "      <th>AnnualIncome</th>\n",
       "      <th>IncomeType</th>\n",
       "      <th>EducationType</th>\n",
       "      <th>FamilyStatus</th>\n",
       "      <th>HousingType</th>\n",
       "      <th>DaysBirth</th>\n",
       "      <th>DaysEmployed</th>\n",
       "      <th>MobileFlag</th>\n",
       "      <th>WorkPhoneFlag</th>\n",
       "      <th>PhoneFlag</th>\n",
       "      <th>EmailFlag</th>\n",
       "      <th>OccupationType</th>\n",
       "      <th>FamilySize</th>\n",
       "      <th>begin_month</th>\n",
       "      <th>targetrisk</th>\n",
       "    </tr>\n",
       "  </thead>\n",
       "  <tbody>\n",
       "    <tr>\n",
       "      <th>0</th>\n",
       "      <td>5008804</td>\n",
       "      <td>M</td>\n",
       "      <td>Y</td>\n",
       "      <td>Y</td>\n",
       "      <td>0</td>\n",
       "      <td>427500.0</td>\n",
       "      <td>Working</td>\n",
       "      <td>Higher education</td>\n",
       "      <td>Civil marriage</td>\n",
       "      <td>Rented apartment</td>\n",
       "      <td>-12005</td>\n",
       "      <td>-4542</td>\n",
       "      <td>1</td>\n",
       "      <td>1</td>\n",
       "      <td>0</td>\n",
       "      <td>0</td>\n",
       "      <td>NaN</td>\n",
       "      <td>2.0</td>\n",
       "      <td>-15.0</td>\n",
       "      <td>0</td>\n",
       "    </tr>\n",
       "    <tr>\n",
       "      <th>1</th>\n",
       "      <td>5008805</td>\n",
       "      <td>M</td>\n",
       "      <td>Y</td>\n",
       "      <td>Y</td>\n",
       "      <td>0</td>\n",
       "      <td>427500.0</td>\n",
       "      <td>Working</td>\n",
       "      <td>Higher education</td>\n",
       "      <td>Civil marriage</td>\n",
       "      <td>Rented apartment</td>\n",
       "      <td>-12005</td>\n",
       "      <td>-4542</td>\n",
       "      <td>1</td>\n",
       "      <td>1</td>\n",
       "      <td>0</td>\n",
       "      <td>0</td>\n",
       "      <td>NaN</td>\n",
       "      <td>2.0</td>\n",
       "      <td>-14.0</td>\n",
       "      <td>0</td>\n",
       "    </tr>\n",
       "  </tbody>\n",
       "</table>\n",
       "</div>"
      ],
      "text/plain": [
       "        ID Gender OwnCar OwnReality  ChildCount  AnnualIncome IncomeType  \\\n",
       "0  5008804      M      Y          Y           0      427500.0    Working   \n",
       "1  5008805      M      Y          Y           0      427500.0    Working   \n",
       "\n",
       "      EducationType    FamilyStatus       HousingType  DaysBirth  \\\n",
       "0  Higher education  Civil marriage  Rented apartment     -12005   \n",
       "1  Higher education  Civil marriage  Rented apartment     -12005   \n",
       "\n",
       "   DaysEmployed  MobileFlag  WorkPhoneFlag  PhoneFlag  EmailFlag  \\\n",
       "0         -4542           1              1          0          0   \n",
       "1         -4542           1              1          0          0   \n",
       "\n",
       "  OccupationType  FamilySize  begin_month targetrisk  \n",
       "0            NaN         2.0        -15.0          0  \n",
       "1            NaN         2.0        -14.0          0  "
      ]
     },
     "execution_count": 28,
     "metadata": {},
     "output_type": "execute_result"
    }
   ],
   "source": [
    "dfprocess.head(2)"
   ]
  },
  {
   "cell_type": "markdown",
   "id": "65cd2dfc-bfff-4d45-95a4-986563f9309e",
   "metadata": {},
   "source": [
    "##### Gender"
   ]
  },
  {
   "cell_type": "code",
   "execution_count": 29,
   "id": "f8d03c76-41cd-427c-a7dc-a170f7a7c9dd",
   "metadata": {},
   "outputs": [
    {
     "data": {
      "text/plain": [
       "array(['M', 'F'], dtype=object)"
      ]
     },
     "execution_count": 29,
     "metadata": {},
     "output_type": "execute_result"
    }
   ],
   "source": [
    "dfprocess['Gender'].unique() "
   ]
  },
  {
   "cell_type": "markdown",
   "id": "4892dd2d-0c6f-4b81-bcd4-0854d355f233",
   "metadata": {},
   "source": [
    "Here Gender has only 2 values hence easy to convert this to numeric value for model training and also, we will be converting this to type integer"
   ]
  },
  {
   "cell_type": "code",
   "execution_count": 30,
   "id": "22662443-4e9a-4e4e-b428-bc8427d17673",
   "metadata": {},
   "outputs": [],
   "source": [
    "dfprocess['Gender'] = dfprocess['Gender'].replace(['F','M'],[0,1])"
   ]
  },
  {
   "cell_type": "code",
   "execution_count": 31,
   "id": "e8ed4ffc-b7a6-4564-b9ce-9d450b93ca66",
   "metadata": {},
   "outputs": [],
   "source": [
    "dfprocess['Gender']=dfprocess['Gender'].astype('int64')"
   ]
  },
  {
   "cell_type": "markdown",
   "id": "b9e94357-aea7-4251-93d6-19926d5522bd",
   "metadata": {},
   "source": [
    "##### Having a car or not"
   ]
  },
  {
   "cell_type": "code",
   "execution_count": 32,
   "id": "327856b5-5bc2-4f40-bb8d-385d9a7c1957",
   "metadata": {},
   "outputs": [
    {
     "data": {
      "text/plain": [
       "array(['Y', 'N'], dtype=object)"
      ]
     },
     "execution_count": 32,
     "metadata": {},
     "output_type": "execute_result"
    }
   ],
   "source": [
    "dfprocess['OwnCar'].unique() "
   ]
  },
  {
   "cell_type": "code",
   "execution_count": 33,
   "id": "6174e1b6-6efd-4930-9d80-1a8f82390b49",
   "metadata": {},
   "outputs": [],
   "source": [
    "dfprocess['OwnCar'] = dfprocess['OwnCar'].replace(['N','Y'],[0,1])\n",
    "dfprocess['OwnCar']=dfprocess['OwnCar'].astype('int64')"
   ]
  },
  {
   "cell_type": "markdown",
   "id": "2c280b77-ac21-4b98-8686-aac5da8137fa",
   "metadata": {},
   "source": [
    "Here we have encoded N and Y as 0 and 1 respectively and converted the column into Integer type "
   ]
  },
  {
   "cell_type": "markdown",
   "id": "24077086-fca5-44ec-964c-f409f808805a",
   "metadata": {},
   "source": [
    "Similar to owncar column, OwnReality column will be updated"
   ]
  },
  {
   "cell_type": "code",
   "execution_count": 34,
   "id": "e5273701-4121-4878-8b9c-c691d07efea0",
   "metadata": {},
   "outputs": [],
   "source": [
    "dfprocess['OwnReality'] = dfprocess['OwnReality'].replace(['N','Y'],[0,1])\n",
    "dfprocess['OwnReality']=dfprocess['OwnReality'].astype('int64')"
   ]
  },
  {
   "cell_type": "code",
   "execution_count": 35,
   "id": "815be270-6323-4ebe-b38e-cf6b84cbeaf7",
   "metadata": {},
   "outputs": [
    {
     "name": "stdout",
     "output_type": "stream",
     "text": [
      "0    25709\n",
      "1    10748\n",
      "Name: PhoneFlag, dtype: int64\n"
     ]
    },
    {
     "data": {
      "text/plain": [
       "0    0.705187\n",
       "1    0.294813\n",
       "Name: PhoneFlag, dtype: float64"
      ]
     },
     "execution_count": 35,
     "metadata": {},
     "output_type": "execute_result"
    }
   ],
   "source": [
    "print(dfprocess['PhoneFlag'].value_counts())\n",
    "dfprocess['PhoneFlag'].value_counts(normalize=True)"
   ]
  },
  {
   "cell_type": "code",
   "execution_count": 36,
   "id": "c679aa02-2d99-4aff-8055-f481c5e3dfda",
   "metadata": {},
   "outputs": [
    {
     "name": "stdout",
     "output_type": "stream",
     "text": [
      "0    33186\n",
      "1     3271\n",
      "Name: EmailFlag, dtype: int64\n"
     ]
    },
    {
     "data": {
      "text/plain": [
       "0    0.910278\n",
       "1    0.089722\n",
       "Name: EmailFlag, dtype: float64"
      ]
     },
     "execution_count": 36,
     "metadata": {},
     "output_type": "execute_result"
    }
   ],
   "source": [
    "print(dfprocess['EmailFlag'].value_counts())\n",
    "dfprocess['EmailFlag'].value_counts(normalize=True)"
   ]
  },
  {
   "cell_type": "code",
   "execution_count": 37,
   "id": "9b666daf-14fc-4f32-80cb-16e6061c39bc",
   "metadata": {},
   "outputs": [
    {
     "name": "stdout",
     "output_type": "stream",
     "text": [
      "0    28235\n",
      "1     8222\n",
      "Name: WorkPhoneFlag, dtype: int64\n"
     ]
    },
    {
     "data": {
      "text/plain": [
       "0    0.774474\n",
       "1    0.225526\n",
       "Name: WorkPhoneFlag, dtype: float64"
      ]
     },
     "execution_count": 37,
     "metadata": {},
     "output_type": "execute_result"
    }
   ],
   "source": [
    "print(dfprocess['WorkPhoneFlag'].value_counts())\n",
    "dfprocess['WorkPhoneFlag'].value_counts(normalize=True)"
   ]
  },
  {
   "cell_type": "code",
   "execution_count": 38,
   "id": "8a85b778-aa31-4b7c-9691-2304e541da0d",
   "metadata": {},
   "outputs": [
    {
     "name": "stdout",
     "output_type": "stream",
     "text": [
      "1    36457\n",
      "Name: MobileFlag, dtype: int64\n"
     ]
    },
    {
     "data": {
      "text/plain": [
       "1    1.0\n",
       "Name: MobileFlag, dtype: float64"
      ]
     },
     "execution_count": 38,
     "metadata": {},
     "output_type": "execute_result"
    }
   ],
   "source": [
    "print(dfprocess['MobileFlag'].value_counts())\n",
    "dfprocess['MobileFlag'].value_counts(normalize=True)"
   ]
  },
  {
   "cell_type": "markdown",
   "id": "9be2cc79-610f-4841-baf8-f2dda0394e75",
   "metadata": {
    "tags": []
   },
   "source": [
    "### Continuous Variables"
   ]
  },
  {
   "cell_type": "code",
   "execution_count": 39,
   "id": "499357b3-b6f8-4f4e-a614-564b01468834",
   "metadata": {},
   "outputs": [
    {
     "data": {
      "text/plain": [
       "0     0.691253\n",
       "1     0.205502\n",
       "2     0.089311\n",
       "3     0.011493\n",
       "4     0.001728\n",
       "5     0.000549\n",
       "14    0.000082\n",
       "7     0.000055\n",
       "19    0.000027\n",
       "Name: ChildCount, dtype: float64"
      ]
     },
     "execution_count": 39,
     "metadata": {},
     "output_type": "execute_result"
    }
   ],
   "source": [
    "dfprocess['ChildCount'].value_counts(normalize=True)"
   ]
  },
  {
   "cell_type": "markdown",
   "id": "f1dc0066-5ee6-4d1d-bb4b-e9d99b6a8664",
   "metadata": {},
   "source": [
    "Here the percentage of child count more than 2 is pretty low hence we will club them together"
   ]
  },
  {
   "cell_type": "code",
   "execution_count": 40,
   "id": "fc9435b5-cdd7-4a84-b118-48ebb3ce40ad",
   "metadata": {},
   "outputs": [
    {
     "data": {
      "text/plain": [
       "0        25201\n",
       "1         7492\n",
       "2More     3764\n",
       "Name: ChildCount, dtype: int64"
      ]
     },
     "execution_count": 40,
     "metadata": {},
     "output_type": "execute_result"
    }
   ],
   "source": [
    "dfprocess.loc[dfprocess['ChildCount'] >= 2,'ChildCount']='2More'\n",
    "dfprocess['ChildCount'].value_counts()"
   ]
  },
  {
   "cell_type": "code",
   "execution_count": 41,
   "id": "824c783c-63a9-4ddc-8b40-bceb5f265b2b",
   "metadata": {},
   "outputs": [
    {
     "name": "stdout",
     "output_type": "stream",
     "text": [
      "(2.544, 18.18]      22460\n",
      "(18.18, 33.66]      11380\n",
      "(33.66, 49.14]       2099\n",
      "(49.14, 64.62]        274\n",
      "(64.62, 80.1]         165\n",
      "(80.1, 95.58]          58\n",
      "(95.58, 111.06]         4\n",
      "(111.06, 126.54]        3\n",
      "(126.54, 142.02]        6\n",
      "(142.02, 157.5]         8\n",
      "Name: AnnualIncome, dtype: int64\n"
     ]
    },
    {
     "data": {
      "text/plain": [
       "<AxesSubplot:ylabel='Frequency'>"
      ]
     },
     "execution_count": 41,
     "metadata": {},
     "output_type": "execute_result"
    },
    {
     "data": {
      "image/png": "[encoded data removed]",
      "text/plain": [
       "<Figure size 432x288 with 1 Axes>"
      ]
     },
     "metadata": {},
     "output_type": "display_data"
    }
   ],
   "source": [
    "# Categorizing annual incode in bins \n",
    "#dfprocess['AnnualIncome']=dfprocess['AnnualIncome'].astype(object)\n",
    "dfprocess['AnnualIncome'] = dfprocess['AnnualIncome']/10000 \n",
    "print(dfprocess['AnnualIncome'].value_counts(bins=10,sort=False))\n",
    "dfprocess['AnnualIncome'].plot(kind='hist',bins=50,density=True)"
   ]
  },
  {
   "cell_type": "code",
   "execution_count": 42,
   "id": "ccf60150-91e5-47ff-8f8c-5dc3cbffc11b",
   "metadata": {},
   "outputs": [],
   "source": [
    "dfprocess1=dfprocess.copy()"
   ]
  },
  {
   "cell_type": "markdown",
   "id": "4a36fccc-25df-4a3c-93f5-0a88f2e6f591",
   "metadata": {},
   "source": [
    "Reference: https://stackoverflow.com/questions/30211923/what-is-the-difference-between-pandas-qcut-and-pandas-cut"
   ]
  },
  {
   "cell_type": "code",
   "execution_count": 43,
   "id": "e0d161dc-bc8c-4efb-83f2-721cc7ab8b2d",
   "metadata": {},
   "outputs": [],
   "source": [
    "def createbins(dataframe, column_name, label_texts, option):\n",
    "    # Create a new column to store the bin labels\n",
    "    bin_column_name = column_name + '_bin'\n",
    "    \n",
    "    if option == 'quantile':\n",
    "        dataframe[bin_column_name] = pd.qcut(dataframe[column_name], q=len(label_texts), labels=label_texts)\n",
    "    elif option == 'equal-length':\n",
    "        dataframe[bin_column_name] = pd.cut(dataframe[column_name], bins=len(label_texts), labels=label_texts)\n",
    "    else:\n",
    "        raise ValueError(\"Invalid option. Please choose either 'quantile' or 'equal-length'.\")\n",
    "    \n",
    "    return dataframe\n"
   ]
  },
  {
   "cell_type": "code",
   "execution_count": 44,
   "id": "9fd2ecd7-92bd-4f45-92b5-08595f4d3bed",
   "metadata": {},
   "outputs": [],
   "source": [
    "#option = 'quantile'  # or 'equal-length'\n",
    "dfprocess1 = createbins(dfprocess1,'AnnualIncome', [\"low\",\"medium\", \"high\"], 'quantile')"
   ]
  },
  {
   "cell_type": "code",
   "execution_count": 45,
   "id": "ccac4ec8-a373-4247-8b19-caa422d7f2ae",
   "metadata": {},
   "outputs": [
    {
     "data": {
      "text/plain": [
       "low       14473\n",
       "high      11282\n",
       "medium    10702\n",
       "Name: AnnualIncome_bin, dtype: int64"
      ]
     },
     "execution_count": 45,
     "metadata": {},
     "output_type": "execute_result"
    }
   ],
   "source": [
    "dfprocess1['AnnualIncome_bin'].value_counts()"
   ]
  },
  {
   "cell_type": "markdown",
   "id": "e3049bef-dbe8-45db-a4ba-5cc1208dc7a3",
   "metadata": {},
   "source": [
    "Days_Birth / Age"
   ]
  },
  {
   "cell_type": "code",
   "execution_count": 46,
   "id": "3d955661-cccd-455a-ad76-4bbe1d17df19",
   "metadata": {},
   "outputs": [
    {
     "name": "stdout",
     "output_type": "stream",
     "text": [
      "(19.951, 24.8]    0.020243\n",
      "(24.8, 29.6]      0.114930\n",
      "(29.6, 34.4]      0.139836\n",
      "(34.4, 39.2]      0.146419\n",
      "(39.2, 44.0]      0.140796\n",
      "(44.0, 48.8]      0.094166\n",
      "(48.8, 53.6]      0.109444\n",
      "(53.6, 58.4]      0.106948\n",
      "(58.4, 63.2]      0.091286\n",
      "(63.2, 68.0]      0.035933\n",
      "Name: Age, dtype: float64\n"
     ]
    },
    {
     "data": {
      "text/plain": [
       "<AxesSubplot:ylabel='Frequency'>"
      ]
     },
     "execution_count": 46,
     "metadata": {},
     "output_type": "execute_result"
    },
    {
     "data": {
      "image/png": "[encoded data removed]",
      "text/plain": [
       "<Figure size 432x288 with 1 Axes>"
      ]
     },
     "metadata": {},
     "output_type": "display_data"
    }
   ],
   "source": [
    "dfprocess1['Age']=-(dfprocess1['DaysBirth'])//365\n",
    "print(dfprocess1['Age'].value_counts(bins=10,normalize=True,sort=False))\n",
    "dfprocess1['Age'].plot(kind='hist',bins=20,density=True)"
   ]
  },
  {
   "cell_type": "code",
   "execution_count": 47,
   "id": "6ece21a7-9acf-4be5-87f6-ecd4a2a642a7",
   "metadata": {},
   "outputs": [],
   "source": [
    "dfprocess2=dfprocess1.copy()"
   ]
  },
  {
   "cell_type": "code",
   "execution_count": 48,
   "id": "26c3ecf5-7372-46df-bf21-2b74517bb19e",
   "metadata": {},
   "outputs": [],
   "source": [
    "#option = 'quantile'  # or 'equal-length'\n",
    "dfprocess2 = createbins(dfprocess2,'Age', [\"0-20\",\"20-40\", \"40-60\",\"60-80\"], 'equal-length')"
   ]
  },
  {
   "cell_type": "code",
   "execution_count": 49,
   "id": "015dc554-b793-46c7-a870-ffe1b6bdaaeb",
   "metadata": {},
   "outputs": [
    {
     "data": {
      "text/plain": [
       "20-40    12582\n",
       "40-60     9737\n",
       "0-20      7915\n",
       "60-80     6223\n",
       "Name: Age_bin, dtype: int64"
      ]
     },
     "execution_count": 49,
     "metadata": {},
     "output_type": "execute_result"
    }
   ],
   "source": [
    "dfprocess2['Age_bin'].value_counts()"
   ]
  },
  {
   "cell_type": "code",
   "execution_count": 50,
   "id": "fa427392-040b-4fe3-9664-5dc21f751d2b",
   "metadata": {},
   "outputs": [
    {
     "data": {
      "text/plain": [
       "<AxesSubplot:ylabel='Frequency'>"
      ]
     },
     "execution_count": 50,
     "metadata": {},
     "output_type": "execute_result"
    },
    {
     "data": {
      "image/png": "[encoded data removed]",
      "text/plain": [
       "<Figure size 432x288 with 1 Axes>"
      ]
     },
     "metadata": {},
     "output_type": "display_data"
    }
   ],
   "source": [
    "dfprocess2['YearsEmployed']=-(dfprocess2['DaysEmployed'])//365\n",
    "dfprocess2[dfprocess2['YearsEmployed']<0] = np.nan # replace by na\n",
    "dfprocess2['YearsEmployed'].fillna(dfprocess2['YearsEmployed'].mean(),inplace=True) #replace na by mean\n",
    "dfprocess2['YearsEmployed'].plot(kind='hist',bins=20,density=True)"
   ]
  },
  {
   "cell_type": "code",
   "execution_count": 51,
   "id": "6ab4d1e9-a650-400f-a93a-dc5952679cbc",
   "metadata": {},
   "outputs": [],
   "source": [
    "#option = 'quantile'  # or 'equal-length'\n",
    "dfprocess2 = createbins(dfprocess2,'YearsEmployed', [\"0-15\",\"15-30\", \"30-45\",\"45-60\"], 'equal-length')"
   ]
  },
  {
   "cell_type": "code",
   "execution_count": 52,
   "id": "dbb077bc-c712-4097-9550-9f7bf8fc3791",
   "metadata": {},
   "outputs": [
    {
     "data": {
      "text/plain": [
       "0-15     30419\n",
       "15-30     4775\n",
       "30-45     1087\n",
       "45-60      176\n",
       "Name: YearsEmployed_bin, dtype: int64"
      ]
     },
     "execution_count": 52,
     "metadata": {},
     "output_type": "execute_result"
    }
   ],
   "source": [
    "dfprocess2['YearsEmployed_bin'].value_counts()"
   ]
  },
  {
   "cell_type": "markdown",
   "id": "f006a705-2713-45c6-94b1-309daadbb378",
   "metadata": {},
   "source": [
    "Family Size"
   ]
  },
  {
   "cell_type": "code",
   "execution_count": 53,
   "id": "bf9e7110-e0e3-43c1-82db-087dba0f7671",
   "metadata": {},
   "outputs": [
    {
     "data": {
      "text/plain": [
       "2.0     15389\n",
       "1.0      5151\n",
       "5.0       387\n",
       "3.0      6255\n",
       "4.0      3057\n",
       "6.0        58\n",
       "15.0        3\n",
       "7.0        19\n",
       "20.0        1\n",
       "9.0         2\n",
       "Name: FamilySize, dtype: int64"
      ]
     },
     "execution_count": 53,
     "metadata": {},
     "output_type": "execute_result"
    }
   ],
   "source": [
    "dfprocess2['FamilySize'].value_counts(sort=False)"
   ]
  },
  {
   "cell_type": "code",
   "execution_count": 54,
   "id": "ffaadd10-137c-4a6d-ba8d-7a61f325ec2d",
   "metadata": {},
   "outputs": [
    {
     "data": {
      "text/plain": [
       "2.0      15389\n",
       "1.0       5151\n",
       "3more     9782\n",
       "Name: FamilySizeGroup, dtype: int64"
      ]
     },
     "execution_count": 54,
     "metadata": {},
     "output_type": "execute_result"
    }
   ],
   "source": [
    "dfprocess2['FamilySizeGroup']=dfprocess2['FamilySize']\n",
    "dfprocess2.loc[dfprocess2['FamilySizeGroup']>=3,'FamilySizeGroup']='3more'\n",
    "dfprocess2['FamilySizeGroup'].value_counts(sort=False)"
   ]
  },
  {
   "cell_type": "code",
   "execution_count": 55,
   "id": "38bc5b14-fbb1-4f9b-af57-c947ef24273a",
   "metadata": {},
   "outputs": [],
   "source": [
    "dfprocess2['FamilySizeGroup']=dfprocess2['FamilySizeGroup'].astype(object)"
   ]
  },
  {
   "cell_type": "markdown",
   "id": "2a4ca5d3-ebfb-4a5d-8bfd-5cbcaf406d4a",
   "metadata": {
    "tags": []
   },
   "source": [
    "### Categorial Data"
   ]
  },
  {
   "cell_type": "code",
   "execution_count": 56,
   "id": "d53f3cbc-14ef-490e-8de2-620d5d97ccd2",
   "metadata": {},
   "outputs": [],
   "source": [
    "dfprocess3=dfprocess2.copy()"
   ]
  },
  {
   "cell_type": "code",
   "execution_count": 57,
   "id": "44ccd3db-9e95-4284-985e-a30acf5e1f41",
   "metadata": {},
   "outputs": [
    {
     "data": {
      "text/plain": [
       "Working                 18819\n",
       "Commercial associate     8490\n",
       "State servant            2985\n",
       "Student                    11\n",
       "Pensioner                  17\n",
       "Name: IncomeType, dtype: int64"
      ]
     },
     "execution_count": 57,
     "metadata": {},
     "output_type": "execute_result"
    }
   ],
   "source": [
    "dfprocess3['IncomeType'].value_counts(sort=False)"
   ]
  },
  {
   "cell_type": "code",
   "execution_count": 58,
   "id": "f71d7d00-61e8-46ea-bde8-f09972a37b7f",
   "metadata": {},
   "outputs": [
    {
     "data": {
      "text/plain": [
       "Working                 18819\n",
       "Commercial associate     8490\n",
       "State servant            3013\n",
       "Name: IncomeType, dtype: int64"
      ]
     },
     "execution_count": 58,
     "metadata": {},
     "output_type": "execute_result"
    }
   ],
   "source": [
    "dfprocess3.loc[dfprocess3['IncomeType']=='Pensioner','IncomeType']='State servant'\n",
    "dfprocess3.loc[dfprocess3['IncomeType']=='Student','IncomeType']='State servant'\n",
    "dfprocess3['IncomeType'].value_counts(sort=False)"
   ]
  },
  {
   "cell_type": "code",
   "execution_count": 59,
   "id": "cec0cc80-119f-4055-8a78-4961aa2f1093",
   "metadata": {},
   "outputs": [
    {
     "data": {
      "text/plain": [
       "Security staff            592\n",
       "Sales staff              3485\n",
       "Accountants              1241\n",
       "Laborers                 6211\n",
       "Managers                 3012\n",
       "Drivers                  2138\n",
       "Core staff               3591\n",
       "High skill tech staff    1383\n",
       "Cleaning staff            551\n",
       "Private service staff     344\n",
       "Cooking staff             655\n",
       "Low-skill Laborers        175\n",
       "Medicine staff           1207\n",
       "Secretaries               151\n",
       "Waiters/barmen staff      174\n",
       "HR staff                   85\n",
       "Realty agents              79\n",
       "IT staff                   60\n",
       "Name: OccupationType, dtype: int64"
      ]
     },
     "execution_count": 59,
     "metadata": {},
     "output_type": "execute_result"
    }
   ],
   "source": [
    "dfprocess3['OccupationType'].value_counts(sort=False)"
   ]
  },
  {
   "cell_type": "markdown",
   "id": "5e0f24be-6a2d-475d-99ba-012b0cc5534a",
   "metadata": {},
   "source": [
    "there is a wide variation in this field , hence will keep it as it is for now. may group it at later point"
   ]
  },
  {
   "cell_type": "code",
   "execution_count": 60,
   "id": "54dc50a3-6f57-49f5-b84b-123bd9011e53",
   "metadata": {},
   "outputs": [
    {
     "data": {
      "text/plain": [
       "Rented apartment         545\n",
       "House / apartment      26653\n",
       "Municipal apartment      951\n",
       "With parents            1771\n",
       "Co-op apartment          160\n",
       "Office apartment         242\n",
       "Name: HousingType, dtype: int64"
      ]
     },
     "execution_count": 60,
     "metadata": {},
     "output_type": "execute_result"
    }
   ],
   "source": [
    "dfprocess3['HousingType'].value_counts(sort=False)"
   ]
  },
  {
   "cell_type": "code",
   "execution_count": 61,
   "id": "77296501-8ec4-4324-8094-89cada6edcc1",
   "metadata": {},
   "outputs": [
    {
     "data": {
      "text/plain": [
       "Higher education                  8858\n",
       "Secondary / secondary special    19867\n",
       "Incomplete higher                 1352\n",
       "Lower secondary                    214\n",
       "Academic degree                     31\n",
       "Name: EducationType, dtype: int64"
      ]
     },
     "execution_count": 61,
     "metadata": {},
     "output_type": "execute_result"
    }
   ],
   "source": [
    "dfprocess3['EducationType'].value_counts(sort=False)"
   ]
  },
  {
   "cell_type": "code",
   "execution_count": 62,
   "id": "a8bbc8ae-1d4a-4c82-95f1-23b42080f46a",
   "metadata": {},
   "outputs": [
    {
     "data": {
      "text/plain": [
       "Civil marriage           2575\n",
       "Married                 21137\n",
       "Single / not married     4148\n",
       "Separated                1758\n",
       "Widow                     704\n",
       "Name: FamilyStatus, dtype: int64"
      ]
     },
     "execution_count": 62,
     "metadata": {},
     "output_type": "execute_result"
    }
   ],
   "source": [
    "dfprocess3['FamilyStatus'].value_counts(sort=False)"
   ]
  },
  {
   "cell_type": "code",
   "execution_count": 63,
   "id": "633a8314-7ac1-48b3-9434-5ebc29418886",
   "metadata": {},
   "outputs": [
    {
     "data": {
      "text/plain": [
       "4          ChildCount\n",
       "6          IncomeType\n",
       "7       EducationType\n",
       "8        FamilyStatus\n",
       "9         HousingType\n",
       "16     OccupationType\n",
       "19         targetrisk\n",
       "25    FamilySizeGroup\n",
       "Name: index, dtype: object"
      ]
     },
     "execution_count": 63,
     "metadata": {},
     "output_type": "execute_result"
    }
   ],
   "source": [
    "ot = pd.DataFrame(dfprocess3.dtypes =='object').reset_index()\n",
    "object_type = ot[ot[0] == True]['index']\n",
    "object_type"
   ]
  },
  {
   "cell_type": "code",
   "execution_count": 64,
   "id": "41e8f667-d8ae-4e01-9a36-32bbd67e7041",
   "metadata": {},
   "outputs": [
    {
     "data": {
      "text/plain": [
       "0                    ID\n",
       "1                Gender\n",
       "2                OwnCar\n",
       "3            OwnReality\n",
       "5          AnnualIncome\n",
       "10            DaysBirth\n",
       "11         DaysEmployed\n",
       "12           MobileFlag\n",
       "13        WorkPhoneFlag\n",
       "14            PhoneFlag\n",
       "15            EmailFlag\n",
       "17           FamilySize\n",
       "18          begin_month\n",
       "20     AnnualIncome_bin\n",
       "21                  Age\n",
       "22              Age_bin\n",
       "23        YearsEmployed\n",
       "24    YearsEmployed_bin\n",
       "Name: index, dtype: object"
      ]
     },
     "execution_count": 64,
     "metadata": {},
     "output_type": "execute_result"
    }
   ],
   "source": [
    "num_type = pd.DataFrame(dfprocess3.dtypes != 'object').reset_index().rename(columns =  {0:'yes/no'})\n",
    "num_type = num_type[num_type['yes/no'] ==True]['index']\n",
    "num_type"
   ]
  },
  {
   "cell_type": "code",
   "execution_count": 65,
   "id": "1d8b458c-29bf-4c4a-a766-778c847bb447",
   "metadata": {},
   "outputs": [],
   "source": [
    "dfprocessM1=dfprocess3.copy()"
   ]
  },
  {
   "cell_type": "code",
   "execution_count": 66,
   "id": "2f363c04-3c6d-431a-8c16-0c20dba041ea",
   "metadata": {},
   "outputs": [
    {
     "data": {
      "text/plain": [
       "0    0\n",
       "1    0\n",
       "2    0\n",
       "3    0\n",
       "4    0\n",
       "Name: targetrisk, dtype: object"
      ]
     },
     "execution_count": 66,
     "metadata": {},
     "output_type": "execute_result"
    }
   ],
   "source": [
    "dfprocessM1['targetrisk'].head()"
   ]
  },
  {
   "cell_type": "code",
   "execution_count": 67,
   "id": "fbe8a40f-d68f-4799-8e9f-9f8bd4969f3b",
   "metadata": {},
   "outputs": [],
   "source": [
    "y=dfprocessM1.targetrisk\n",
    "X=dfprocessM1.drop(columns=['targetrisk'])"
   ]
  },
  {
   "cell_type": "code",
   "execution_count": 68,
   "id": "2c011ea7-0b1d-4755-be99-8e2a169ea9f4",
   "metadata": {},
   "outputs": [
    {
     "data": {
      "text/plain": [
       "(36457, 69)"
      ]
     },
     "execution_count": 68,
     "metadata": {},
     "output_type": "execute_result"
    }
   ],
   "source": [
    "#Converting categorial variables into Dummy / indicator variable\n",
    "X = pd.get_dummies(X)\n",
    "X.shape"
   ]
  },
  {
   "cell_type": "code",
   "execution_count": 69,
   "id": "19c61cca-d306-444e-b053-f1865a7746ee",
   "metadata": {},
   "outputs": [],
   "source": [
    "X=X.dropna().reset_index(drop=True)"
   ]
  },
  {
   "cell_type": "code",
   "execution_count": 70,
   "id": "2f738f50-51bc-459c-a80c-1dc5b42cc402",
   "metadata": {},
   "outputs": [
    {
     "data": {
      "text/plain": [
       "(36457,)"
      ]
     },
     "execution_count": 70,
     "metadata": {},
     "output_type": "execute_result"
    }
   ],
   "source": [
    "y.shape"
   ]
  },
  {
   "cell_type": "code",
   "execution_count": 71,
   "id": "68fd29d7-dfc2-4234-b231-d0660234ea63",
   "metadata": {},
   "outputs": [],
   "source": [
    "#y=dfprocessM1.targetrisk\n",
    "#X=dfprocessM1.drop(columns=['targetrisk'])\n",
    "\n",
    "#@title Splitting dataset into training set and test set\n",
    "#X_train, X_test, y_train, y_test = train_test_split(X, y, test_size=0.3, random_state=1) # 70% training and 30% test"
   ]
  },
  {
   "cell_type": "code",
   "execution_count": 72,
   "id": "a4e15afa-49e8-4f46-be66-d9e467e9996a",
   "metadata": {},
   "outputs": [
    {
     "data": {
      "text/html": [
       "<div>\n",
       "<style scoped>\n",
       "    .dataframe tbody tr th:only-of-type {\n",
       "        vertical-align: middle;\n",
       "    }\n",
       "\n",
       "    .dataframe tbody tr th {\n",
       "        vertical-align: top;\n",
       "    }\n",
       "\n",
       "    .dataframe thead th {\n",
       "        text-align: right;\n",
       "    }\n",
       "</style>\n",
       "<table border=\"1\" class=\"dataframe\">\n",
       "  <thead>\n",
       "    <tr style=\"text-align: right;\">\n",
       "      <th></th>\n",
       "      <th>ID</th>\n",
       "      <th>Gender</th>\n",
       "      <th>OwnCar</th>\n",
       "      <th>OwnReality</th>\n",
       "      <th>ChildCount</th>\n",
       "      <th>AnnualIncome</th>\n",
       "      <th>IncomeType</th>\n",
       "      <th>EducationType</th>\n",
       "      <th>FamilyStatus</th>\n",
       "      <th>HousingType</th>\n",
       "      <th>...</th>\n",
       "      <th>OccupationType</th>\n",
       "      <th>FamilySize</th>\n",
       "      <th>begin_month</th>\n",
       "      <th>targetrisk</th>\n",
       "      <th>AnnualIncome_bin</th>\n",
       "      <th>Age</th>\n",
       "      <th>Age_bin</th>\n",
       "      <th>YearsEmployed</th>\n",
       "      <th>YearsEmployed_bin</th>\n",
       "      <th>FamilySizeGroup</th>\n",
       "    </tr>\n",
       "  </thead>\n",
       "  <tbody>\n",
       "    <tr>\n",
       "      <th>0</th>\n",
       "      <td>5008804.0</td>\n",
       "      <td>1.0</td>\n",
       "      <td>1.0</td>\n",
       "      <td>1.0</td>\n",
       "      <td>0</td>\n",
       "      <td>42.75</td>\n",
       "      <td>Working</td>\n",
       "      <td>Higher education</td>\n",
       "      <td>Civil marriage</td>\n",
       "      <td>Rented apartment</td>\n",
       "      <td>...</td>\n",
       "      <td>NaN</td>\n",
       "      <td>2.0</td>\n",
       "      <td>-15.0</td>\n",
       "      <td>0</td>\n",
       "      <td>high</td>\n",
       "      <td>32.0</td>\n",
       "      <td>0-20</td>\n",
       "      <td>12.0</td>\n",
       "      <td>15-30</td>\n",
       "      <td>2.0</td>\n",
       "    </tr>\n",
       "    <tr>\n",
       "      <th>1</th>\n",
       "      <td>5008805.0</td>\n",
       "      <td>1.0</td>\n",
       "      <td>1.0</td>\n",
       "      <td>1.0</td>\n",
       "      <td>0</td>\n",
       "      <td>42.75</td>\n",
       "      <td>Working</td>\n",
       "      <td>Higher education</td>\n",
       "      <td>Civil marriage</td>\n",
       "      <td>Rented apartment</td>\n",
       "      <td>...</td>\n",
       "      <td>NaN</td>\n",
       "      <td>2.0</td>\n",
       "      <td>-14.0</td>\n",
       "      <td>0</td>\n",
       "      <td>high</td>\n",
       "      <td>32.0</td>\n",
       "      <td>0-20</td>\n",
       "      <td>12.0</td>\n",
       "      <td>15-30</td>\n",
       "      <td>2.0</td>\n",
       "    </tr>\n",
       "  </tbody>\n",
       "</table>\n",
       "<p>2 rows × 26 columns</p>\n",
       "</div>"
      ],
      "text/plain": [
       "          ID  Gender  OwnCar  OwnReality ChildCount  AnnualIncome IncomeType  \\\n",
       "0  5008804.0     1.0     1.0         1.0          0         42.75    Working   \n",
       "1  5008805.0     1.0     1.0         1.0          0         42.75    Working   \n",
       "\n",
       "      EducationType    FamilyStatus       HousingType  ...  OccupationType  \\\n",
       "0  Higher education  Civil marriage  Rented apartment  ...             NaN   \n",
       "1  Higher education  Civil marriage  Rented apartment  ...             NaN   \n",
       "\n",
       "   FamilySize  begin_month  targetrisk  AnnualIncome_bin   Age Age_bin  \\\n",
       "0         2.0        -15.0           0              high  32.0    0-20   \n",
       "1         2.0        -14.0           0              high  32.0    0-20   \n",
       "\n",
       "   YearsEmployed  YearsEmployed_bin FamilySizeGroup  \n",
       "0           12.0              15-30             2.0  \n",
       "1           12.0              15-30             2.0  \n",
       "\n",
       "[2 rows x 26 columns]"
      ]
     },
     "execution_count": 72,
     "metadata": {},
     "output_type": "execute_result"
    }
   ],
   "source": [
    "dfprocess3.head(2)"
   ]
  },
  {
   "cell_type": "code",
   "execution_count": 73,
   "id": "f358d48c-1ec3-4177-8f87-580f2c6a796b",
   "metadata": {},
   "outputs": [
    {
     "name": "stdout",
     "output_type": "stream",
     "text": [
      "<class 'pandas.core.frame.DataFrame'>\n",
      "Int64Index: 36457 entries, 0 to 36456\n",
      "Data columns (total 26 columns):\n",
      " #   Column             Non-Null Count  Dtype   \n",
      "---  ------             --------------  -----   \n",
      " 0   ID                 30322 non-null  float64 \n",
      " 1   Gender             30322 non-null  float64 \n",
      " 2   OwnCar             30322 non-null  float64 \n",
      " 3   OwnReality         30322 non-null  float64 \n",
      " 4   ChildCount         30322 non-null  object  \n",
      " 5   AnnualIncome       30322 non-null  float64 \n",
      " 6   IncomeType         30322 non-null  object  \n",
      " 7   EducationType      30322 non-null  object  \n",
      " 8   FamilyStatus       30322 non-null  object  \n",
      " 9   HousingType        30322 non-null  object  \n",
      " 10  DaysBirth          30322 non-null  float64 \n",
      " 11  DaysEmployed       30322 non-null  float64 \n",
      " 12  MobileFlag         30322 non-null  float64 \n",
      " 13  WorkPhoneFlag      30322 non-null  float64 \n",
      " 14  PhoneFlag          30322 non-null  float64 \n",
      " 15  EmailFlag          30322 non-null  float64 \n",
      " 16  OccupationType     25134 non-null  object  \n",
      " 17  FamilySize         30322 non-null  float64 \n",
      " 18  begin_month        30322 non-null  float64 \n",
      " 19  targetrisk         30322 non-null  object  \n",
      " 20  AnnualIncome_bin   30322 non-null  category\n",
      " 21  Age                30322 non-null  float64 \n",
      " 22  Age_bin            30322 non-null  category\n",
      " 23  YearsEmployed      36457 non-null  float64 \n",
      " 24  YearsEmployed_bin  36457 non-null  category\n",
      " 25  FamilySizeGroup    30322 non-null  object  \n",
      "dtypes: category(3), float64(15), object(8)\n",
      "memory usage: 6.8+ MB\n"
     ]
    }
   ],
   "source": [
    "dfprocess3.info()"
   ]
  },
  {
   "cell_type": "markdown",
   "id": "7cbacb15-67f1-4136-b26b-aacd4957aa78",
   "metadata": {},
   "source": [
    "# Modeling with Random Forest"
   ]
  },
  {
   "cell_type": "code",
   "execution_count": 74,
   "id": "8ed86ee0-9879-42a0-8189-872db86fd794",
   "metadata": {},
   "outputs": [
    {
     "name": "stdout",
     "output_type": "stream",
     "text": [
      "Requirement already satisfied: imbalanced-learn in c:\\users\\anton\\anaconda3\\lib\\site-packages (0.10.1)\n",
      "Requirement already satisfied: joblib>=1.1.1 in c:\\users\\anton\\anaconda3\\lib\\site-packages (from imbalanced-learn) (1.2.0)\n",
      "Requirement already satisfied: scipy>=1.3.2 in c:\\users\\anton\\anaconda3\\lib\\site-packages (from imbalanced-learn) (1.7.3)\n",
      "Requirement already satisfied: numpy>=1.17.3 in c:\\users\\anton\\anaconda3\\lib\\site-packages (from imbalanced-learn) (1.21.5)\n",
      "Requirement already satisfied: scikit-learn>=1.0.2 in c:\\users\\anton\\anaconda3\\lib\\site-packages (from imbalanced-learn) (1.0.2)\n",
      "Requirement already satisfied: threadpoolctl>=2.0.0 in c:\\users\\anton\\anaconda3\\lib\\site-packages (from imbalanced-learn) (2.2.0)\n",
      "Requirement already satisfied: hyperopt in c:\\users\\anton\\anaconda3\\lib\\site-packages (0.2.7)\n",
      "Requirement already satisfied: networkx>=2.2 in c:\\users\\anton\\anaconda3\\lib\\site-packages (from hyperopt) (2.7.1)\n",
      "Requirement already satisfied: numpy in c:\\users\\anton\\anaconda3\\lib\\site-packages (from hyperopt) (1.21.5)\n",
      "Requirement already satisfied: cloudpickle in c:\\users\\anton\\anaconda3\\lib\\site-packages (from hyperopt) (2.0.0)\n",
      "Requirement already satisfied: tqdm in c:\\users\\anton\\anaconda3\\lib\\site-packages (from hyperopt) (4.64.0)\n",
      "Requirement already satisfied: future in c:\\users\\anton\\anaconda3\\lib\\site-packages (from hyperopt) (0.18.2)\n",
      "Requirement already satisfied: six in c:\\users\\anton\\anaconda3\\lib\\site-packages (from hyperopt) (1.16.0)\n",
      "Requirement already satisfied: py4j in c:\\users\\anton\\anaconda3\\lib\\site-packages (from hyperopt) (0.10.9.7)\n",
      "Requirement already satisfied: scipy in c:\\users\\anton\\anaconda3\\lib\\site-packages (from hyperopt) (1.7.3)\n",
      "Requirement already satisfied: colorama in c:\\users\\anton\\anaconda3\\lib\\site-packages (from tqdm->hyperopt) (0.4.4)\n",
      "Requirement already satisfied: lightgbm in c:\\users\\anton\\anaconda3\\lib\\site-packages (3.3.5)\n",
      "Requirement already satisfied: scipy in c:\\users\\anton\\anaconda3\\lib\\site-packages (from lightgbm) (1.7.3)\n",
      "Requirement already satisfied: wheel in c:\\users\\anton\\anaconda3\\lib\\site-packages (from lightgbm) (0.37.1)\n",
      "Requirement already satisfied: scikit-learn!=0.22.0 in c:\\users\\anton\\anaconda3\\lib\\site-packages (from lightgbm) (1.0.2)\n",
      "Requirement already satisfied: numpy in c:\\users\\anton\\anaconda3\\lib\\site-packages (from lightgbm) (1.21.5)\n",
      "Requirement already satisfied: joblib>=0.11 in c:\\users\\anton\\anaconda3\\lib\\site-packages (from scikit-learn!=0.22.0->lightgbm) (1.2.0)\n",
      "Requirement already satisfied: threadpoolctl>=2.0.0 in c:\\users\\anton\\anaconda3\\lib\\site-packages (from scikit-learn!=0.22.0->lightgbm) (2.2.0)\n",
      "Requirement already satisfied: xgboost in c:\\users\\anton\\anaconda3\\lib\\site-packages (1.7.5)\n",
      "Requirement already satisfied: scipy in c:\\users\\anton\\anaconda3\\lib\\site-packages (from xgboost) (1.7.3)\n",
      "Requirement already satisfied: numpy in c:\\users\\anton\\anaconda3\\lib\\site-packages (from xgboost) (1.21.5)\n"
     ]
    }
   ],
   "source": [
    "!pip install imbalanced-learn\n",
    "!pip install hyperopt\n",
    "!pip install lightgbm\n",
    "!pip install xgboost"
   ]
  },
  {
   "cell_type": "code",
   "execution_count": 75,
   "id": "701b7404-dc37-423a-bd05-71d04e56a9d7",
   "metadata": {},
   "outputs": [],
   "source": [
    "from imblearn.over_sampling import SMOTE\n",
    "from imblearn.under_sampling import RandomUnderSampler\n",
    "from imblearn.pipeline import Pipeline\n",
    "from hyperopt import hp, fmin, tpe, space_eval, Trials, STATUS_OK\n",
    "from hyperopt.pyll import scope\n",
    "from sklearn.preprocessing import StandardScaler\n",
    "from collections import Counter\n",
    "\n",
    "import lightgbm as lgb\n",
    "import xgboost as xgb\n",
    "\n",
    "random_state = 111"
   ]
  },
  {
   "cell_type": "code",
   "execution_count": 76,
   "id": "575be675-b10f-44b8-9c2a-a652d34b2319",
   "metadata": {},
   "outputs": [],
   "source": [
    "def return_categorical_col(df):\n",
    "    feats = [col for col in list(df.columns) if df[col].dtype == 'object' or df[col].dtype == 'category']\n",
    "    return feats\n",
    "\n",
    "# function to factorize categorical features\n",
    "def factorize_categorical(df, cats):\n",
    "    for col in cats:\n",
    "        df[col], _ = pd.factorize(df[col])\n",
    "    return df\n",
    "\n",
    "# function to create dummy variables of categorical features\n",
    "def return_dummies(df, cats):\n",
    "    for col in cats:\n",
    "        df = pd.concat([df, pd.get_dummies(df[col], prefix=col)], axis=1)\n",
    "    return df\n",
    "\n",
    "def encode_categorical(df):\n",
    "    df_cata = return_categorical_col(df)\n",
    "    df  = return_dummies(df, df_cata)\n",
    "    return factorize_categorical(df, df_cata)"
   ]
  },
  {
   "cell_type": "code",
   "execution_count": 77,
   "id": "1caa1f0b-a745-49dd-9f9a-2698c9450d3c",
   "metadata": {},
   "outputs": [],
   "source": [
    "df_training = dfprocess3.copy()"
   ]
  },
  {
   "cell_type": "code",
   "execution_count": 78,
   "id": "d5845e8e-73d6-497f-8fad-90ba5eabab77",
   "metadata": {},
   "outputs": [
    {
     "data": {
      "text/html": [
       "<div>\n",
       "<style scoped>\n",
       "    .dataframe tbody tr th:only-of-type {\n",
       "        vertical-align: middle;\n",
       "    }\n",
       "\n",
       "    .dataframe tbody tr th {\n",
       "        vertical-align: top;\n",
       "    }\n",
       "\n",
       "    .dataframe thead th {\n",
       "        text-align: right;\n",
       "    }\n",
       "</style>\n",
       "<table border=\"1\" class=\"dataframe\">\n",
       "  <thead>\n",
       "    <tr style=\"text-align: right;\">\n",
       "      <th></th>\n",
       "      <th>Total</th>\n",
       "      <th>Percent</th>\n",
       "    </tr>\n",
       "  </thead>\n",
       "  <tbody>\n",
       "    <tr>\n",
       "      <th>OccupationType</th>\n",
       "      <td>11323</td>\n",
       "      <td>31.058507</td>\n",
       "    </tr>\n",
       "    <tr>\n",
       "      <th>ID</th>\n",
       "      <td>6135</td>\n",
       "      <td>16.828044</td>\n",
       "    </tr>\n",
       "    <tr>\n",
       "      <th>MobileFlag</th>\n",
       "      <td>6135</td>\n",
       "      <td>16.828044</td>\n",
       "    </tr>\n",
       "    <tr>\n",
       "      <th>Age_bin</th>\n",
       "      <td>6135</td>\n",
       "      <td>16.828044</td>\n",
       "    </tr>\n",
       "    <tr>\n",
       "      <th>Age</th>\n",
       "      <td>6135</td>\n",
       "      <td>16.828044</td>\n",
       "    </tr>\n",
       "    <tr>\n",
       "      <th>AnnualIncome_bin</th>\n",
       "      <td>6135</td>\n",
       "      <td>16.828044</td>\n",
       "    </tr>\n",
       "    <tr>\n",
       "      <th>targetrisk</th>\n",
       "      <td>6135</td>\n",
       "      <td>16.828044</td>\n",
       "    </tr>\n",
       "    <tr>\n",
       "      <th>begin_month</th>\n",
       "      <td>6135</td>\n",
       "      <td>16.828044</td>\n",
       "    </tr>\n",
       "    <tr>\n",
       "      <th>FamilySize</th>\n",
       "      <td>6135</td>\n",
       "      <td>16.828044</td>\n",
       "    </tr>\n",
       "    <tr>\n",
       "      <th>EmailFlag</th>\n",
       "      <td>6135</td>\n",
       "      <td>16.828044</td>\n",
       "    </tr>\n",
       "    <tr>\n",
       "      <th>PhoneFlag</th>\n",
       "      <td>6135</td>\n",
       "      <td>16.828044</td>\n",
       "    </tr>\n",
       "    <tr>\n",
       "      <th>Gender</th>\n",
       "      <td>6135</td>\n",
       "      <td>16.828044</td>\n",
       "    </tr>\n",
       "    <tr>\n",
       "      <th>WorkPhoneFlag</th>\n",
       "      <td>6135</td>\n",
       "      <td>16.828044</td>\n",
       "    </tr>\n",
       "    <tr>\n",
       "      <th>DaysEmployed</th>\n",
       "      <td>6135</td>\n",
       "      <td>16.828044</td>\n",
       "    </tr>\n",
       "    <tr>\n",
       "      <th>DaysBirth</th>\n",
       "      <td>6135</td>\n",
       "      <td>16.828044</td>\n",
       "    </tr>\n",
       "    <tr>\n",
       "      <th>HousingType</th>\n",
       "      <td>6135</td>\n",
       "      <td>16.828044</td>\n",
       "    </tr>\n",
       "    <tr>\n",
       "      <th>FamilyStatus</th>\n",
       "      <td>6135</td>\n",
       "      <td>16.828044</td>\n",
       "    </tr>\n",
       "    <tr>\n",
       "      <th>EducationType</th>\n",
       "      <td>6135</td>\n",
       "      <td>16.828044</td>\n",
       "    </tr>\n",
       "    <tr>\n",
       "      <th>IncomeType</th>\n",
       "      <td>6135</td>\n",
       "      <td>16.828044</td>\n",
       "    </tr>\n",
       "    <tr>\n",
       "      <th>AnnualIncome</th>\n",
       "      <td>6135</td>\n",
       "      <td>16.828044</td>\n",
       "    </tr>\n",
       "    <tr>\n",
       "      <th>ChildCount</th>\n",
       "      <td>6135</td>\n",
       "      <td>16.828044</td>\n",
       "    </tr>\n",
       "    <tr>\n",
       "      <th>OwnReality</th>\n",
       "      <td>6135</td>\n",
       "      <td>16.828044</td>\n",
       "    </tr>\n",
       "    <tr>\n",
       "      <th>OwnCar</th>\n",
       "      <td>6135</td>\n",
       "      <td>16.828044</td>\n",
       "    </tr>\n",
       "    <tr>\n",
       "      <th>FamilySizeGroup</th>\n",
       "      <td>6135</td>\n",
       "      <td>16.828044</td>\n",
       "    </tr>\n",
       "  </tbody>\n",
       "</table>\n",
       "</div>"
      ],
      "text/plain": [
       "                  Total    Percent\n",
       "OccupationType    11323  31.058507\n",
       "ID                 6135  16.828044\n",
       "MobileFlag         6135  16.828044\n",
       "Age_bin            6135  16.828044\n",
       "Age                6135  16.828044\n",
       "AnnualIncome_bin   6135  16.828044\n",
       "targetrisk         6135  16.828044\n",
       "begin_month        6135  16.828044\n",
       "FamilySize         6135  16.828044\n",
       "EmailFlag          6135  16.828044\n",
       "PhoneFlag          6135  16.828044\n",
       "Gender             6135  16.828044\n",
       "WorkPhoneFlag      6135  16.828044\n",
       "DaysEmployed       6135  16.828044\n",
       "DaysBirth          6135  16.828044\n",
       "HousingType        6135  16.828044\n",
       "FamilyStatus       6135  16.828044\n",
       "EducationType      6135  16.828044\n",
       "IncomeType         6135  16.828044\n",
       "AnnualIncome       6135  16.828044\n",
       "ChildCount         6135  16.828044\n",
       "OwnReality         6135  16.828044\n",
       "OwnCar             6135  16.828044\n",
       "FamilySizeGroup    6135  16.828044"
      ]
     },
     "execution_count": 78,
     "metadata": {},
     "output_type": "execute_result"
    }
   ],
   "source": [
    "total = df_training.isnull().sum().sort_values(ascending = False)\n",
    "percent = (df_training.isnull().sum()/df_training.isnull().count()*100).sort_values(ascending = False)\n",
    "missing_data  = pd.concat([total, percent], axis=1, keys=['Total', 'Percent'])\n",
    "missing_data[missing_data['Percent']>0]"
   ]
  },
  {
   "cell_type": "code",
   "execution_count": 79,
   "id": "e46b4599-7597-4b20-b2f0-4e22ad2a24c7",
   "metadata": {},
   "outputs": [],
   "source": [
    "df_training.OccupationType = df_training.OccupationType.fillna('Unknown')\n",
    "df_training = df_training.dropna()"
   ]
  },
  {
   "cell_type": "code",
   "execution_count": 80,
   "id": "4305abdb-d7b3-485e-8716-f556209a2e1d",
   "metadata": {},
   "outputs": [
    {
     "name": "stdout",
     "output_type": "stream",
     "text": [
      "<class 'pandas.core.frame.DataFrame'>\n",
      "Int64Index: 30322 entries, 0 to 36456\n",
      "Data columns (total 81 columns):\n",
      " #   Column                                       Non-Null Count  Dtype  \n",
      "---  ------                                       --------------  -----  \n",
      " 0   ID                                           30322 non-null  float64\n",
      " 1   Gender                                       30322 non-null  float64\n",
      " 2   OwnCar                                       30322 non-null  float64\n",
      " 3   OwnReality                                   30322 non-null  float64\n",
      " 4   ChildCount                                   30322 non-null  int64  \n",
      " 5   AnnualIncome                                 30322 non-null  float64\n",
      " 6   IncomeType                                   30322 non-null  int64  \n",
      " 7   EducationType                                30322 non-null  int64  \n",
      " 8   FamilyStatus                                 30322 non-null  int64  \n",
      " 9   HousingType                                  30322 non-null  int64  \n",
      " 10  DaysBirth                                    30322 non-null  float64\n",
      " 11  DaysEmployed                                 30322 non-null  float64\n",
      " 12  MobileFlag                                   30322 non-null  float64\n",
      " 13  WorkPhoneFlag                                30322 non-null  float64\n",
      " 14  PhoneFlag                                    30322 non-null  float64\n",
      " 15  EmailFlag                                    30322 non-null  float64\n",
      " 16  OccupationType                               30322 non-null  int64  \n",
      " 17  FamilySize                                   30322 non-null  float64\n",
      " 18  begin_month                                  30322 non-null  float64\n",
      " 19  targetrisk                                   30322 non-null  int32  \n",
      " 20  AnnualIncome_bin                             30322 non-null  int64  \n",
      " 21  Age                                          30322 non-null  float64\n",
      " 22  Age_bin                                      30322 non-null  int64  \n",
      " 23  YearsEmployed                                30322 non-null  float64\n",
      " 24  YearsEmployed_bin                            30322 non-null  int64  \n",
      " 25  FamilySizeGroup                              30322 non-null  int64  \n",
      " 26  ChildCount_0                                 30322 non-null  uint8  \n",
      " 27  ChildCount_1                                 30322 non-null  uint8  \n",
      " 28  ChildCount_2More                             30322 non-null  uint8  \n",
      " 29  IncomeType_Commercial associate              30322 non-null  uint8  \n",
      " 30  IncomeType_State servant                     30322 non-null  uint8  \n",
      " 31  IncomeType_Working                           30322 non-null  uint8  \n",
      " 32  EducationType_Academic degree                30322 non-null  uint8  \n",
      " 33  EducationType_Higher education               30322 non-null  uint8  \n",
      " 34  EducationType_Incomplete higher              30322 non-null  uint8  \n",
      " 35  EducationType_Lower secondary                30322 non-null  uint8  \n",
      " 36  EducationType_Secondary / secondary special  30322 non-null  uint8  \n",
      " 37  FamilyStatus_Civil marriage                  30322 non-null  uint8  \n",
      " 38  FamilyStatus_Married                         30322 non-null  uint8  \n",
      " 39  FamilyStatus_Separated                       30322 non-null  uint8  \n",
      " 40  FamilyStatus_Single / not married            30322 non-null  uint8  \n",
      " 41  FamilyStatus_Widow                           30322 non-null  uint8  \n",
      " 42  HousingType_Co-op apartment                  30322 non-null  uint8  \n",
      " 43  HousingType_House / apartment                30322 non-null  uint8  \n",
      " 44  HousingType_Municipal apartment              30322 non-null  uint8  \n",
      " 45  HousingType_Office apartment                 30322 non-null  uint8  \n",
      " 46  HousingType_Rented apartment                 30322 non-null  uint8  \n",
      " 47  HousingType_With parents                     30322 non-null  uint8  \n",
      " 48  OccupationType_Accountants                   30322 non-null  uint8  \n",
      " 49  OccupationType_Cleaning staff                30322 non-null  uint8  \n",
      " 50  OccupationType_Cooking staff                 30322 non-null  uint8  \n",
      " 51  OccupationType_Core staff                    30322 non-null  uint8  \n",
      " 52  OccupationType_Drivers                       30322 non-null  uint8  \n",
      " 53  OccupationType_HR staff                      30322 non-null  uint8  \n",
      " 54  OccupationType_High skill tech staff         30322 non-null  uint8  \n",
      " 55  OccupationType_IT staff                      30322 non-null  uint8  \n",
      " 56  OccupationType_Laborers                      30322 non-null  uint8  \n",
      " 57  OccupationType_Low-skill Laborers            30322 non-null  uint8  \n",
      " 58  OccupationType_Managers                      30322 non-null  uint8  \n",
      " 59  OccupationType_Medicine staff                30322 non-null  uint8  \n",
      " 60  OccupationType_Private service staff         30322 non-null  uint8  \n",
      " 61  OccupationType_Realty agents                 30322 non-null  uint8  \n",
      " 62  OccupationType_Sales staff                   30322 non-null  uint8  \n",
      " 63  OccupationType_Secretaries                   30322 non-null  uint8  \n",
      " 64  OccupationType_Security staff                30322 non-null  uint8  \n",
      " 65  OccupationType_Unknown                       30322 non-null  uint8  \n",
      " 66  OccupationType_Waiters/barmen staff          30322 non-null  uint8  \n",
      " 67  AnnualIncome_bin_low                         30322 non-null  uint8  \n",
      " 68  AnnualIncome_bin_medium                      30322 non-null  uint8  \n",
      " 69  AnnualIncome_bin_high                        30322 non-null  uint8  \n",
      " 70  Age_bin_0-20                                 30322 non-null  uint8  \n",
      " 71  Age_bin_20-40                                30322 non-null  uint8  \n",
      " 72  Age_bin_40-60                                30322 non-null  uint8  \n",
      " 73  Age_bin_60-80                                30322 non-null  uint8  \n",
      " 74  YearsEmployed_bin_0-15                       30322 non-null  uint8  \n",
      " 75  YearsEmployed_bin_15-30                      30322 non-null  uint8  \n",
      " 76  YearsEmployed_bin_30-45                      30322 non-null  uint8  \n",
      " 77  YearsEmployed_bin_45-60                      30322 non-null  uint8  \n",
      " 78  FamilySizeGroup_1.0                          30322 non-null  uint8  \n",
      " 79  FamilySizeGroup_2.0                          30322 non-null  uint8  \n",
      " 80  FamilySizeGroup_3more                        30322 non-null  uint8  \n",
      "dtypes: float64(15), int32(1), int64(10), uint8(55)\n",
      "memory usage: 7.7 MB\n"
     ]
    }
   ],
   "source": [
    "df_training['targetrisk'] = df_training['targetrisk'].astype('int')\n",
    "df_training = encode_categorical(df_training)\n",
    "df_training.info()"
   ]
  },
  {
   "cell_type": "code",
   "execution_count": 81,
   "id": "daefa8b7-6119-493f-8d86-a3d622934a65",
   "metadata": {},
   "outputs": [
    {
     "name": "stderr",
     "output_type": "stream",
     "text": [
      "C:\\Users\\anton\\AppData\\Local\\Temp\\ipykernel_2676\\113218641.py:3: DeprecationWarning:\n",
      "\n",
      "`np.bool` is a deprecated alias for the builtin `bool`. To silence this warning, use `bool` by itself. Doing this will not modify any behavior and is safe. If you specifically wanted the numpy scalar type, use `np.bool_` here.\n",
      "Deprecated in NumPy 1.20; for more details and guidance: https://numpy.org/devdocs/release/1.20.0-notes.html#deprecations\n",
      "\n"
     ]
    },
    {
     "data": {
      "image/png": "[encoded data removed]",
      "text/plain": [
       "<Figure size 2304x864 with 2 Axes>"
      ]
     },
     "metadata": {},
     "output_type": "display_data"
    }
   ],
   "source": [
    "# Correlation between variables\n",
    "plt.figure(figsize=(32, 12))\n",
    "mask = np.triu(np.ones_like(df_training.corr(), dtype=np.bool))\n",
    "heatmap = sns.heatmap(df_training.corr(), mask=mask, vmin=-1, vmax=1)"
   ]
  },
  {
   "cell_type": "code",
   "execution_count": 82,
   "id": "0ed25592-c053-422d-847e-293b6a727385",
   "metadata": {},
   "outputs": [
    {
     "name": "stderr",
     "output_type": "stream",
     "text": [
      "C:\\Users\\anton\\AppData\\Local\\Temp\\ipykernel_2676\\1579480125.py:2: DeprecationWarning:\n",
      "\n",
      "`np.bool` is a deprecated alias for the builtin `bool`. To silence this warning, use `bool` by itself. Doing this will not modify any behavior and is safe. If you specifically wanted the numpy scalar type, use `np.bool_` here.\n",
      "Deprecated in NumPy 1.20; for more details and guidance: https://numpy.org/devdocs/release/1.20.0-notes.html#deprecations\n",
      "\n"
     ]
    },
    {
     "data": {
      "text/plain": [
       "['ChildCount',\n",
       " 'IncomeType',\n",
       " 'EducationType',\n",
       " 'DaysBirth',\n",
       " 'DaysEmployed',\n",
       " 'FamilySize',\n",
       " 'AnnualIncome_bin',\n",
       " 'Age_bin',\n",
       " 'YearsEmployed',\n",
       " 'YearsEmployed_bin',\n",
       " 'FamilySizeGroup',\n",
       " 'ChildCount_0',\n",
       " 'EducationType_Higher education',\n",
       " 'YearsEmployed_bin_0-15']"
      ]
     },
     "execution_count": 82,
     "metadata": {},
     "output_type": "execute_result"
    }
   ],
   "source": [
    "df_corr = df_training.corr().abs()\n",
    "mask = np.triu(np.ones_like(df_training.corr(), dtype=np.bool))\n",
    "df_tri = df_corr.mask(mask)\n",
    "\n",
    "drop = [c for c in df_tri.columns if any (df_tri[c] > 0.8)]\n",
    "drop"
   ]
  },
  {
   "cell_type": "code",
   "execution_count": 83,
   "id": "a79a95e7-7214-4a02-94cd-6cd48991ed9b",
   "metadata": {},
   "outputs": [],
   "source": [
    "df_training = df_training.drop(drop, axis = 1)"
   ]
  },
  {
   "cell_type": "code",
   "execution_count": 84,
   "id": "f381376e-d320-4f7c-9016-fb529d053e94",
   "metadata": {},
   "outputs": [
    {
     "data": {
      "text/plain": [
       "ID                                             0.011444\n",
       "Gender                                         0.014471\n",
       "OwnCar                                         0.000339\n",
       "OwnReality                                    -0.012795\n",
       "AnnualIncome                                   0.010300\n",
       "FamilyStatus                                   0.017510\n",
       "HousingType                                    0.004948\n",
       "MobileFlag                                          NaN\n",
       "WorkPhoneFlag                                  0.007116\n",
       "PhoneFlag                                      0.011881\n",
       "EmailFlag                                      0.006213\n",
       "OccupationType                                 0.006359\n",
       "begin_month                                   -0.049807\n",
       "Age                                           -0.000534\n",
       "ChildCount_1                                   0.002187\n",
       "ChildCount_2More                              -0.002357\n",
       "IncomeType_Commercial associate                0.013618\n",
       "IncomeType_State servant                       0.002937\n",
       "IncomeType_Working                            -0.014412\n",
       "EducationType_Academic degree                 -0.002845\n",
       "EducationType_Incomplete higher                0.011567\n",
       "EducationType_Lower secondary                  0.014823\n",
       "EducationType_Secondary / secondary special   -0.014890\n",
       "FamilyStatus_Civil marriage                   -0.017711\n",
       "FamilyStatus_Married                          -0.003177\n",
       "FamilyStatus_Separated                         0.005119\n",
       "FamilyStatus_Single / not married              0.013531\n",
       "FamilyStatus_Widow                             0.003659\n",
       "HousingType_Co-op apartment                    0.008997\n",
       "HousingType_House / apartment                 -0.007107\n",
       "HousingType_Municipal apartment                0.016157\n",
       "HousingType_Office apartment                   0.008822\n",
       "HousingType_Rented apartment                   0.002032\n",
       "HousingType_With parents                      -0.009403\n",
       "OccupationType_Accountants                    -0.005170\n",
       "OccupationType_Cleaning staff                 -0.003707\n",
       "OccupationType_Cooking staff                  -0.000363\n",
       "OccupationType_Core staff                      0.024074\n",
       "OccupationType_Drivers                        -0.002600\n",
       "OccupationType_HR staff                       -0.004716\n",
       "OccupationType_High skill tech staff           0.003842\n",
       "OccupationType_IT staff                        0.012859\n",
       "OccupationType_Laborers                       -0.000695\n",
       "OccupationType_Low-skill Laborers              0.003090\n",
       "OccupationType_Managers                       -0.004550\n",
       "OccupationType_Medicine staff                 -0.006640\n",
       "OccupationType_Private service staff          -0.009528\n",
       "OccupationType_Realty agents                  -0.004546\n",
       "OccupationType_Sales staff                    -0.008617\n",
       "OccupationType_Secretaries                     0.004326\n",
       "OccupationType_Security staff                  0.011759\n",
       "OccupationType_Unknown                        -0.005677\n",
       "OccupationType_Waiters/barmen staff            0.003138\n",
       "AnnualIncome_bin_low                          -0.006991\n",
       "AnnualIncome_bin_medium                        0.003677\n",
       "AnnualIncome_bin_high                          0.003536\n",
       "Age_bin_0-20                                   0.002636\n",
       "Age_bin_20-40                                 -0.006119\n",
       "Age_bin_40-60                                  0.012533\n",
       "Age_bin_60-80                                 -0.017129\n",
       "YearsEmployed_bin_15-30                       -0.012804\n",
       "YearsEmployed_bin_30-45                       -0.003080\n",
       "YearsEmployed_bin_45-60                       -0.001877\n",
       "FamilySizeGroup_1.0                            0.006538\n",
       "FamilySizeGroup_2.0                           -0.001338\n",
       "FamilySizeGroup_3more                         -0.003821\n",
       "dtype: float64"
      ]
     },
     "execution_count": 84,
     "metadata": {},
     "output_type": "execute_result"
    }
   ],
   "source": [
    "# Correlation to the target variable\n",
    "corr = df_training.drop(\"targetrisk\", axis=1).apply(lambda x: x.corr(df_training.targetrisk))\n",
    "corr"
   ]
  },
  {
   "cell_type": "code",
   "execution_count": 85,
   "id": "ba04f8ee-df4c-4a0a-86d3-9154a7421a5b",
   "metadata": {},
   "outputs": [
    {
     "name": "stdout",
     "output_type": "stream",
     "text": [
      "(30322, 67)\n",
      "(6064, 67)\n"
     ]
    }
   ],
   "source": [
    "df_val = df_training.sample(frac=0.2, random_state=200)\n",
    "df_training.drop(df_val.index)\n",
    "\n",
    "print(df_training.shape)\n",
    "print(df_val.shape)"
   ]
  },
  {
   "cell_type": "code",
   "execution_count": 86,
   "id": "dc616e0c-cd24-4edc-a1de-e977923b63a8",
   "metadata": {},
   "outputs": [
    {
     "data": {
      "text/plain": [
       "<AxesSubplot:title={'center':'Target Count on Training'}, xlabel='targetrisk', ylabel='count'>"
      ]
     },
     "execution_count": 86,
     "metadata": {},
     "output_type": "execute_result"
    },
    {
     "data": {
      "image/png": "[encoded data removed]",
      "text/plain": [
       "<Figure size 432x288 with 1 Axes>"
      ]
     },
     "metadata": {},
     "output_type": "display_data"
    }
   ],
   "source": [
    "# Severe Unbalance for target variable\n",
    "plt.title(\"Target Count on Training\")\n",
    "sns.countplot(data = df_training, x = 'targetrisk')"
   ]
  },
  {
   "cell_type": "code",
   "execution_count": 87,
   "id": "d022ee97-18a1-4e16-b6a3-2cdd8c87fd5e",
   "metadata": {},
   "outputs": [
    {
     "data": {
      "text/plain": [
       "<AxesSubplot:title={'center':'Target Count on Val'}, xlabel='targetrisk', ylabel='count'>"
      ]
     },
     "execution_count": 87,
     "metadata": {},
     "output_type": "execute_result"
    },
    {
     "data": {
      "image/png": "[encoded data removed]",
      "text/plain": [
       "<Figure size 432x288 with 1 Axes>"
      ]
     },
     "metadata": {},
     "output_type": "display_data"
    }
   ],
   "source": [
    "# Severe Unbalance for target variable\n",
    "plt.title(\"Target Count on Val\")\n",
    "sns.countplot(data = df_val, x = 'targetrisk')"
   ]
  },
  {
   "cell_type": "code",
   "execution_count": 88,
   "id": "aa2f8ca6-8a5c-4ddb-b75d-32b730391965",
   "metadata": {},
   "outputs": [],
   "source": [
    "y = df_training['targetrisk']\n",
    "X = df_training.drop(['targetrisk', 'ID'], axis = 1)\n",
    "\n",
    "X_train, X_test, y_train, y_test = train_test_split(X, y, test_size=0.3, random_state=1, stratify = y)\n",
    "\n",
    "ss = StandardScaler()\n",
    "X_train_scaled = ss.fit_transform(X_train)\n",
    "X_test_scaled = ss.fit_transform(X_test)"
   ]
  },
  {
   "cell_type": "code",
   "execution_count": 89,
   "id": "17e76849-fb5d-450e-9579-b6fc25c38155",
   "metadata": {},
   "outputs": [],
   "source": [
    "#Combination of oversampling and undersampling\n",
    "over_samp = SMOTE(sampling_strategy=0.3)\n",
    "under_samp = RandomUnderSampler(sampling_strategy=0.5)\n",
    "model = RandomForestClassifier()\n",
    "steps = [('o', over_samp), ('u', under_samp), ('model', model)]"
   ]
  },
  {
   "cell_type": "code",
   "execution_count": 90,
   "id": "1481fd33-08a2-4d5e-aa95-58b2f05e4ee6",
   "metadata": {},
   "outputs": [
    {
     "name": "stdout",
     "output_type": "stream",
     "text": [
      "100%|██████████| 200/200 [48:27<00:00, 14.54s/trial, best loss: -0.7373554520730045]\n"
     ]
    }
   ],
   "source": [
    "max_features = ['auto', 'sqrt']\n",
    "max_depth = [int(x) for x in np.linspace(10, 110, num = 11)]\n",
    "max_depth.append(None)\n",
    "bootstrap = [True, False]       \n",
    "param_dist = {'model__n_estimators': scope.int(hp.quniform('model__n_estimators', 50, 2000, 10)), 'model__max_depth': hp.choice('model__max_depth', max_depth), 'model__max_features': hp.choice('model__max_features', max_features), 'model__min_samples_split': hp.randint('model__min_samples_split', 2, 20), 'model__min_samples_leaf': hp.randint('model__min_samples_leaf', 2, 20), 'model__bootstrap': hp.choice('model__bootstrap', bootstrap)}\n",
    "\n",
    "score_history = []\n",
    "def Objective(params):\n",
    "    p = Pipeline(steps = steps)\n",
    "    model = p.set_params(**params)\n",
    "    score = cross_val_score(model, X_train_scaled, y_train, cv = 3, n_jobs = -1, scoring = 'roc_auc', verbose = False).mean()\n",
    "    score_history.append(score)\n",
    "    return {'loss':-score,'status': STATUS_OK, 'model': model}\n",
    "\n",
    "trials = Trials()\n",
    "best = fmin(fn=Objective, space=param_dist, algo=tpe.suggest, max_evals=200, trials=trials, rstate=np.random.default_rng(random_state))"
   ]
  },
  {
   "cell_type": "code",
   "execution_count": 91,
   "id": "0cefab39-d56d-4baa-a55d-4165bad40a89",
   "metadata": {},
   "outputs": [
    {
     "data": {
      "image/png": "[encoded data removed]",
      "text/plain": [
       "<Figure size 864x432 with 1 Axes>"
      ]
     },
     "metadata": {},
     "output_type": "display_data"
    }
   ],
   "source": [
    "figure = plt.subplots(figsize = (12, 6))\n",
    "plt.plot(score_history, 'o-', color = 'orange')\n",
    "plt.xlabel(\"Iterations\")\n",
    "plt.ylabel(\"ROC_AUC\")\n",
    "plt.title(\"Score History\")\n",
    "plt.show()"
   ]
  },
  {
   "cell_type": "code",
   "execution_count": 92,
   "id": "5f8196a7-1c0b-4900-abfe-ac5317525052",
   "metadata": {},
   "outputs": [],
   "source": [
    "hyperparam = space_eval(param_dist, best)"
   ]
  },
  {
   "cell_type": "code",
   "execution_count": 93,
   "id": "224b05df-3a01-4b75-bf09-9d27f85f23d0",
   "metadata": {},
   "outputs": [
    {
     "data": {
      "text/plain": [
       "Pipeline(steps=[('o', SMOTE(sampling_strategy=0.3)),\n",
       "                ('u', RandomUnderSampler(sampling_strategy=0.5)),\n",
       "                ('model',\n",
       "                 RandomForestClassifier(bootstrap=False, max_depth=30,\n",
       "                                        max_features='sqrt', min_samples_leaf=2,\n",
       "                                        min_samples_split=6,\n",
       "                                        n_estimators=1780))])"
      ]
     },
     "execution_count": 93,
     "metadata": {},
     "output_type": "execute_result"
    }
   ],
   "source": [
    "p = Pipeline(steps = steps)\n",
    "best_rf = p.set_params(**hyperparam)\n",
    "best_rf.fit(X_train_scaled, y_train)"
   ]
  },
  {
   "cell_type": "code",
   "execution_count": 94,
   "id": "3f45fc12-05cb-4686-9bd8-fe0fc970f831",
   "metadata": {},
   "outputs": [
    {
     "name": "stdout",
     "output_type": "stream",
     "text": [
      "Train ROC-AUC: 0.7686300397590232\n",
      "Test ROC-AUC: 0.5556030622021516\n"
     ]
    }
   ],
   "source": [
    "y_hat = best_rf.predict(X_train_scaled)\n",
    "y_pred = best_rf.predict(X_test_scaled)\n",
    "\n",
    "print(\"Train ROC-AUC:\", metrics.roc_auc_score(y_train, y_hat))\n",
    "print(\"Test ROC-AUC:\", metrics.roc_auc_score(y_test, y_pred))"
   ]
  },
  {
   "cell_type": "code",
   "execution_count": 95,
   "id": "e76f485e-1f19-412b-8b51-b46f6cbe626d",
   "metadata": {},
   "outputs": [
    {
     "name": "stdout",
     "output_type": "stream",
     "text": [
      "Validation ROC-AUC: 0.5762245918027324\n",
      "Precision: 0.012041173043309381\n",
      "Recall: 1.0\n"
     ]
    },
    {
     "data": {
      "text/plain": [
       "<sklearn.metrics._plot.confusion_matrix.ConfusionMatrixDisplay at 0x1a9a5280a30>"
      ]
     },
     "execution_count": 95,
     "metadata": {},
     "output_type": "execute_result"
    },
    {
     "data": {
      "image/png": "[encoded data removed]",
      "text/plain": [
       "<Figure size 432x288 with 2 Axes>"
      ]
     },
     "metadata": {},
     "output_type": "display_data"
    }
   ],
   "source": [
    "#Validation Set\n",
    "df_val_y = df_val['targetrisk']\n",
    "df_val_x = df_val.drop(['targetrisk', 'ID'], axis = 1)\n",
    "df_val_X = ss.transform(df_val_x)\n",
    "\n",
    "y_pred = best_rf.predict(df_val_X)\n",
    "print(\"Validation ROC-AUC:\", metrics.roc_auc_score(df_val_y, y_pred))\n",
    "print(\"Precision:\", metrics.precision_score(df_val_y, y_pred))\n",
    "print(\"Recall:\", metrics.recall_score(df_val_y, y_pred))\n",
    "\n",
    "# Create the confusion matrix\n",
    "cm = metrics.confusion_matrix(df_val_y, y_pred)\n",
    "metrics.ConfusionMatrixDisplay(confusion_matrix=cm).plot()"
   ]
  },
  {
   "cell_type": "markdown",
   "id": "7fd2f660-a4b5-4ac1-8773-3bd8d7e5e305",
   "metadata": {},
   "source": [
    "# Modeling with LightGBM"
   ]
  },
  {
   "cell_type": "code",
   "execution_count": 96,
   "id": "460f4893-ba6a-491f-a5a3-899d55b1c387",
   "metadata": {},
   "outputs": [],
   "source": [
    "y = df_training['targetrisk']\n",
    "X = df_training.drop(['targetrisk', 'ID'], axis = 1)\n",
    "\n",
    "X_train, X_test, y_train, y_test = train_test_split(X, y, test_size=0.3, random_state=1, stratify = y)\n",
    "\n",
    "ss = StandardScaler()\n",
    "X_train_scaled = ss.fit_transform(X_train)\n",
    "X_test_scaled = ss.fit_transform(X_test)"
   ]
  },
  {
   "cell_type": "code",
   "execution_count": 97,
   "id": "a449c1c1-8e17-47f7-bced-50441b56d6ff",
   "metadata": {},
   "outputs": [],
   "source": [
    "over_samp = SMOTE(sampling_strategy=0.3)\n",
    "under_samp = RandomUnderSampler(sampling_strategy=0.5)\n",
    "model = lgb.LGBMClassifier()\n",
    "steps = [('o', over_samp), ('u', under_samp), ('model', model)]"
   ]
  },
  {
   "cell_type": "code",
   "execution_count": 98,
   "id": "0d66114d-1eb1-457c-90c4-944804f32dbf",
   "metadata": {},
   "outputs": [
    {
     "name": "stdout",
     "output_type": "stream",
     "text": [
      "126.09580838323353\n"
     ]
    }
   ],
   "source": [
    "#Reference https://stats.stackexchange.com/questions/243207/what-is-the-proper-usage-of-scale-pos-weight-in-xgboost-for-imbalanced-datasets\n",
    "#https://stackoverflow.com/questions/65304302/how-can-i-know-which-is-the-positive-class-value-and-negative-class-value-for-xg#:~:text=For%20binary%20classification%20imbalanced%20dataset,majority%20class%20(class%200).\n",
    "counter = Counter(y_train)\n",
    "estimate = (counter[0] / counter[1])\n",
    "print(estimate)"
   ]
  },
  {
   "cell_type": "code",
   "execution_count": 99,
   "id": "f8378b6b-ac60-47d0-9716-9c53475dad68",
   "metadata": {},
   "outputs": [
    {
     "name": "stdout",
     "output_type": "stream",
     "text": [
      "100%|██████████| 200/200 [05:37<00:00,  1.69s/trial, best loss: -0.7334332413403506]\n"
     ]
    }
   ],
   "source": [
    "param_dist = {'model__n_estimators': scope.int(hp.quniform('model__n_estimators', 50, 2000, 10)),\n",
    "              'model__num_leaves': scope.int(hp.quniform('model__num_leaves', 10, 300, 5)),  \n",
    "              'model__max_depth': scope.int(hp.quniform('model__max_depth', 5, 30, 1)), \n",
    "              'model__feature_fraction': hp.uniform('model__feature_fraction', 0.2, 0.9), \n",
    "              'model__min_gain_to_split': hp.uniform('model__min_gain_to_split', 0, 15), \n",
    "              'model__min_samples_leaf': hp.randint('model__min_samples_leaf', 2, 20),\n",
    "              'model__lambda_l1': hp.uniform('model__lambdal1', 0.01, 10),\n",
    "              'model__lambda_l2': hp.uniform('model__lambdal2', 0.01, 10),\n",
    "              'model__max_bin': scope.int(hp.uniform('model__max_bin', 100, 500)),\n",
    "              'model__bagging_frequency': scope.int(hp.randint('model__bagging_frequency', 3, 10)),\n",
    "              'model__bagging_fraction': hp.uniform('model__bootstrap', 0.2, 0.8),\n",
    "              'model__metric': hp.choice('model__metric', ['auc']),\n",
    "              'model__scale_pos_weight': hp.choice('model__scale_pos_weight', [estimate])}\n",
    "\n",
    "score_history = []\n",
    "def Objective(params):\n",
    "    p = Pipeline(steps = steps)\n",
    "    model = p.set_params(**params)\n",
    "    score = cross_val_score(model, X_train_scaled, y_train, cv = 3, n_jobs = -1, scoring = 'roc_auc', verbose = False).mean()\n",
    "    score_history.append(score)\n",
    "    return {'loss':-score,'status': STATUS_OK, 'model': model}\n",
    "\n",
    "trials = Trials()\n",
    "best = fmin(fn=Objective, space=param_dist, algo=tpe.suggest, max_evals=200, trials=trials, rstate=np.random.default_rng(random_state))"
   ]
  },
  {
   "cell_type": "code",
   "execution_count": 100,
   "id": "4bf7391d-0ca2-41f6-8c69-c0a552fe17c2",
   "metadata": {},
   "outputs": [
    {
     "data": {
      "image/png": "[encoded data removed]",
      "text/plain": [
       "<Figure size 864x432 with 1 Axes>"
      ]
     },
     "metadata": {},
     "output_type": "display_data"
    }
   ],
   "source": [
    "figure = plt.subplots(figsize = (12, 6))\n",
    "plt.plot(score_history, 'o-', color = 'orange')\n",
    "plt.xlabel(\"Iterations\")\n",
    "plt.ylabel(\"ROC_AUC\")\n",
    "plt.title(\"Score History\")\n",
    "plt.show()"
   ]
  },
  {
   "cell_type": "code",
   "execution_count": 101,
   "id": "d6f2be94-8d7d-4125-bd1b-8715fd789070",
   "metadata": {},
   "outputs": [],
   "source": [
    "hyperparam = space_eval(param_dist, best)"
   ]
  },
  {
   "cell_type": "code",
   "execution_count": 102,
   "id": "ac13503e-5b99-479b-9667-91d95881e86c",
   "metadata": {},
   "outputs": [
    {
     "name": "stdout",
     "output_type": "stream",
     "text": [
      "[LightGBM] [Warning] Unknown parameter: bagging_frequency\n",
      "[LightGBM] [Warning] min_data_in_leaf is set with min_child_samples=20, will be overridden by min_samples_leaf=9. Current value: min_data_in_leaf=9\n",
      "[LightGBM] [Warning] feature_fraction is set=0.4696716784084543, colsample_bytree=1.0 will be ignored. Current value: feature_fraction=0.4696716784084543\n",
      "[LightGBM] [Warning] min_gain_to_split is set=0.08124661297586488, min_split_gain=0.0 will be ignored. Current value: min_gain_to_split=0.08124661297586488\n",
      "[LightGBM] [Warning] lambda_l1 is set=7.3770609840912265, reg_alpha=0.0 will be ignored. Current value: lambda_l1=7.3770609840912265\n",
      "[LightGBM] [Warning] bagging_fraction is set=0.22571629624956596, subsample=1.0 will be ignored. Current value: bagging_fraction=0.22571629624956596\n",
      "[LightGBM] [Warning] lambda_l2 is set=3.2557058215430668, reg_lambda=0.0 will be ignored. Current value: lambda_l2=3.2557058215430668\n"
     ]
    },
    {
     "data": {
      "text/plain": [
       "Pipeline(steps=[('o', SMOTE(sampling_strategy=0.3)),\n",
       "                ('u', RandomUnderSampler(sampling_strategy=0.5)),\n",
       "                ('model',\n",
       "                 LGBMClassifier(bagging_fraction=0.22571629624956596,\n",
       "                                bagging_frequency=3,\n",
       "                                feature_fraction=0.4696716784084543,\n",
       "                                lambda_l1=7.3770609840912265,\n",
       "                                lambda_l2=3.2557058215430668, max_bin=412,\n",
       "                                max_depth=16, metric='auc',\n",
       "                                min_gain_to_split=0.08124661297586488,\n",
       "                                min_samples_leaf=9, n_estimators=810,\n",
       "                                num_leaves=50,\n",
       "                                scale_pos_weight=126.09580838323353))])"
      ]
     },
     "execution_count": 102,
     "metadata": {},
     "output_type": "execute_result"
    }
   ],
   "source": [
    "p = Pipeline(steps = steps)\n",
    "best_rf = p.set_params(**hyperparam)\n",
    "best_rf.fit(X_train_scaled, y_train)"
   ]
  },
  {
   "cell_type": "code",
   "execution_count": 103,
   "id": "a4dd683c-1a4f-4924-92e9-f63f8d480741",
   "metadata": {},
   "outputs": [
    {
     "name": "stdout",
     "output_type": "stream",
     "text": [
      "Train ROC-AUC: 0.988104283407731\n",
      "Test ROC-AUC: 0.5079769554619986\n"
     ]
    }
   ],
   "source": [
    "y_hat = best_rf.predict(X_train_scaled)\n",
    "y_pred = best_rf.predict(X_test_scaled)\n",
    "\n",
    "print(\"Train ROC-AUC:\", metrics.roc_auc_score(y_train, y_hat))\n",
    "print(\"Test ROC-AUC:\", metrics.roc_auc_score(y_test, y_pred))"
   ]
  },
  {
   "cell_type": "code",
   "execution_count": 104,
   "id": "660e1281-dad5-48f1-9be9-6fd0ccab5933",
   "metadata": {},
   "outputs": [
    {
     "name": "stdout",
     "output_type": "stream",
     "text": [
      "Validation ROC-AUC: 0.5085804731756081\n",
      "Precision: 0.010400939439691326\n",
      "Recall: 1.0\n"
     ]
    },
    {
     "data": {
      "text/plain": [
       "<sklearn.metrics._plot.confusion_matrix.ConfusionMatrixDisplay at 0x1a9a513ea90>"
      ]
     },
     "execution_count": 104,
     "metadata": {},
     "output_type": "execute_result"
    },
    {
     "data": {
      "image/png": "[encoded data removed]",
      "text/plain": [
       "<Figure size 432x288 with 2 Axes>"
      ]
     },
     "metadata": {},
     "output_type": "display_data"
    }
   ],
   "source": [
    "#Validation Set\n",
    "df_val_y = df_val['targetrisk']\n",
    "df_val_x = df_val.drop(['targetrisk', 'ID'], axis = 1)\n",
    "df_val_X = ss.transform(df_val_x)\n",
    "\n",
    "y_pred = best_rf.predict(df_val_X)\n",
    "print(\"Validation ROC-AUC:\", metrics.roc_auc_score(df_val_y, y_pred))\n",
    "print(\"Precision:\", metrics.precision_score(df_val_y, y_pred))\n",
    "print(\"Recall:\", metrics.recall_score(df_val_y, y_pred))\n",
    "\n",
    "# Create the confusion matrix\n",
    "cm = metrics.confusion_matrix(df_val_y, y_pred)\n",
    "metrics.ConfusionMatrixDisplay(confusion_matrix=cm).plot()"
   ]
  },
  {
   "cell_type": "markdown",
   "id": "c9dea221-5b79-4546-9094-b4f5213b1416",
   "metadata": {},
   "source": [
    "# Modeling with XGBoost"
   ]
  },
  {
   "cell_type": "code",
   "execution_count": 105,
   "id": "fc79aa7e-7c82-460a-b319-069bd8dd942a",
   "metadata": {},
   "outputs": [],
   "source": [
    "y = df_training['targetrisk']\n",
    "X = df_training.drop(['targetrisk', 'ID'], axis = 1)\n",
    "\n",
    "X_train, X_test, y_train, y_test = train_test_split(X, y, test_size=0.3, random_state=1, stratify = y)\n",
    "\n",
    "ss = StandardScaler()\n",
    "X_train_scaled = ss.fit_transform(X_train)\n",
    "X_test_scaled = ss.fit_transform(X_test)"
   ]
  },
  {
   "cell_type": "code",
   "execution_count": 106,
   "id": "e278853c-d757-4ddf-bab0-da49524479af",
   "metadata": {},
   "outputs": [],
   "source": [
    "over_samp = SMOTE(sampling_strategy=0.3)\n",
    "under_samp = RandomUnderSampler(sampling_strategy=0.5)\n",
    "model = xgb.XGBClassifier()\n",
    "steps = [('o', over_samp), ('u', under_samp), ('model', model)]"
   ]
  },
  {
   "cell_type": "code",
   "execution_count": 107,
   "id": "d978a83a-09cc-409a-83d2-23808a9e4745",
   "metadata": {},
   "outputs": [
    {
     "name": "stdout",
     "output_type": "stream",
     "text": [
      "126.09580838323353\n"
     ]
    }
   ],
   "source": [
    "#Reference https://stats.stackexchange.com/questions/243207/what-is-the-proper-usage-of-scale-pos-weight-in-xgboost-for-imbalanced-datasets\n",
    "#https://stackoverflow.com/questions/65304302/how-can-i-know-which-is-the-positive-class-value-and-negative-class-value-for-xg#:~:text=For%20binary%20classification%20imbalanced%20dataset,majority%20class%20(class%200).\n",
    "counter = Counter(y_train)\n",
    "estimate = (counter[0] / counter[1])\n",
    "print(estimate)"
   ]
  },
  {
   "cell_type": "code",
   "execution_count": 108,
   "id": "b204ae7a-9bc1-406e-b636-189b400abab8",
   "metadata": {},
   "outputs": [
    {
     "name": "stdout",
     "output_type": "stream",
     "text": [
      "100%|██████████| 200/200 [1:19:31<00:00, 23.86s/trial, best loss: -0.7324650980682229]\n"
     ]
    }
   ],
   "source": [
    "param_dist = {'model__n_estimators': scope.int(hp.quniform('model__n_estimators', 50, 2000, 10)),  \n",
    "              'model__max_depth': scope.int(hp.quniform('model__max_depth', 3, 30, 1)),  \n",
    "              'model__min_child_weight': hp.uniform('model__min_child_weight', 0.01, 10), \n",
    "              'model__min_split_loss': hp.uniform('model__min_split_loss', 0.1, 9),\n",
    "              'model__learning_rate': hp.uniform('model__learning_rate', 0.01, 0.4),\n",
    "              'model__reg_alpha' : hp.uniform('model__reg_alpha', 0.01, 10),\n",
    "              'model__reg_lambda' : hp.uniform('model__reg_lambda', 0.01,10),\n",
    "              'model__max_delta_step': scope.int(hp.uniform('model__max_delta_step', 0, 10)),\n",
    "              'model__subsample': hp.uniform('model__subsample', 0.5, 1),\n",
    "              'model__colsample_bytree': hp.uniform('model__colsample_bytree', 0.2, 0.8),\n",
    "              'model__pos_weight': hp.choice('model_pos_weight', [estimate]),\n",
    "             'model__eval_metric': hp.choice('model__eval_metric', ['auc'])}\n",
    "\n",
    "score_history = []\n",
    "def Objective(params):\n",
    "    p = Pipeline(steps = steps)\n",
    "    model = p.set_params(**params)\n",
    "    score = cross_val_score(model, X_train_scaled, y_train, cv = 3, n_jobs = -1, scoring = 'roc_auc', verbose = False).mean()\n",
    "    score_history.append(score)\n",
    "    return {'loss':-score,'status': STATUS_OK, 'model': model}\n",
    "\n",
    "trials = Trials()\n",
    "best = fmin(fn=Objective, space=param_dist, algo=tpe.suggest, max_evals=200, trials=trials, rstate=np.random.default_rng(random_state))"
   ]
  },
  {
   "cell_type": "code",
   "execution_count": 109,
   "id": "2f1c59f6-e5af-4b21-8902-229704d3a45d",
   "metadata": {},
   "outputs": [
    {
     "data": {
      "image/png": "[encoded data removed]",
      "text/plain": [
       "<Figure size 864x432 with 1 Axes>"
      ]
     },
     "metadata": {},
     "output_type": "display_data"
    }
   ],
   "source": [
    "figure = plt.subplots(figsize = (12, 6))\n",
    "plt.plot(score_history, 'o-', color = 'orange')\n",
    "plt.xlabel(\"Iterations\")\n",
    "plt.ylabel(\"ROC_AUC\")\n",
    "plt.title(\"Score History\")\n",
    "plt.show()"
   ]
  },
  {
   "cell_type": "code",
   "execution_count": 110,
   "id": "a8475c82-2a18-4636-addd-a0f91abc6070",
   "metadata": {},
   "outputs": [],
   "source": [
    "hyperparam = space_eval(param_dist, best)"
   ]
  },
  {
   "cell_type": "code",
   "execution_count": 111,
   "id": "b3c21ffd-9306-4dfc-82e9-c8192c2ad6e7",
   "metadata": {},
   "outputs": [
    {
     "name": "stdout",
     "output_type": "stream",
     "text": [
      "[07:28:59] WARNING: C:\\buildkite-agent\\builds\\buildkite-windows-cpu-autoscaling-group-i-07593ffd91cd9da33-1\\xgboost\\xgboost-ci-windows\\src\\learner.cc:767: \n",
      "Parameters: { \"pos_weight\" } are not used.\n",
      "\n"
     ]
    },
    {
     "data": {
      "text/plain": [
       "Pipeline(steps=[('o', SMOTE(sampling_strategy=0.3)),\n",
       "                ('u', RandomUnderSampler(sampling_strategy=0.5)),\n",
       "                ('model',\n",
       "                 XGBClassifier(base_score=None, booster=None, callbacks=None,\n",
       "                               colsample_bylevel=None, colsample_bynode=None,\n",
       "                               colsample_bytree=0.639874717318065,\n",
       "                               early_stopping_rounds=None,\n",
       "                               enable_categorical=False, eval_metric='auc',\n",
       "                               feature_types=None, gamma=None, gpu_...\n",
       "                               interaction_constraints=None,\n",
       "                               learning_rate=0.08091715381978952, max_bin=None,\n",
       "                               max_cat_threshold=None, max_cat_to_onehot=None,\n",
       "                               max_delta_step=5, max_depth=23, max_leaves=None,\n",
       "                               min_child_weight=0.8494132440302604,\n",
       "                               min_split_loss=0.8622782744727728, missing=nan,\n",
       "                               monotone_constraints=None, n_estimators=1220,\n",
       "                               n_jobs=None, num_parallel_tree=None,\n",
       "                               pos_weight=126.09580838323353, ...))])"
      ]
     },
     "execution_count": 111,
     "metadata": {},
     "output_type": "execute_result"
    }
   ],
   "source": [
    "p = Pipeline(steps = steps)\n",
    "best_rf = p.set_params(**hyperparam)\n",
    "best_rf.fit(X_train_scaled, y_train)"
   ]
  },
  {
   "cell_type": "code",
   "execution_count": 112,
   "id": "4ad11371-e906-4aad-a387-36c587e62487",
   "metadata": {},
   "outputs": [
    {
     "name": "stdout",
     "output_type": "stream",
     "text": [
      "Train ROC-AUC: 0.7326069202652724\n",
      "Test ROC-AUC: 0.5444826058054509\n"
     ]
    }
   ],
   "source": [
    "y_hat = best_rf.predict(X_train_scaled)\n",
    "y_pred = best_rf.predict(X_test_scaled)\n",
    "\n",
    "print(\"Train ROC-AUC:\", metrics.roc_auc_score(y_train, y_hat))\n",
    "print(\"Test ROC-AUC:\", metrics.roc_auc_score(y_test, y_pred))"
   ]
  },
  {
   "cell_type": "code",
   "execution_count": 113,
   "id": "8d0828e6-ea95-40b2-8c7d-2d195906cd2d",
   "metadata": {},
   "outputs": [
    {
     "name": "stdout",
     "output_type": "stream",
     "text": [
      "Validation ROC-AUC: 0.5479840053315561\n",
      "Precision: 0.01129737609329446\n",
      "Recall: 1.0\n"
     ]
    },
    {
     "data": {
      "text/plain": [
       "<sklearn.metrics._plot.confusion_matrix.ConfusionMatrixDisplay at 0x1a9a52fa940>"
      ]
     },
     "execution_count": 113,
     "metadata": {},
     "output_type": "execute_result"
    },
    {
     "data": {
      "image/png": "[encoded data removed]",
      "text/plain": [
       "<Figure size 432x288 with 2 Axes>"
      ]
     },
     "metadata": {},
     "output_type": "display_data"
    }
   ],
   "source": [
    "#Validation Set\n",
    "df_val_y = df_val['targetrisk']\n",
    "df_val_x = df_val.drop(['targetrisk', 'ID'], axis = 1)\n",
    "df_val_X = ss.transform(df_val_x)\n",
    "\n",
    "y_pred = best_rf.predict(df_val_X)\n",
    "print(\"Validation ROC-AUC:\", metrics.roc_auc_score(df_val_y, y_pred))\n",
    "print(\"Precision:\", metrics.precision_score(df_val_y, y_pred))\n",
    "print(\"Recall:\", metrics.recall_score(df_val_y, y_pred))\n",
    "\n",
    "# Create the confusion matrix\n",
    "cm = metrics.confusion_matrix(df_val_y, y_pred)\n",
    "metrics.ConfusionMatrixDisplay(confusion_matrix=cm).plot()"
   ]
  },
  {
   "cell_type": "code",
   "execution_count": null,
   "id": "94073304-fdf0-4588-8a83-4b7ce5719d1e",
   "metadata": {},
   "outputs": [],
   "source": []
  }
 ],
 "metadata": {
  "kernelspec": {
   "display_name": "Python 3 (ipykernel)",
   "language": "python",
   "name": "python3"
  },
  "language_info": {
   "codemirror_mode": {
    "name": "ipython",
    "version": 3
   },
   "file_extension": ".py",
   "mimetype": "text/x-python",
   "name": "python",
   "nbconvert_exporter": "python",
   "pygments_lexer": "ipython3",
   "version": "3.9.12"
  }
 },
 "nbformat": 4,
 "nbformat_minor": 5
}
